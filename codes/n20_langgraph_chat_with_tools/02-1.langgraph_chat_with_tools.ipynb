{
 "cells": [
  {
   "cell_type": "code",
   "execution_count": 41,
   "id": "824d5f7d",
   "metadata": {},
   "outputs": [],
   "source": [
    "from langchain_openai import ChatOpenAI\n",
    "from langchain_core.messages import HumanMessage\n",
    "from langgraph.graph import StateGraph, START, END\n",
    "from langgraph.graph.message import add_messages\n",
    "from typing_extensions import TypedDict\n",
    "from typing import Annotated, List\n",
    "from dotenv import load_dotenv\n",
    "import os"
   ]
  },
  {
   "cell_type": "code",
   "execution_count": 42,
   "id": "ade2f9b9",
   "metadata": {},
   "outputs": [],
   "source": [
    "load_dotenv()\n",
    "openai_model = os.getenv(\"OPENAI_MODEL\", \"gpt-4o-mini\")"
   ]
  },
  {
   "cell_type": "code",
   "execution_count": 56,
   "id": "bc2f05b3",
   "metadata": {},
   "outputs": [
    {
     "data": {
      "text/plain": [
       "[{'title': \"LangGraph Tutorial: Building Agents with LangChain's Agent Framework\",\n",
       "  'url': 'https://www.getzep.com/ai-agents/langgraph-tutorial',\n",
       "  'content': 'Concept | Description\\nWhat is LangGraph? | LangGraph is an AI agent framework that implements agent interactions as\\n      stateful graphs. Nodes represent functions or computational steps that are\\n      connected via edges. LangGraph maintains an agent state shared among all\\n      the nodes and edges.Unlike LangChain, LangGraph supports the implementation of more complex\\n      agentic workflows. Key features include built-in persistence, support for [...] As the name suggests, LangGraph is a graph workflow consisting of nodes and edges. The nodes implement functionality within the workflow while the edges control its direction.Â\\n\\nThe following diagram best explains how LangGraph works at a high level. [...] LangGraph is an AI agent framework built on LangChain that allows developers to create more sophisticated and flexible agent workflows. Unlike traditional LangChain chains and agents, LangGraph implements agent interactions as cyclic graphs with multiple-step processing involving branching and loops. This eliminates the need to implement custom logic to control the flow of information between multiple agents in the workflow.Â\\n\\nHow LangGraph works',\n",
       "  'score': 0.9645393},\n",
       " {'title': 'What is LangGraph and How to Use It for Building AI Agents',\n",
       "  'url': 'https://jstoppa.com/posts/artificial-intelligence/fundamentals/what-is-langgraph-and-how-to-use-it-for-building-ai-agents/post/',\n",
       "  'content': 'LangGraph is a framework that brings state machines to Large Language Model (LLM) applications. It’s particularly useful when you need to build complex, stateful applications with LLMs. The framework allows you to structure your application as a graph, where each node represents a specific task or state, and edges represent transitions between states.',\n",
       "  'score': 0.94785136},\n",
       " {'title': 'What is LangGraph? - Analytics Vidhya',\n",
       "  'url': 'https://www.analyticsvidhya.com/blog/2024/07/langgraph-revolutionizing-ai-agent/',\n",
       "  'content': 'To sum up, LangGraph is a major advancement in the development of AI agents. It enables developers to push the limits of what’s possible with AI agents by eliminating the shortcomings of earlier systems and offering a flexible, graph-based framework for agent construction and execution. LangGraph is positioned to influence the direction of artificial intelligence significantly in the future. [...] Frameworks such as LangGraph are becoming increasingly important as AI develops. LangGraph is making the next generation of AI applications possible by offering a versatile and strong framework for developing and overseeing AI agents. [...] In this way, we can add different kinds of tools to the LLM so that we can get our queries answered even if LLM alone can’t answer. Thus LLM agents will be far more useful in many scanarios.\\n\\nWhat LangGraph Offers?\\n\\nLangGraph offers a powerful toolset for building complex AI systems. It provides a framework for creating agentic systems that can reason, make decisions, and interact with multiple data sources. Key features include:\\n\\nReal-World Example of LangGraph',\n",
       "  'score': 0.947386},\n",
       " {'title': 'What is LangGraph? - IBM',\n",
       "  'url': 'https://www.ibm.com/think/topics/langgraph',\n",
       "  'content': 'LangGraph, created by LangChain, is an open source AI agent framework designed to build, deploy and manage complex generative AI agent workflows. It provides a set of tools and libraries that enable users to create, run and optimize large language models (LLMs) in a scalable and efficient manner. At its core, LangGraph uses the power of graph-based architectures to model and manage the intricate relationships between various components of an AI agent workflow. [...] Agent systems: LangGraph provides a framework for building agent-based systems, which can be used in applications such as robotics, autonomous vehicles or video games.\\n\\nLLM applications: By using LangGraph’s capabilities, developers can build more sophisticated AI models that learn and improve over time. Norwegian Cruise Line uses LangGraph to compile, construct and refine guest-facing AI solutions. This capability allows for improved and personalized guest experiences. [...] By using a graph-based architecture, LangGraph enables users to scale artificial intelligence workflows without slowing down or sacrificing efficiency. LangGraph uses enhanced decision-making by modeling complex relationships between nodes, which means it uses AI agents to analyze their past actions and feedback. In the world of LLMs, this process is referred to as reflection.',\n",
       "  'score': 0.94608605},\n",
       " {'title': \"Introduction to LangGraph: A Beginner's Guide - Medium\",\n",
       "  'url': 'https://medium.com/@cplog/introduction-to-langgraph-a-beginners-guide-14f9be027141',\n",
       "  'content': 'What is LangGraph?\\n==================\\n\\nLangGraph is a library built on top of LangChain, designed to add cyclic computational capabilities to your LLM applications. While LangChain allows you to define chains of computation (Directed Acyclic Graphs or DAGs), LangGraph introduces the ability to add cycles, enabling more complex, agent-like behaviors where you can call an LLM in a loop, asking it what action to take next.\\n\\nKey Concepts\\n============ [...] Conclusion\\n==========\\n\\nLangGraph is a versatile tool for building complex, stateful applications with LLMs. By understanding its core concepts and working through simple examples, beginners can start to leverage its power for their projects. Remember to pay attention to state management, conditional edges, and ensuring there are no dead-end nodes in your graph. Happy coding!\\n\\nLangchain\\n\\nLlm\\n\\nAI\\n\\nChatbots\\n\\nPython\\n\\n\\n--------------\\n\\n\\n\\nKiss Tibor (Cloud Mentor) he/him\\n\\nSep 20, 2024',\n",
       "  'score': 0.94174546}]"
      ]
     },
     "execution_count": 56,
     "metadata": {},
     "output_type": "execute_result"
    }
   ],
   "source": [
    "from langchain_community.tools.tavily_search import TavilySearchResults\n",
    "tool = TavilySearchResults(max_results=5)\n",
    "# tool = TavilySearchResults(max_results=1)\n",
    "# tool.invoke(\"LangGraph에서 '노드'란 무엇인가요?\")\n",
    "tool.invoke(\"What is LangGraph?\")"
   ]
  },
  {
   "cell_type": "code",
   "execution_count": 44,
   "id": "99e489cf",
   "metadata": {},
   "outputs": [],
   "source": [
    "class State(TypedDict):\n",
    "    messages: Annotated[list, add_messages]"
   ]
  },
  {
   "cell_type": "code",
   "execution_count": 45,
   "id": "f8973859",
   "metadata": {},
   "outputs": [],
   "source": [
    "llm = ChatOpenAI(model=openai_model)\n",
    "tools = [tool]\n",
    "llm_with_tools = llm.bind_tools(tools)"
   ]
  },
  {
   "cell_type": "code",
   "execution_count": 46,
   "id": "fbb758db",
   "metadata": {},
   "outputs": [
    {
     "data": {
      "text/plain": [
       "RunnableBinding(bound=ChatOpenAI(client=<openai.resources.chat.completions.completions.Completions object at 0xffffa64ff6d0>, async_client=<openai.resources.chat.completions.completions.AsyncCompletions object at 0xffffa6996f10>, root_client=<openai.OpenAI object at 0xffffa64fcd10>, root_async_client=<openai.AsyncOpenAI object at 0xffffa6991010>, model_name='gpt-4o-mini', model_kwargs={}, openai_api_key=SecretStr('**********')), kwargs={'tools': [{'type': 'function', 'function': {'name': 'tavily_search_results_json', 'description': 'A search engine optimized for comprehensive, accurate, and trusted results. Useful for when you need to answer questions about current events. Input should be a search query.', 'parameters': {'properties': {'query': {'description': 'search query to look up', 'type': 'string'}}, 'required': ['query'], 'type': 'object'}}}]}, config={}, config_factories=[])"
      ]
     },
     "execution_count": 46,
     "metadata": {},
     "output_type": "execute_result"
    }
   ],
   "source": [
    "llm_with_tools"
   ]
  },
  {
   "cell_type": "code",
   "execution_count": 47,
   "id": "6eb02f9d",
   "metadata": {},
   "outputs": [],
   "source": [
    "def chatbot(state: State):\n",
    "    response = llm_with_tools.invoke(state[\"messages\"])\n",
    "    return {\"messages\": [response]}"
   ]
  },
  {
   "cell_type": "code",
   "execution_count": 48,
   "id": "29741563",
   "metadata": {},
   "outputs": [],
   "source": [
    "from langchain_core.messages import ToolMessage\n",
    "import json\n",
    "\n",
    "class ToolNode:\n",
    "    def __init__(self, tools):\n",
    "        self.tools_by_name = {tool.name: tool for tool in tools}\n",
    "\n",
    "    def __call__(self, inputs):\n",
    "        if messages := inputs.get(\"messages\", []):\n",
    "            message = messages[-1]\n",
    "        else:\n",
    "            raise ValueError(\"No messages found in inputs.\")\n",
    "        outputs = []\n",
    "        for tool_call in message.tool_calls:\n",
    "            tool_result = self.tools_by_name[tool_call['name']].invoke(tool_call['args'])\n",
    "            tool_message = ToolMessage(\n",
    "                content=json.dumps(tool_result),\n",
    "                name=tool_call['name'],\n",
    "                tool_call_id=tool_call['id'],\n",
    "            )\n",
    "            outputs.append(tool_message)\n",
    "        return {\"messages\": outputs}\n",
    "\n",
    "tool_node = ToolNode(tools)"
   ]
  },
  {
   "cell_type": "code",
   "execution_count": 49,
   "id": "83dad861",
   "metadata": {},
   "outputs": [],
   "source": [
    "def tools_condition(state):\n",
    "    if isinstance(state, list):\n",
    "        ai_message = state[-1]\n",
    "    elif messages := state.get(\"messages\", []):\n",
    "        ai_message = messages[-1]\n",
    "    else:\n",
    "        raise ValueError(f\"No messages found in input state to tool_edge: {state}\")\n",
    "    if hasattr(ai_message, \"tool_calls\") and len(ai_message.tool_calls) > 0:\n",
    "        return 'tools'\n",
    "    return END"
   ]
  },
  {
   "cell_type": "code",
   "execution_count": 50,
   "id": "3f0465ad",
   "metadata": {},
   "outputs": [],
   "source": [
    "workflow = StateGraph(State)\n",
    "workflow.add_edge(START, \"chatbot\")\n",
    "workflow.add_node(\"chatbot\", chatbot)   # Agent node\n",
    "workflow.add_node(\"tools\", tool_node)   # Tool node\n",
    "workflow.add_conditional_edges(\"chatbot\", tools_condition, {\"tools\": \"tools\", END: END})\n",
    "workflow.add_edge(\"tools\", \"chatbot\")\n",
    "# workflow.add_edge(\"chatbot\", END)\n",
    "graph = workflow.compile()"
   ]
  },
  {
   "cell_type": "code",
   "execution_count": 51,
   "id": "549a905f",
   "metadata": {},
   "outputs": [
    {
     "data": {
      "image/png": "[encoded data removed]",
      "text/plain": [
       "<IPython.core.display.Image object>"
      ]
     },
     "metadata": {},
     "output_type": "display_data"
    }
   ],
   "source": [
    "from IPython.display import Image, display\n",
    "display(Image(graph.get_graph().draw_mermaid_png()))"
   ]
  },
  {
   "cell_type": "code",
   "execution_count": 52,
   "id": "e29a3793",
   "metadata": {},
   "outputs": [
    {
     "name": "stdout",
     "output_type": "stream",
     "text": [
      "4\n",
      "LangGraph에서 '노드'는 AI 워크플로우 내의 개별 구성 요소나 에이전트를 나타내는 단위입니다. 노드는 AI 프로세스에서 서로 상호작용하며 특정 작업을 수행하는 \"행위자\"로 볼 수 있습니다. 예를 들어, 노드는 외부 API를 호출하거나 정보를 처리하는 등의 작업을 수행하는 Python 함수로 정의될 수 있습니다.\n",
      "\n",
      "노드는 LangGraph에서 중요한 역할을 하며, 각 노드는 그래프의 상태를 입력으로 받아 실행된 후 업데이트된 상태를 반환합니다. 이렇게 노드는 복잡한 관계를 모델링하고 효과적인 의사결정 시스템을 구축할 수 있는 프레임워크를 제공합니다. 노드 간의 연결은 그래프 내의 에저(edge)를 통해 이루어지며, 이는 전반적인 프로세스의 방향성을 제어합니다.\n",
      "\n",
      "기본적으로, 노드는 간단한 Python 함수에서 복잡한 독립형 에이전트까지 다양할 수 있으며, LangGraph는 노드를 통해 복잡한 AI 에이전트의 워크플로우를 구현할 수 있는 기능을 제공합니다.\n"
     ]
    }
   ],
   "source": [
    "user_input = \"LangGraph에서 '노드'란 무엇인가요?\"\n",
    "state = {\"messages\": [HumanMessage(content=user_input)]}\n",
    "response = graph.invoke(state)\n",
    "print(len(response[\"messages\"]))\n",
    "print(response[\"messages\"][-1].content)"
   ]
  },
  {
   "cell_type": "code",
   "execution_count": 55,
   "id": "92d06c3c",
   "metadata": {},
   "outputs": [
    {
     "name": "stdout",
     "output_type": "stream",
     "text": [
      "Message 0: LangGraph에서 '노드'란 무엇인가요?\n",
      "Message 1: \n",
      "Message 2: [{\"title\": \"What is LangGraph? - IBM\", \"url\": \"https://www.ibm.com/think/topics/langgraph\", \"content\": \"Nodes: In LangGraph, nodes represent individual components or agents within an AI workflow. Nodes can be thought of as \\u201cactors\\u201d that interact with each other in a specific way. For example,to add nodes for tool calling, one can use the ToolNode. Another example, the next node, refers to the node that will be executed following the current one. [...] LangGraph, created by LangChain, is an open source AI agent framework designed to build, deploy and manage complex generative AI agent workflows. It provides a set of tools and libraries that enable users to create, run and optimize large language models (LLMs) in a scalable and efficient manner. At its core, LangGraph uses the power of graph-based architectures to model and manage the intricate relationships between various components of an AI agent workflow. [...] Enhanced decision-making: By modeling complex relationships between nodes, LangGraph provides a framework for building more effective decision-making systems.\\n\\nIncreased flexibility: An open source nature and modular design for developers to integrate new components and adapt existing workflows.\", \"score\": 0.8652358}, {\"title\": \"LangGraph Tutorial with Practical Example\", \"url\": \"https://www.gettingstarted.ai/langgraph-tutorial-with-example/\", \"content\": \"Nodes are defined as Python functions that can perform a set of actions. For example, a node can integrate with a large language model, process information, call an external API, or any other task.\\n\\nA LangGraph node takes the state of the graph as a parameter and returns an updated state after it is executed.\\n\\nHere's an example of a basic node, a Python function:\\n\\n```python\\nfrom langchain_openai import ChatOpenAI\\n\\n...\\n\\nllm = ChatOpenAI(model_name=\\\"gpt-4o\\\")\", \"score\": 0.8622012}, {\"title\": \"1-3-3. \\ub178\\ub4dc (Node) - LangGraph \\uac00\\uc774\\ub4dc\\ubd81 - \\uc704\\ud0a4\\ub3c5\\uc2a4\", \"url\": \"https://wikidocs.net/261580\", \"content\": \"Published with WikiDocs\\n\\n1.   LangGraph \\uac00\\uc774\\ub4dc\\ubd81 - \\uc5d0\\uc774\\uc804\\ud2b8 RA\\u2026\\n2.   Part 1. \\ub7ad\\uadf8\\ub798\\ud504 LangGraph \\uae30\\ucd08\\n3.   1-3. StateGraph \\uc774\\ud574\\ud558\\uae30\\n4.   1-3-3. \\ub178\\ub4dc (Node)\\n\\n1.   \\uc704\\ud0a4\\ub3c5\\uc2a4\\n\\n1-3-3. \\ub178\\ub4dc (Node)\\n================\\n\\nLangGraph\\uc758 \\ub178\\ub4dc(Node) \\uc774\\ud574\\ud558\\uae30\\n========================\\n\\n\\ub178\\ub4dc\\uc758 \\uac1c\\ub150\\n------\\n\\n   \\ub178\\ub4dc\\ub294 LangGraph\\uc5d0\\uc11c \\uc2e4\\uc81c \\uc791\\uc5c5\\uc744 \\uc218\\ud589\\ud558\\ub294 \\ub2e8\\uc704\\uc785\\ub2c8\\ub2e4.\\n   \\uac01 \\ub178\\ub4dc\\ub294 \\ud2b9\\uc815 \\uae30\\ub2a5\\uc744 \\uc218\\ud589\\ud558\\ub294 Python \\ud568\\uc218\\ub85c \\uad6c\\ud604\\ub429\\ub2c8\\ub2e4.\\n   \\ub178\\ub4dc\\ub294 \\ud604\\uc7ac \\uc0c1\\ud0dc\\ub97c \\uc785\\ub825\\uc73c\\ub85c \\ubc1b\\uc544 \\ucc98\\ub9ac\\ud558\\uace0, \\uc5c5\\ub370\\uc774\\ud2b8\\ub41c \\uc0c1\\ud0dc\\ub97c \\ucd9c\\ub825\\ud569\\ub2c8\\ub2e4.\\n\\n```python\\nCopydef increment(state):\\n    return {\\\"counter\\\": state[\\\"counter\\\"] + 1}\\n\\ngraph.add_node(\\\"increment\\\", increment)\\n``` [...] \\uc0c1\\ud0dc \\ucc98\\ub9ac: \\ub178\\ub4dc\\ub294 \\ud604\\uc7ac \\uc0c1\\ud0dc\\ub97c \\ubc1b\\uc544 \\ud544\\uc694\\ud55c \\uc791\\uc5c5\\uc744 \\uc218\\ud589\\ud569\\ub2c8\\ub2e4.\\n   \\ub85c\\uc9c1 \\uc2e4\\ud589: \\uc774 \\uc608\\uc5d0\\uc11c\\ub294 \\uce74\\uc6b4\\ud130\\ub97c \\uc99d\\uac00\\uc2dc\\ud0a4\\ub294 \\uac04\\ub2e8\\ud55c \\ub85c\\uc9c1\\uc744 \\uc218\\ud589\\ud569\\ub2c8\\ub2e4.\\n   \\uc0c1\\ud0dc \\uc5c5\\ub370\\uc774\\ud2b8: \\uc791\\uc5c5 \\uacb0\\uacfc\\ub97c \\ubc14\\ud0d5\\uc73c\\ub85c \\uc0c8\\ub85c\\uc6b4 \\uc0c1\\ud0dc\\ub97c \\uc0dd\\uc131\\ud558\\uc5ec \\ubc18\\ud658\\ud569\\ub2c8\\ub2e4.\\n\\n\\uc774\\ub807\\uac8c \\uc815\\uc758\\ub41c \\ub178\\ub4dc\\ub294 \\uadf8\\ub798\\ud504 \\ub0b4\\uc5d0\\uc11c \\ud558\\ub098\\uc758 \\uc791\\uc5c5 \\ub2e8\\uc704\\ub85c \\ub3d9\\uc791\\ud558\\uba70, \\uadf8\\ub798\\ud504\\uc758 \\uc804\\uccb4 \\ud750\\ub984\\uc5d0 \\ub530\\ub77c \\uc21c\\ucc28\\uc801\\uc73c\\ub85c \\ub610\\ub294 \\uc870\\uac74\\uc5d0 \\ub530\\ub77c \\uc2e4\\ud589\\ub429\\ub2c8\\ub2e4.\\n\\n  \\n\\n \\ub9c8\\uc9c0\\ub9c9 \\ud3b8\\uc9d1\\uc77c\\uc2dc : 2024\\ub144 10\\uc6d4 6\\uc77c 4:19 \\uc624\\ud6c4 \\n\\n\\ub313\\uae00 0;)\\ud53c\\ub4dc\\ubc31\\n\\n\\u203b \\ub313\\uae00 \\uc791\\uc131\\uc740 \\ub85c\\uadf8\\uc778\\uc774 \\ud544\\uc694\\ud569\\ub2c8\\ub2e4.(\\ub610\\ub294 \\ud53c\\ub4dc\\ubc31\\uc744 \\uc774\\uc6a9\\ud574 \\uc8fc\\uc138\\uc694.)\\n\\n   \\uc774\\uc804\\uae00 : 1-3-2. \\uc0c1\\ud0dc (State))\\n   \\ub2e4\\uc74c\\uae00 : 1-3-4. \\uc5e3\\uc9c0 (Edge))\\n\\n))\\n\\n\\u00d7\\n### \\uc774 \\ud398\\uc774\\uc9c0\\uc5d0 \\ub300\\ud55c \\ud53c\\ub4dc\\ubc31\\uc744 \\ub0a8\\uaca8\\uc8fc\\uc138\\uc694\\n\\n\\ub2f5\\uc7a5\\ubc1b\\uc744 \\uc774\\uba54\\uc77c \\uc8fc\\uc18c \\n\\n\\ud558\\uace0 \\uc2f6\\uc740 \\ub9d0 \\n\\n\\u203b \\ud53c\\ub4dc\\ubc31\\uc740 \\uc800\\uc790\\uc5d0\\uac8c e-\\uba54\\uc77c\\ub85c \\uc804\\ub2ec\\ub429\\ub2c8\\ub2e4.\\n\\nClose \\uc804\\uc1a1\\ud558\\uae30\\n\\n\\u00d7\\n### \\ub313\\uae00\\uc744 \\uc2e0\\uace0\\ud569\\ub2c8\\ub2e4. [...] ### \\ucf54\\ub4dc \\uc124\\uba85\\n\\n1. \\ub178\\ub4dc \\ud568\\uc218 \\uc815\\uc758: \\n\\n```python\\nCopydef increment(state):\\n   return {\\\"counter\\\": state[\\\"counter\\\"] + 1}\\n```\\n\\n   `increment`\\ub77c\\ub294 \\ud568\\uc218\\ub97c \\uc815\\uc758\\ud569\\ub2c8\\ub2e4.\\n   \\uc774 \\ud568\\uc218\\ub294 `state`\\ub77c\\ub294 \\ub9e4\\uac1c\\ubcc0\\uc218\\ub97c \\ubc1b\\uc2b5\\ub2c8\\ub2e4. \\uc774\\ub294 \\ud604\\uc7ac\\uc758 \\uadf8\\ub798\\ud504 \\uc0c1\\ud0dc\\uc785\\ub2c8\\ub2e4.\\n   \\ud568\\uc218\\ub294 `state`\\uc758 `counter` \\uac12\\uc744 1 \\uc99d\\uac00\\uc2dc\\ud0a8 \\uc0c8\\ub85c\\uc6b4 \\uc0c1\\ud0dc\\ub97c \\ubc18\\ud658\\ud569\\ub2c8\\ub2e4.\\n\\n2. \\uadf8\\ub798\\ud504\\uc5d0 \\ub178\\ub4dc \\ucd94\\uac00:\\n\\n```python\\nCopygraph.add_node(\\\"increment\\\", increment)\\n```\\n\\n   `add_node` \\uba54\\uc11c\\ub4dc\\ub97c \\uc0ac\\uc6a9\\ud558\\uc5ec \\uc815\\uc758\\ud55c \\ud568\\uc218\\ub97c \\uadf8\\ub798\\ud504\\uc758 \\ub178\\ub4dc\\ub85c \\ucd94\\uac00\\ud569\\ub2c8\\ub2e4.\\n   \\uccab \\ubc88\\uc9f8 \\uc778\\uc790 `\\\"increment\\\"`\\ub294 \\ub178\\ub4dc\\uc758 \\uc774\\ub984\\uc785\\ub2c8\\ub2e4.\\n   \\ub450 \\ubc88\\uc9f8 \\uc778\\uc790 `increment`\\ub294 \\uc55e\\uc11c \\uc815\\uc758\\ud55c \\ud568\\uc218\\uc785\\ub2c8\\ub2e4.\\n\\n\\ub178\\ub4dc\\uc758 \\uc5ed\\ud560\\n------\", \"score\": 0.84027237}, {\"title\": \"LangGraph Tutorial: Building LLM Agents with LangChain's ... - Zep\", \"url\": \"https://www.getzep.com/ai-agents/langgraph-tutorial\", \"content\": \"Concept | Description\\nWhat is LangGraph? | LangGraph is an AI agent framework that implements agent interactions as\\n      stateful graphs. Nodes represent functions or computational steps that are\\n      connected via edges. LangGraph maintains an agent state shared among all\\n      the nodes and edges.Unlike LangChain, LangGraph supports the implementation of more complex\\n      agentic workflows. Key features include built-in persistence, support for [...] As the name suggests, LangGraph is a graph workflow consisting of nodes and edges. The nodes implement functionality within the workflow while the edges control its direction.\\u00c2\\n\\nThe following diagram best explains how LangGraph works at a high level. [...] Understanding nodes, edges, and state\\n\\nIf you are new to LangGraph, you must understand a few terms before creating an agent: nodes, edges, and state.\\n\\nNodes\\n\\nNodes are the building blocks of your agents and represent a discrete computation unit within your agent\\u00e2\\u0080\\u0099s workflow. A node can be as simple as a small Python function or as complex as an independent agent that calls external tools.\\u00c2\\n\\nEdges\", \"score\": 0.8335554}, {\"title\": \"Introduction to LangGraph: A Beginner's Guide - Medium\", \"url\": \"https://medium.com/@cplog/introduction-to-langgraph-a-beginners-guide-14f9be027141\", \"content\": \"Stateful Graph: LangGraph revolves around the concept of a stateful graph, where each node in the graph represents a step in your computation, and the graph maintains a state that is passed around and updated as the computation progresses.\\n   Nodes: Nodes are the building blocks of your LangGraph. Each node represents a function or a computation step. You define nodes to perform specific tasks, such as processing input, making decisions, or interacting with external APIs.\", \"score\": 0.8098936}]\n",
      "Message 3: LangGraph에서 '노드'는 AI 워크플로우 내의 개별 구성 요소나 에이전트를 나타내는 단위입니다. 노드는 AI 프로세스에서 서로 상호작용하며 특정 작업을 수행하는 \"행위자\"로 볼 수 있습니다. 예를 들어, 노드는 외부 API를 호출하거나 정보를 처리하는 등의 작업을 수행하는 Python 함수로 정의될 수 있습니다.\n",
      "\n",
      "노드는 LangGraph에서 중요한 역할을 하며, 각 노드는 그래프의 상태를 입력으로 받아 실행된 후 업데이트된 상태를 반환합니다. 이렇게 노드는 복잡한 관계를 모델링하고 효과적인 의사결정 시스템을 구축할 수 있는 프레임워크를 제공합니다. 노드 간의 연결은 그래프 내의 에저(edge)를 통해 이루어지며, 이는 전반적인 프로세스의 방향성을 제어합니다.\n",
      "\n",
      "기본적으로, 노드는 간단한 Python 함수에서 복잡한 독립형 에이전트까지 다양할 수 있으며, LangGraph는 노드를 통해 복잡한 AI 에이전트의 워크플로우를 구현할 수 있는 기능을 제공합니다.\n"
     ]
    }
   ],
   "source": [
    "for i, message in enumerate(response[\"messages\"]):\n",
    "    print(f\"Message {i}: {message.content}\")\n",
    "    # if hasattr(message, \"tool_calls\"):\n",
    "    #     for tool_call in message.tool_calls:\n",
    "    #         print(f\"Tool call: {tool_call['name']}, Args: {tool_call['args']}\")"
   ]
  },
  {
   "cell_type": "code",
   "execution_count": null,
   "id": "cd465200",
   "metadata": {},
   "outputs": [],
   "source": []
  }
 ],
 "metadata": {
  "kernelspec": {
   "display_name": "Python 3",
   "language": "python",
   "name": "python3"
  },
  "language_info": {
   "codemirror_mode": {
    "name": "ipython",
    "version": 3
   },
   "file_extension": ".py",
   "mimetype": "text/x-python",
   "name": "python",
   "nbconvert_exporter": "python",
   "pygments_lexer": "ipython3",
   "version": "3.11.13"
  }
 },
 "nbformat": 4,
 "nbformat_minor": 5
}
