{
 "cells": [
  {
   "cell_type": "code",
   "execution_count": 1,
   "id": "0f3712eb",
   "metadata": {},
   "outputs": [],
   "source": [
    "from langchain_openai import ChatOpenAI\n",
    "from langchain_core.messages import HumanMessage\n",
    "from langgraph.graph import StateGraph, START, END\n",
    "from langgraph.graph.message import add_messages\n",
    "from typing_extensions import TypedDict\n",
    "from typing import Annotated, List\n",
    "from dotenv import load_dotenv\n",
    "import os"
   ]
  },
  {
   "cell_type": "code",
   "execution_count": 2,
   "id": "1215f317",
   "metadata": {},
   "outputs": [],
   "source": [
    "load_dotenv()\n",
    "openai_model = os.getenv(\"OPENAI_MODEL\", \"gpt-4o-mini\")"
   ]
  },
  {
   "cell_type": "code",
   "execution_count": 3,
   "id": "a3867f6d",
   "metadata": {},
   "outputs": [
    {
     "data": {
      "text/plain": [
       "[{'title': 'LangGraph 쉽게 이해하기: 초보자를 위한 가이드 - 메모리허브',\n",
       "  'url': 'https://memoryhub.tistory.com/entry/LangGraph-%EC%89%BD%EA%B2%8C-%EC%9D%B4%ED%95%B4%ED%95%98%EA%B8%B0-%EC%B4%88%EB%B3%B4%EC%9E%90%EB%A5%BC-%EC%9C%84%ED%95%9C-%EA%B0%80%EC%9D%B4%EB%93%9C-%F0%9F%8C%9F',\n",
       "  'content': '메모리허브\\n\\n300===Dev Framework/Langgraph\\n\\nLangGraph 쉽게 이해하기: 초보자를 위한 가이드 🌟\\n\\n안녕하세요! 오늘은 LLM 애플리케이션 개발에 큰 도움이 되는 LangGraph를 정말 쉽게 설명해 드릴게요. 처음부터 차근차근 알아봅시다!\\n\\nLangGraph란 무엇인가요? 🤔\\n\\n여러분이 좋아하는 요리 레시피를 생각해보세요:\\n\\nLangGraph는 바로 이런 레시피 같은 도구예요! AI 애플리케이션이 따라갈 단계와 흐름을 정해주는 거죠. 🍳\\n\\n쉽게 말해서, LangGraph는:\\n\\nLangGraph의 기본 구성요소 📚\\n\\n1. 노드(Nodes): 할 일들\\n\\n레시피의 \"야채 썰기\", \"고기 볶기\" 같은 각 작업 단계예요.\\n\\n2. 에지(Edges): 단계들 사이의 연결\\n\\n\"야채 썬 후에 고기 볶기\", \"소스 넣은 후 간 맞추기\" 같은 순서를 정해주는 거예요.\\n\\n3. 상태(State): 정보 보관함',\n",
       "  'score': 0.85995835},\n",
       " {'title': '23화 22. LangGraph 기본과 응용',\n",
       "  'url': 'https://brunch.co.kr/@@hqFh/132',\n",
       "  'content': 'LangGraph(랭그래프)는 에이전트와 도구의 처리를 노드로 표현하고 노드 간의 연결을 엣지로 표현합니다. 가장자리는 다음에 실행할 노드를 지정합니다. LangGraph(랭그래프)는 노드와 엣지를 결합하여 멀티 에이전트 구현에 적합한 워크플로우를 표현합니다.\\n\\n예를 들어, 아래 그림은 LangGraph(랭그래프)를 사용하여 소프트웨어 개발팀을 멀티에이전트로 구현하는 그래프입니다. 리더(Leader), 프로그래머(Programmer), 테스터(TestWriter), 평가자(Evaluator)의 4가지 에이전트가 노드로 표현됩니다. [...] 다음으로 각 노드의 처리를 함수로 정의합니다. LangGraph(랭그래프)는 각 노드의 처리를 Python함수 또는 Runnable객체로 정의합니다. 이 함소 또는 Runnable객체의 인수는 상태정의에 지정된 유형과 일치해야 합니다. 또한 반환값은 상태를 업데이트하기 위해 사전을 반환해야 합니다. 그러면, 각 처리를 정의하는 것으로 실제로 확인해 갑니다.\\n\\nDeposit노드는 사용자의 입금을 수락하고 total, count, last\\\\_deposit을 업데이트합니다. [...] You can make anything  \\nby writing\\n\\nC.S.Lewis\\n\\n프로젝트 리스트 바로가기\\n\\n# 22. LangGraph 기본과 응용\\n\\nLLM 시대, LangChain(랭체인)으로 배우는 AI 소프트웨어 개발\\n\\n## (1) LangGraph(랭그래프)란?\\n\\nLangGraph(랭그래프)는 LangChain(랭체인)을 기반으로 하는 에이전트 프레임워크입니다. LangGraph(랭그래프)의 주요 특징은 복잡한 제어구조를 가진 워크플로우를 유연하게 표현할 수 있다는 점입니다. 이는 LangGraph(랭그래프)가 워크플로우 표현에 그래프를 채택하고 있기 때문입니다. 여기서 그래프란, 노드(정점)과 엣지(변)로 이루어지는 수학적 구조로 요소간에 관계성을 표현하는데 사용됩니다.',\n",
       "  'score': 0.85567063}]"
      ]
     },
     "execution_count": 3,
     "metadata": {},
     "output_type": "execute_result"
    }
   ],
   "source": [
    "from langchain_community.tools.tavily_search import TavilySearchResults\n",
    "tool = TavilySearchResults(max_results=2)\n",
    "tool.invoke(\"LangGraph에서 '노드'란 무엇인가요?\")"
   ]
  },
  {
   "cell_type": "code",
   "execution_count": 4,
   "id": "e4e263f2",
   "metadata": {},
   "outputs": [],
   "source": [
    "class State(TypedDict):\n",
    "    messages: Annotated[list, add_messages]"
   ]
  },
  {
   "cell_type": "code",
   "execution_count": 5,
   "id": "4955bfe0",
   "metadata": {},
   "outputs": [],
   "source": [
    "llm = ChatOpenAI(model=openai_model)\n",
    "tools = [tool]\n",
    "llm_with_tools = llm.bind_tools(tools)"
   ]
  },
  {
   "cell_type": "code",
   "execution_count": 6,
   "id": "d2344df2",
   "metadata": {},
   "outputs": [],
   "source": [
    "def chatbot(state: State):\n",
    "    response = llm_with_tools.invoke(state[\"messages\"])\n",
    "    return {\"messages\": [response]}"
   ]
  },
  {
   "cell_type": "code",
   "execution_count": 7,
   "id": "697d21c1",
   "metadata": {},
   "outputs": [],
   "source": [
    "from langgraph.prebuilt import ToolNode\n",
    "tool_node = ToolNode(tools)"
   ]
  },
  {
   "cell_type": "code",
   "execution_count": 8,
   "id": "677ef62c",
   "metadata": {},
   "outputs": [],
   "source": [
    "from langgraph.prebuilt import tools_condition"
   ]
  },
  {
   "cell_type": "code",
   "execution_count": 9,
   "id": "14948ad6",
   "metadata": {},
   "outputs": [],
   "source": [
    "workflow = StateGraph(State)\n",
    "workflow.add_node(\"chatbot\", chatbot)\n",
    "workflow.add_node(\"tools\", tool_node)\n",
    "workflow.add_conditional_edges(\"chatbot\", tools_condition)\n",
    "workflow.add_edge(\"tools\", \"chatbot\")\n",
    "workflow.set_entry_point(\"chatbot\")\n",
    "graph = workflow.compile()"
   ]
  },
  {
   "cell_type": "code",
   "execution_count": 10,
   "id": "9e2b5fd4",
   "metadata": {},
   "outputs": [
    {
     "data": {
      "image/png": "[encoded data removed]",
      "text/plain": [
       "<IPython.core.display.Image object>"
      ]
     },
     "metadata": {},
     "output_type": "display_data"
    }
   ],
   "source": [
    "from IPython.display import Image, display\n",
    "display(Image(graph.get_graph().draw_mermaid_png()))"
   ]
  },
  {
   "cell_type": "code",
   "execution_count": 11,
   "id": "09bbccd6",
   "metadata": {},
   "outputs": [
    {
     "name": "stdout",
     "output_type": "stream",
     "text": [
      "LangGraph에서 '노드'는 그래프에서 실제 작업을 수행하는 단위입니다. 각 노드는 특정 로직을 담당하며, Python 함수로 구현되어 현재 그래프 상태를 입력으로 받아 작업을 수행하고, 그 상태에 대한 업데이트를 반환합니다. 노드는 그래프의 흐름에서 중요한 역할을 하며, 노드 간의 연결은 '엣지'를 통해 정의됩니다.\n",
      "\n",
      "더 자세한 설명은 [여기](https://deepwiki.com/langchain-ai/langgraph-101/2.2-nodes-and-edges)에서 확인하실 수 있습니다.\n"
     ]
    }
   ],
   "source": [
    "user_input = \"LangGraph에서 '노드'란 무엇인가요?\"\n",
    "state = {\"messages\": [HumanMessage(content=user_input)]}\n",
    "response = graph.invoke(state)\n",
    "print(response[\"messages\"][-1].content)"
   ]
  }
 ],
 "metadata": {
  "kernelspec": {
   "display_name": "Python 3",
   "language": "python",
   "name": "python3"
  },
  "language_info": {
   "codemirror_mode": {
    "name": "ipython",
    "version": 3
   },
   "file_extension": ".py",
   "mimetype": "text/x-python",
   "name": "python",
   "nbconvert_exporter": "python",
   "pygments_lexer": "ipython3",
   "version": "3.11.13"
  }
 },
 "nbformat": 4,
 "nbformat_minor": 5
}
