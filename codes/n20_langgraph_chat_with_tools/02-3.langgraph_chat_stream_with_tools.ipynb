{
 "cells": [
  {
   "cell_type": "code",
   "execution_count": null,
   "id": "22779221",
   "metadata": {},
   "outputs": [
    {
     "name": "stdout",
     "output_type": "stream",
     "text": [
      "\u001b[33mWARNING: Running pip as the 'root' user can result in broken permissions and conflicting behaviour with the system package manager. It is recommended to use a virtual environment instead: https://pip.pypa.io/warnings/venv\u001b[0m\u001b[33m\n",
      "\u001b[0m\n",
      "\u001b[1m[\u001b[0m\u001b[34;49mnotice\u001b[0m\u001b[1;39;49m]\u001b[0m\u001b[39;49m A new release of pip is available: \u001b[0m\u001b[31;49m24.0\u001b[0m\u001b[39;49m -> \u001b[0m\u001b[32;49m25.1.1\u001b[0m\n",
      "\u001b[1m[\u001b[0m\u001b[34;49mnotice\u001b[0m\u001b[1;39;49m]\u001b[0m\u001b[39;49m To update, run: \u001b[0m\u001b[32;49mpip install --upgrade pip\u001b[0m\n",
      "Note: you may need to restart the kernel to use updated packages.\n"
     ]
    }
   ],
   "source": [
    "# %pip install -U python-dotenv langgraph langchain-openai -q"
   ]
  },
  {
   "cell_type": "code",
   "execution_count": 2,
   "id": "39b07e4d",
   "metadata": {},
   "outputs": [],
   "source": [
    "from dotenv import load_dotenv\n",
    "import os\n",
    "\n",
    "load_dotenv()\n",
    "\n",
    "OPENAI_API_KEY = os.getenv(\"OPENAI_API_KEY\")\n",
    "OPENAI_MODEL = os.getenv(\"OPENAI_MODEL\")\n",
    "TAVILY_API_KEY = os.getenv(\"TAVILY_API_KEY\")"
   ]
  },
  {
   "cell_type": "code",
   "execution_count": null,
   "id": "c08ca325",
   "metadata": {},
   "outputs": [
    {
     "name": "stdout",
     "output_type": "stream",
     "text": [
      "\u001b[33mWARNING: Running pip as the 'root' user can result in broken permissions and conflicting behaviour with the system package manager. It is recommended to use a virtual environment instead: https://pip.pypa.io/warnings/venv\u001b[0m\u001b[33m\n",
      "\u001b[0m\n",
      "\u001b[1m[\u001b[0m\u001b[34;49mnotice\u001b[0m\u001b[1;39;49m]\u001b[0m\u001b[39;49m A new release of pip is available: \u001b[0m\u001b[31;49m24.0\u001b[0m\u001b[39;49m -> \u001b[0m\u001b[32;49m25.1.1\u001b[0m\n",
      "\u001b[1m[\u001b[0m\u001b[34;49mnotice\u001b[0m\u001b[1;39;49m]\u001b[0m\u001b[39;49m To update, run: \u001b[0m\u001b[32;49mpip install --upgrade pip\u001b[0m\n",
      "Note: you may need to restart the kernel to use updated packages.\n"
     ]
    }
   ],
   "source": [
    "# %pip install -qU langchain-tavily"
   ]
  },
  {
   "cell_type": "code",
   "execution_count": 4,
   "id": "80caf89d",
   "metadata": {},
   "outputs": [
    {
     "data": {
      "text/plain": [
       "{'query': \"LangGraph에서 '노드'란 무엇인가요?\",\n",
       " 'follow_up_questions': None,\n",
       " 'answer': None,\n",
       " 'images': [],\n",
       " 'results': [{'url': 'https://blog.naver.com/pjt3591oo/223861729229?fromRss=true&trackingCode=rss',\n",
       "   'title': 'langgraph 소개 및 기본개념 : 네이버 블로그',\n",
       "   'content': '· 노드(nodes): 그래프의 작업 단위\\u200b 노드는 그래프에서 실제 작업을 수행하는 단위입니다. 각 노드는 특정 로직을 담당합니다. 작업은 LLM 호출, 데이터',\n",
       "   'score': 0.8727061,\n",
       "   'raw_content': None},\n",
       "  {'url': 'https://normalstory.tistory.com/entry/LangGraph-01',\n",
       "   'title': 'LangGraph - 1. 개요 - 청춘만화 - 티스토리',\n",
       "   'content': \"\\\\지극히 주관적 개요: Devika, Crew AI, phidata를 사용하면서 또는 사용할수록 강하게 느껴지는 점이 하나 있다면 지금 중요한 것은 ’ 프롬프트나 RAG가 아니라 얼마나 Agentic 한 LLM 애플리케이션을 얼마나 Locally 하게 구성할 수 있는가 ‘라고 생각한다. 그리고 프로세스의 '방향'은 프로세스 내 워크의 상태(실행 여부나 그 상태) 정보를 기반으로 이뤄지는데 이러한 일련의 내용은 기본적으로 scratch 코딩과 같이 그래프( workflows, diagram)형태로 표현될 수 있다. 점(node)과 선(edge)으로 표현되는 하나의 다이어그램(graph)에 색(state)과 방향(sign) 정보를 기반으로 프로세스(flow)를 형성하는, 말 그대로 '하나의 워크플로(workflows)'라는 생각이 든다. 그래프를 컴파일을 하기 전에 'entry point'역할을 하는 노드를 지정하고 'end point'를 세팅한 다음, LangChain runnable처럼 호출 invoke하거나 스트림 stream 하는 형태로 그래프를 실행할 수 있다. LangGraph은 LangChain를 기반으로 만들어졌기 때문에 LangChain과 동일하게 input, chat\\\\_history, intermediate\\\\_steps(그리고 가장 최근의 에이전트 결과를 나타내는 agent\\\\_outcome) 등으로  Agent Executor를 구성할 수 있다.\",\n",
       "   'score': 0.741169,\n",
       "   'raw_content': None}],\n",
       " 'response_time': 1.03}"
      ]
     },
     "execution_count": 4,
     "metadata": {},
     "output_type": "execute_result"
    }
   ],
   "source": [
    "from langchain_tavily import TavilySearch\n",
    "\n",
    "search_tool = TavilySearch(max_results=2)\n",
    "search_tool.invoke(\"LangGraph에서 '노드'란 무엇인가요?\")"
   ]
  },
  {
   "cell_type": "code",
   "execution_count": 5,
   "id": "15812cbc",
   "metadata": {},
   "outputs": [],
   "source": [
    "from langgraph.prebuilt import create_react_agent\n",
    "from langchain.chat_models import init_chat_model\n",
    "\n",
    "llm = init_chat_model(\"openai:gpt-4o-mini\")\n",
    "agent = create_react_agent(model=llm, tools=[search_tool])"
   ]
  },
  {
   "cell_type": "code",
   "execution_count": 6,
   "id": "1a6116ed",
   "metadata": {},
   "outputs": [
    {
     "data": {
      "image/png": "[encoded data removed]",
      "text/plain": [
       "<IPython.core.display.Image object>"
      ]
     },
     "metadata": {},
     "output_type": "display_data"
    }
   ],
   "source": [
    "from IPython.display import Image, display\n",
    "\n",
    "display(Image(agent.get_graph().draw_mermaid_png()))"
   ]
  },
  {
   "cell_type": "code",
   "execution_count": 7,
   "id": "324df807",
   "metadata": {},
   "outputs": [
    {
     "name": "stdout",
     "output_type": "stream",
     "text": [
      "LangGraph에서 '노드'는 AI 워크플로우 내에서 개별 구성 요소나 에이전트를 나타내는 요소입니다. 노드는 서로 상호작용하는 \"행위자\"로 생각할 수 있으며, 특정 작업을 수행하는 데 필요한 기능을 정의합니다. 예를 들어, 사용자의 요청을 처리하거나, 데이터를 업데이트하는 등의 작업을 수행할 수 있습니다.\n",
      "\n",
      "노드는 Python 함수나 Runnable 객체로 정의되며, 이는 상태 정의에 의해 지정된 유형과 일치해야 합니다. 노드 간의 연결은 '엣지'로 표현되며, 다음에 실행할 노드를 지정합니다. 이 구조를 통해 LangGraph는 복잡한 멀티 에이전트 시스템의 워크플로우를 표현할 수 있습니다.\n",
      "\n",
      "간단히 말해, LangGraph의 노드는 여러 작업을 수행하는 에이전트의 역할을 하며, 그들 간의 상호작용을 통해 AI 기반의 다양한 프로세스를 구성합니다.\n"
     ]
    }
   ],
   "source": [
    "from langchain_core.messages import HumanMessage\n",
    "\n",
    "response = agent.invoke({\n",
    "    \"messages\": [HumanMessage(\"LangGraph에서 '노드'란 무엇인가요?\")]\n",
    "})\n",
    "\n",
    "print(response[\"messages\"][-1].content)"
   ]
  },
  {
   "cell_type": "code",
   "execution_count": 8,
   "id": "b3bf7dd0",
   "metadata": {},
   "outputs": [
    {
     "name": "stdout",
     "output_type": "stream",
     "text": [
      "{'agent': {'messages': [AIMessage(content='', additional_kwargs={'tool_calls': [{'id': 'call_FHMVJ1sgiDceJ2bFM0OwOZcL', 'function': {'arguments': '{\"query\":\"LangGraph 노드\",\"search_depth\":\"advanced\"}', 'name': 'tavily_search'}, 'type': 'function'}], 'refusal': None}, response_metadata={'token_usage': {'completion_tokens': 24, 'prompt_tokens': 779, 'total_tokens': 803, 'completion_tokens_details': {'accepted_prediction_tokens': 0, 'audio_tokens': 0, 'reasoning_tokens': 0, 'rejected_prediction_tokens': 0}, 'prompt_tokens_details': {'audio_tokens': 0, 'cached_tokens': 0}}, 'model_name': 'gpt-4o-mini-2024-07-18', 'system_fingerprint': 'fp_34a54ae93c', 'id': 'chatcmpl-BnIhlWcJeObu1hpD0aoyESjW8NIRH', 'service_tier': 'default', 'finish_reason': 'tool_calls', 'logprobs': None}, id='run--a980b1e4-7fae-43a1-a41c-4592f547ad04-0', tool_calls=[{'name': 'tavily_search', 'args': {'query': 'LangGraph 노드', 'search_depth': 'advanced'}, 'id': 'call_FHMVJ1sgiDceJ2bFM0OwOZcL', 'type': 'tool_call'}], usage_metadata={'input_tokens': 779, 'output_tokens': 24, 'total_tokens': 803, 'input_token_details': {'audio': 0, 'cache_read': 0}, 'output_token_details': {'audio': 0, 'reasoning': 0}})]}}\n",
      "\n",
      "\n",
      "{'tools': {'messages': [ToolMessage(content='{\"query\": \"LangGraph 노드\", \"follow_up_questions\": null, \"answer\": null, \"images\": [], \"results\": [{\"url\": \"https://wikidocs.net/261580\", \"title\": \"1-3-3. 노드 (Node) - LangGraph 가이드북 - 위키독스\", \"content\": \"Published with WikiDocs\\\\n\\\\n1.   LangGraph 가이드북 - 에이전트 RA…\\\\n2.   Part 1. 랭그래프 LangGraph 기초\\\\n3.   1-3. StateGraph 이해하기\\\\n4.   1-3-3. 노드 (Node)\\\\n\\\\n1.   위키독스\\\\n\\\\n1-3-3. 노드 (Node)\\\\n================\\\\n\\\\nLangGraph의 노드(Node) 이해하기\\\\n========================\\\\n\\\\n노드의 개념\\\\n------\\\\n\\\\n   노드는 LangGraph에서 실제 작업을 수행하는 단위입니다.\\\\n   각 노드는 특정 기능을 수행하는 Python 함수로 구현됩니다.\\\\n   노드는 현재 상태를 입력으로 받아 처리하고, 업데이트된 상태를 출력합니다.\\\\n\\\\n```python\\\\nCopydef increment(state):\\\\n    return {\\\\\"counter\\\\\": state[\\\\\"counter\\\\\"] + 1}\\\\n\\\\ngraph.add_node(\\\\\"increment\\\\\", increment)\\\\n``` [...] 상태 처리: 노드는 현재 상태를 받아 필요한 작업을 수행합니다.\\\\n   로직 실행: 이 예에서는 카운터를 증가시키는 간단한 로직을 수행합니다.\\\\n   상태 업데이트: 작업 결과를 바탕으로 새로운 상태를 생성하여 반환합니다.\\\\n\\\\n이렇게 정의된 노드는 그래프 내에서 하나의 작업 단위로 동작하며, 그래프의 전체 흐름에 따라 순차적으로 또는 조건에 따라 실행됩니다.\\\\n\\\\n  \\\\n\\\\n 마지막 편집일시 : 2024년 10월 6일 4:19 오후 \\\\n\\\\n댓글 0;)피드백\\\\n\\\\n※ 댓글 작성은 로그인이 필요합니다.(또는 피드백을 이용해 주세요.)\\\\n\\\\n   이전글 : 1-3-2. 상태 (State))\\\\n   다음글 : 1-3-4. 엣지 (Edge))\\\\n\\\\n))\\\\n\\\\n×\\\\n### 이 페이지에 대한 피드백을 남겨주세요\\\\n\\\\n답장받을 이메일 주소 \\\\n\\\\n하고 싶은 말 \\\\n\\\\n※ 피드백은 저자에게 e-메일로 전달됩니다.\\\\n\\\\nClose 전송하기\\\\n\\\\n×\\\\n### 댓글을 신고합니다. [...] ### 코드 설명\\\\n\\\\n1. 노드 함수 정의: \\\\n\\\\n```python\\\\nCopydef increment(state):\\\\n   return {\\\\\"counter\\\\\": state[\\\\\"counter\\\\\"] + 1}\\\\n```\\\\n\\\\n   `increment`라는 함수를 정의합니다.\\\\n   이 함수는 `state`라는 매개변수를 받습니다. 이는 현재의 그래프 상태입니다.\\\\n   함수는 `state`의 `counter` 값을 1 증가시킨 새로운 상태를 반환합니다.\\\\n\\\\n2. 그래프에 노드 추가:\\\\n\\\\n```python\\\\nCopygraph.add_node(\\\\\"increment\\\\\", increment)\\\\n```\\\\n\\\\n   `add_node` 메서드를 사용하여 정의한 함수를 그래프의 노드로 추가합니다.\\\\n   첫 번째 인자 `\\\\\"increment\\\\\"`는 노드의 이름입니다.\\\\n   두 번째 인자 `increment`는 앞서 정의한 함수입니다.\\\\n\\\\n노드의 역할\\\\n------\", \"score\": 0.84027237, \"raw_content\": null}, {\"url\": \"https://medium.com/@cplog/introduction-to-langgraph-a-beginners-guide-14f9be027141\", \"title\": \"Introduction to LangGraph: A Beginner\\'s Guide - Medium\", \"content\": \"Stateful Graph: LangGraph revolves around the concept of a stateful graph, where each node in the graph represents a step in your computation, and the graph maintains a state that is passed around and updated as the computation progresses.\\\\n   Nodes: Nodes are the building blocks of your LangGraph. Each node represents a function or a computation step. You define nodes to perform specific tasks, such as processing input, making decisions, or interacting with external APIs.\", \"score\": 0.8098936, \"raw_content\": null}], \"response_time\": 1.06}', name='tavily_search', id='a27107a1-4fd1-49a7-b4a3-e3038b287f0b', tool_call_id='call_FHMVJ1sgiDceJ2bFM0OwOZcL')]}}\n",
      "\n",
      "\n",
      "{'agent': {'messages': [AIMessage(content='LangGraph에서 \\'노드\\'란 그래프의 구성 요소로, 각 노드는 특정한 기능을 수행하는 Python 함수로 구현됩니다. 노드는 실제 작업을 수행하는 단위로, 현재의 상태를 입력으로 받아 처리하고, 업데이트된 상태를 출력합니다.\\n\\n예를 들어, 카운터를 증가시키는 로직을 구현한 노드를 정의할 수 있습니다:\\n\\n```python\\ndef increment(state):\\n    return {\"counter\": state[\"counter\"] + 1}\\n\\ngraph.add_node(\"increment\", increment)\\n```\\n\\n이렇게 정의된 노드는 그래프 내에서 순차적으로 또는 조건에 따라 실행되어 기능을 수행하며, 그래프가 유지하는 상태를 업데이트합니다. 노드는 각기 다른 작업 단위를 나타내며, LangGraph의 전체 흐름에서 중요한 역할을 합니다.\\n\\n더 자세한 내용을 원하시면 [위키독스의 LangGraph 가이드북](https://wikidocs.net/261580)이나 [Medium의 소개 글](https://medium.com/@cplog/introduction-to-langgraph-a-beginners-guide-14f9be027141)을 참고하실 수 있습니다.', additional_kwargs={'refusal': None}, response_metadata={'token_usage': {'completion_tokens': 238, 'prompt_tokens': 1745, 'total_tokens': 1983, 'completion_tokens_details': {'accepted_prediction_tokens': 0, 'audio_tokens': 0, 'reasoning_tokens': 0, 'rejected_prediction_tokens': 0}, 'prompt_tokens_details': {'audio_tokens': 0, 'cached_tokens': 1664}}, 'model_name': 'gpt-4o-mini-2024-07-18', 'system_fingerprint': 'fp_34a54ae93c', 'id': 'chatcmpl-BnIhnWuwDqrLNulz2HQwVxkhvpiyD', 'service_tier': 'default', 'finish_reason': 'stop', 'logprobs': None}, id='run--ac215531-01af-42e2-bde0-3d07738050cd-0', usage_metadata={'input_tokens': 1745, 'output_tokens': 238, 'total_tokens': 1983, 'input_token_details': {'audio': 0, 'cache_read': 1664}, 'output_token_details': {'audio': 0, 'reasoning': 0}})]}}\n",
      "\n",
      "\n"
     ]
    }
   ],
   "source": [
    "for chunk in agent.stream(\n",
    "    {\"messages\": {\n",
    "        \"role\": \"user\",\n",
    "        \"content\": \"LangGraph에서 '노드'란 무엇인가요?\"\n",
    "    }},\n",
    "    stream_mode=\"updates\"\n",
    "    # stream_mode=\"messages\"    # token 단위로 스트리밍 (기본값)\n",
    "):\n",
    "    print(chunk)\n",
    "    print(\"\\n\")"
   ]
  }
 ],
 "metadata": {
  "kernelspec": {
   "display_name": "Python 3",
   "language": "python",
   "name": "python3"
  },
  "language_info": {
   "codemirror_mode": {
    "name": "ipython",
    "version": 3
   },
   "file_extension": ".py",
   "mimetype": "text/x-python",
   "name": "python",
   "nbconvert_exporter": "python",
   "pygments_lexer": "ipython3",
   "version": "3.11.13"
  }
 },
 "nbformat": 4,
 "nbformat_minor": 5
}
