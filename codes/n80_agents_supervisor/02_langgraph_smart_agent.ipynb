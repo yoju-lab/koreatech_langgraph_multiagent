{
 "cells": [
  {
   "cell_type": "code",
   "execution_count": 1,
   "id": "ef2bc080",
   "metadata": {},
   "outputs": [],
   "source": [
    "from typing import TypedDict\n",
    "from langgraph.graph import StateGraph, START, END\n",
    "from langchain_core.messages import SystemMessage, HumanMessage\n",
    "from langchain_openai import ChatOpenAI\n",
    "from langchain_community.tools.tavily_search import TavilySearchResults\n",
    "from dotenv import load_dotenv\n",
    "import os\n",
    "import requests\n",
    "import json"
   ]
  },
  {
   "cell_type": "code",
   "execution_count": null,
   "id": "8e0e2b3e",
   "metadata": {},
   "outputs": [],
   "source": [
    "# 환경 변수 로드\n",
    "load_dotenv()\n",
    "openai_api_key = os.getenv(\"OPENAI_API_KEY\")\n",
    "kakao_api_key = os.getenv(\"KAKAO_API_KEY\")\n",
    "tavil_api_key = os.getenv(\"TAVIL_API_KEY\")"
   ]
  },
  {
   "cell_type": "code",
   "execution_count": 3,
   "id": "feeb480d",
   "metadata": {},
   "outputs": [],
   "source": [
    "# 상태 정의\n",
    "class State(TypedDict, total=False):\n",
    "    user_command: str\n",
    "    intent: str\n",
    "    query: str\n",
    "    recipient: str\n",
    "    result: str\n",
    "    summary: str\n",
    "    final_message: str"
   ]
  },
  {
   "cell_type": "code",
   "execution_count": 4,
   "id": "3330ab04",
   "metadata": {},
   "outputs": [],
   "source": [
    "# Kakao 검색\n",
    "def run_kakao_search(state: State) -> dict:\n",
    "    query = state[\"query\"]\n",
    "    headers = {\"Authorization\": f\"KakaoAK {kakao_api_key}\"}\n",
    "    params = {\"query\": query, \"size\": 5}\n",
    "    response = requests.get(\"https://dapi.kakao.com/v2/local/search/keyword.json\", headers=headers, params=params)\n",
    "    places = response.json().get(\"documents\", [])\n",
    "    if not places:\n",
    "        return {**state, \"result\": \"검색 결과 없음\"}\n",
    "\n",
    "    structured = [\n",
    "        {\n",
    "            \"title\": p[\"place_name\"],\n",
    "            \"address\": p[\"road_address_name\"],\n",
    "            \"url\": f\"https://place.map.kakao.com/{p['id']}\"\n",
    "        }\n",
    "        for p in places\n",
    "    ]\n",
    "    return {**state, \"result\": json.dumps(structured)}"
   ]
  },
  {
   "cell_type": "code",
   "execution_count": 5,
   "id": "72a53630",
   "metadata": {},
   "outputs": [],
   "source": [
    "# Tavily 실행\n",
    "def run_tavily_tool(state: State) -> dict:\n",
    "    tool = TavilySearchResults()\n",
    "    result = tool.invoke({\"query\": state[\"query\"]})\n",
    "    return {**state, \"result\": json.dumps(result)}"
   ]
  },
  {
   "cell_type": "code",
   "execution_count": 6,
   "id": "31072c03",
   "metadata": {},
   "outputs": [],
   "source": [
    "# 요약\n",
    "def summarize_result(state: State) -> dict:\n",
    "    data = state.get(\"result\", \"\")\n",
    "    intent = state.get(\"intent\", \"\")\n",
    "    try:\n",
    "        if isinstance(data, str):\n",
    "            data = json.loads(data)\n",
    "    except:\n",
    "        return {**state, \"summary\": \"요약할 수 있는 데이터 형식이 아닙니다.\"}\n",
    "\n",
    "    if intent == \"장소검색\":\n",
    "        content = \"\\n\".join([f\"{i+1}. [{item['title']}]({item['url']}) - {item['address']}\" for i, item in enumerate(data)])\n",
    "        prompt = f\"\"\"다음 장소를 추천 메시지 형식으로 요약해 주세요. 링크는 반드시 포함하세요:\\n{content}\"\"\"\n",
    "    else:\n",
    "        content = \"\\n\".join([f\"{i+1}. {item['title']} - {item['url']}\" for i, item in enumerate(data)])\n",
    "        prompt = f\"다음 뉴스 목록을 요약해서 사용자에게 소개해 주세요:\\n{content}\"\n",
    "\n",
    "    llm = ChatOpenAI(model=\"gpt-4o-mini\", temperature=0, openai_api_key=openai_api_key)\n",
    "    response = llm.invoke([HumanMessage(content=prompt)])\n",
    "    return {**state, \"summary\": response.content.strip()}"
   ]
  },
  {
   "cell_type": "code",
   "execution_count": 7,
   "id": "78e2a81c",
   "metadata": {},
   "outputs": [],
   "source": [
    "# 메시지 생성 노드\n",
    "def compose_message(state: State) -> dict:\n",
    "    summary = state.get(\"summary\", \"\")\n",
    "    recipient = state.get(\"recipient\", \"수신자\")\n",
    "    message = f\"{recipient}님께 전송할 메시지입니다:\\n\\n{summary}\"\n",
    "    return {**state, \"final_message\": message}"
   ]
  },
  {
   "cell_type": "code",
   "execution_count": 8,
   "id": "26fa86a3",
   "metadata": {},
   "outputs": [],
   "source": [
    "# LLM 분석 (intent + query + recipient 추출)\n",
    "llm = ChatOpenAI(model=\"gpt-4o-mini\", temperature=0, openai_api_key=openai_api_key)"
   ]
  },
  {
   "cell_type": "code",
   "execution_count": 9,
   "id": "ec04ea81",
   "metadata": {},
   "outputs": [],
   "source": [
    "def analyze_command(state: State) -> dict:\n",
    "    user_input = state.get(\"user_command\", \"\")\n",
    "    system = SystemMessage(content=(\n",
    "        \"사용자의 명령에서 intent(장소검색 또는 일반검색), query(검색어), recipient(메시지 수신 대상자)를 추출하세요. \"\n",
    "        '예: {\"intent\": \"장소검색\", \"query\": \"성수동 브런치 카페\", \"recipient\": \"홍길동\"}'\n",
    "    ))\n",
    "    user = HumanMessage(content=user_input)\n",
    "    response = llm.invoke([system, user])\n",
    "    print(\"📥 GPT 응답:\", response.content)\n",
    "    try:\n",
    "        parsed = json.loads(response.content)\n",
    "        return {\n",
    "            \"user_command\": user_input,\n",
    "            \"intent\": parsed.get(\"intent\", \"\"),\n",
    "            \"query\": parsed.get(\"query\", \"\"),\n",
    "            \"recipient\": parsed.get(\"recipient\", \"수신자\")\n",
    "        }\n",
    "    except:\n",
    "        return {\n",
    "            \"user_command\": user_input,\n",
    "            \"intent\": \"일반검색\",\n",
    "            \"query\": user_input,\n",
    "            \"recipient\": \"수신자\"\n",
    "        }"
   ]
  },
  {
   "cell_type": "code",
   "execution_count": 10,
   "id": "3131cc9d",
   "metadata": {},
   "outputs": [],
   "source": [
    "# fallback\n",
    "def fallback_node(state: State) -> dict:\n",
    "    return {**state, \"result\": \"❌ 의도 판단 실패\", \"summary\": \"\", \"final_message\": \"\"}"
   ]
  },
  {
   "cell_type": "code",
   "execution_count": 11,
   "id": "f6fa7131",
   "metadata": {},
   "outputs": [],
   "source": [
    "# LangGraph 구성\n",
    "graph_builder = StateGraph(State)\n",
    "graph_builder.add_node(\"analyze\", analyze_command)\n",
    "graph_builder.add_node(\"tavily\", run_tavily_tool)\n",
    "graph_builder.add_node(\"kakao\", run_kakao_search)\n",
    "graph_builder.add_node(\"summarize\", summarize_result)\n",
    "graph_builder.add_node(\"compose\", compose_message)\n",
    "graph_builder.add_node(\"fallback\", fallback_node)\n",
    "\n",
    "graph_builder.add_edge(START, \"analyze\")\n",
    "graph_builder.add_conditional_edges(\"analyze\", lambda s: (\n",
    "    \"kakao\" if s.get(\"intent\") == \"장소검색\" else\n",
    "    \"tavily\" if s.get(\"intent\") == \"일반검색\" else\n",
    "    \"fallback\"\n",
    "), {\n",
    "    \"kakao\": \"kakao\",\n",
    "    \"tavily\": \"tavily\",\n",
    "    \"fallback\": \"fallback\"\n",
    "})\n",
    "graph_builder.add_edge(\"kakao\", \"summarize\")\n",
    "graph_builder.add_edge(\"tavily\", \"summarize\")\n",
    "graph_builder.add_edge(\"summarize\", \"compose\")\n",
    "graph_builder.add_edge(\"compose\", END)\n",
    "graph_builder.add_edge(\"fallback\", END)\n",
    "\n",
    "graph = graph_builder.compile()"
   ]
  },
  {
   "cell_type": "code",
   "execution_count": 12,
   "id": "ef7d8b2d",
   "metadata": {},
   "outputs": [
    {
     "name": "stdout",
     "output_type": "stream",
     "text": [
      "======================================\n",
      "🧪 테스트 명령: 앤트로픽 MCP 관련된 최신 뉴스를 요약해서 홍길동한테 메시지 보낼 수 있게 해줘\n",
      "📥 GPT 응답: {\"intent\": \"일반검색\", \"query\": \"앤트로픽 MCP 최신 뉴스\", \"recipient\": \"홍길동\"}\n",
      "📨 사용자 명령: 앤트로픽 MCP 관련된 최신 뉴스를 요약해서 홍길동한테 메시지 보낼 수 있게 해줘\n",
      "👤 수신자: 홍길동\n",
      "🧠 의도: 일반검색\n",
      "🔍 검색어: 앤트로픽 MCP 최신 뉴스\n",
      "📩 최종 메시지:\n",
      " 홍길동님께 전송할 메시지입니다:\n",
      "\n",
      "다음은 최근 AI 에이전트 생태계와 관련된 뉴스 목록의 요약입니다:\n",
      "\n",
      "1. **오픈AI의 앤트로픽 MCP 채택**: 오픈AI가 앤트로픽의 MCP(Multi-Chain Protocol)를 채택함으로써 AI 에이전트 생태계에 변화가 일어나고 있다는 분석이 발표되었습니다. 이 변화는 AI 에이전트 간의 상호운용성을 강화하는 데 기여할 것으로 보입니다.\n",
      "\n",
      "2. **경쟁사 앤트로픽의 MCP 채택**: 오픈AI가 앤트로픽의 MCP를 채택함으로써 AI 에이전트의 상호운용성이 더욱 강화될 전망입니다. 이는 AI 기술의 발전과 경쟁 구도에 중요한 영향을 미칠 것으로 예상됩니다.\n",
      "\n",
      "3. **앤트로픽의 MCP와 리서치**: 앤트로픽의 MCP 기능이 대폭 확장되었으며, 이에 따른 리서치 기능도 업그레이드되었습니다. 이는 AI 에이전트의 효율성과 활용도를 높이는 데 기여할 것입니다.\n",
      "\n",
      "4. **MCP 기능 확장**: 앤트로픽이 MCP 기능을 대폭 확장하고, 리서치 기능도 업그레이드하여 AI 에이전트의 성능을 향상시키고 있습니다. 이러한 변화는 AI 기술의 발전에 중요한 역할을 할 것으로 기대됩니다.\n",
      "\n",
      "5. **MCP 열풍과 빅테크의 관심**: 앤트로픽의 AI 연결 표준인 MCP가 주목받고 있으며, 빅테크 기업들이 이 기술에 관심을 보이고 있습니다. 이는 AI 에이전트의 표준화와 상호운용성에 대한 필요성을 반영하고 있습니다.\n",
      "\n",
      "이러한 뉴스들은 AI 에이전트의 발전과 생태계 변화에 대한 중요한 통찰을 제공합니다.\n",
      "======================================\n",
      "🧪 테스트 명령: 석촌호수 근처에 수제비 추천 맛집을 홍길동에게 메시지 보낼 수 있게 해줘\n",
      "📥 GPT 응답: {\"intent\": \"장소검색\", \"query\": \"석촌호수 근처 수제비 맛집\", \"recipient\": \"홍길동\"}\n",
      "📨 사용자 명령: 석촌호수 근처에 수제비 추천 맛집을 홍길동에게 메시지 보낼 수 있게 해줘\n",
      "👤 수신자: 홍길동\n",
      "🧠 의도: 장소검색\n",
      "🔍 검색어: 석촌호수 근처 수제비 맛집\n",
      "📩 최종 메시지:\n",
      " 홍길동님께 전송할 메시지입니다:\n",
      "\n",
      "안녕하세요! 송파구에서 맛있는 음식을 즐기고 싶으신가요? 다음의 추천 장소들을 확인해보세요:\n",
      "\n",
      "1. **행하령수제비 송파점** - 수제비와 함께 따뜻한 국물을 즐길 수 있는 곳입니다. [자세히 보기](https://place.map.kakao.com/298609089)\n",
      "   \n",
      "2. **국수와수제비** - 다양한 국수와 수제비 메뉴가 준비되어 있어 선택의 즐거움이 있습니다. [자세히 보기](https://place.map.kakao.com/1888096771)\n",
      "\n",
      "3. **어랑칼수제비만두** - 칼수제비와 만두가 일품인 이곳에서 특별한 한 끼를 경험해보세요. [자세히 보기](https://place.map.kakao.com/21405201)\n",
      "\n",
      "4. **도니족발** - 쫄깃한 족발을 맛볼 수 있는 인기 맛집입니다. [자세히 보기](https://place.map.kakao.com/23972457)\n",
      "\n",
      "5. **메밀집** - 메밀로 만든 다양한 요리를 즐길 수 있는 아늑한 공간입니다. [자세히 보기](https://place.map.kakao.com/756146413)\n",
      "\n",
      "맛있는 음식과 함께 즐거운 시간 보내세요!\n"
     ]
    }
   ],
   "source": [
    "\n",
    "test_commands = [\n",
    "    \"앤트로픽 MCP 관련된 최신 뉴스를 요약해서 홍길동한테 메시지 보낼 수 있게 해줘\",\n",
    "    \"석촌호수 근처에 수제비 추천 맛집을 홍길동에게 메시지 보낼 수 있게 해줘\"\n",
    "]\n",
    "\n",
    "for test_command in test_commands:\n",
    "    print(\"======================================\")\n",
    "    print(\"🧪 테스트 명령:\", test_command)\n",
    "    events = list(graph.stream({\"user_command\": test_command}))\n",
    "    final_state = next(iter(events[-1].values()))\n",
    "    print(\"📨 사용자 명령:\", final_state.get(\"user_command\"))\n",
    "    print(\"👤 수신자:\", final_state.get(\"recipient\"))\n",
    "    print(\"🧠 의도:\", final_state.get(\"intent\"))\n",
    "    print(\"🔍 검색어:\", final_state.get(\"query\"))\n",
    "    print(\"📩 최종 메시지:\\n\", final_state.get(\"final_message\"))\n"
   ]
  },
  {
   "cell_type": "code",
   "execution_count": 13,
   "id": "ce806e07",
   "metadata": {},
   "outputs": [
    {
     "data": {
      "image/png": "[encoded data removed]",
      "text/plain": [
       "<IPython.core.display.Image object>"
      ]
     },
     "metadata": {},
     "output_type": "display_data"
    }
   ],
   "source": [
    "from IPython.display import Image, display\n",
    "\n",
    "display(Image(graph.get_graph().draw_mermaid_png()))"
   ]
  },
  {
   "cell_type": "code",
   "execution_count": null,
   "id": "3740ed5a",
   "metadata": {},
   "outputs": [],
   "source": []
  }
 ],
 "metadata": {
  "kernelspec": {
   "display_name": "Python 3",
   "language": "python",
   "name": "python3"
  },
  "language_info": {
   "codemirror_mode": {
    "name": "ipython",
    "version": 3
   },
   "file_extension": ".py",
   "mimetype": "text/x-python",
   "name": "python",
   "nbconvert_exporter": "python",
   "pygments_lexer": "ipython3",
   "version": "3.11.13"
  }
 },
 "nbformat": 4,
 "nbformat_minor": 5
}
