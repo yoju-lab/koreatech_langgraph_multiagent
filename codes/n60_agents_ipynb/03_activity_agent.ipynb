{
 "cells": [
  {
   "cell_type": "code",
   "execution_count": 1,
   "id": "43f033a6",
   "metadata": {},
   "outputs": [],
   "source": [
    "import sys\n",
    "import os\n",
    "sys.path.append(os.path.abspath(\"../n70_agents_projects\"))"
   ]
  },
  {
   "cell_type": "markdown",
   "id": "fe425623",
   "metadata": {},
   "source": [
    "# 03. Activity Agent 실습 노트북\n",
    "이 노트북에서는 사용자의 의도(`activity`)에 따라 GPT를 통해 활동 추천을 생성하는 흐름을 실습합니다.\n",
    "\n",
    "LangGraph 내에서 `intent == activity`인 경우 실행되며, 날씨, 계절, 시간대 정보를 활용해 활동 리스트를 생성합니다."
   ]
  },
  {
   "cell_type": "markdown",
   "id": "86fe680c",
   "metadata": {},
   "source": [
    "## 📦 1. 라이브러리 및 모듈 불러오기"
   ]
  },
  {
   "cell_type": "code",
   "execution_count": 2,
   "id": "8523a7dd",
   "metadata": {},
   "outputs": [],
   "source": [
    "# GPT 기반 활동 추천 에이전트 함수 불러오기\n",
    "from agents.activity import recommend_activity"
   ]
  },
  {
   "cell_type": "markdown",
   "id": "297f1444",
   "metadata": {},
   "source": [
    "## ✍️ 2. 샘플 입력 구성"
   ]
  },
  {
   "cell_type": "code",
   "execution_count": 3,
   "id": "58b9892c",
   "metadata": {},
   "outputs": [],
   "source": [
    "# 활동 추천에 필요한 최소 상태 정보를 입력합니다.\n",
    "state = {\n",
    "    \"user_input\": \"심심해\",\n",
    "    \"season\": \"봄\",\n",
    "    \"weather\": \"Rain\",\n",
    "    \"time_slot\": \"야간\"\n",
    "}"
   ]
  },
  {
   "cell_type": "markdown",
   "id": "c43c9dcf",
   "metadata": {},
   "source": [
    "## 🚀 3. 활동 추천 실행 및 결과 확인"
   ]
  },
  {
   "cell_type": "code",
   "execution_count": 4,
   "id": "5e1df8d5",
   "metadata": {},
   "outputs": [
    {
     "name": "stdout",
     "output_type": "stream",
     "text": [
      "추천된 활동 리스트: ['영화 감상하기', '실내 식물 가꾸기']\n"
     ]
    }
   ],
   "source": [
    "# GPT가 조건에 맞는 활동 리스트를 생성합니다.\n",
    "result = recommend_activity(state)\n",
    "print(\"추천된 활동 리스트:\", result[\"recommended_items\"])"
   ]
  },
  {
   "cell_type": "markdown",
   "id": "7840044a",
   "metadata": {},
   "source": [
    "## ✏️ 4. 다른 조건으로도 테스트해보세요"
   ]
  },
  {
   "cell_type": "code",
   "execution_count": 5,
   "id": "10a607a3",
   "metadata": {},
   "outputs": [
    {
     "name": "stdout",
     "output_type": "stream",
     "text": [
      "추천된 활동: ['따뜻한 음료를 마시며 북카페에서 책 읽기', '실내에서 가족이나 친구들과 보드게임하기']\n"
     ]
    }
   ],
   "source": [
    "# 여기에 다른 입력을 설정해서 테스트할 수 있습니다.\n",
    "state2 = {\n",
    "    \"user_input\": \"뭔가 하고 싶어\",\n",
    "    \"season\": \"겨울\",\n",
    "    \"weather\": \"Snow\",\n",
    "    \"time_slot\": \"야간\"\n",
    "}\n",
    "result2 = recommend_activity(state2)\n",
    "print(\"추천된 활동:\", result2[\"recommended_items\"])"
   ]
  },
  {
   "cell_type": "code",
   "execution_count": null,
   "id": "b6d1fd82",
   "metadata": {},
   "outputs": [],
   "source": []
  }
 ],
 "metadata": {
  "kernelspec": {
   "display_name": "Python 3",
   "language": "python",
   "name": "python3"
  },
  "language_info": {
   "codemirror_mode": {
    "name": "ipython",
    "version": 3
   },
   "file_extension": ".py",
   "mimetype": "text/x-python",
   "name": "python",
   "nbconvert_exporter": "python",
   "pygments_lexer": "ipython3",
   "version": "3.11.13"
  }
 },
 "nbformat": 4,
 "nbformat_minor": 5
}
