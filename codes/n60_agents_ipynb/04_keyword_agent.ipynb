{
 "cells": [
  {
   "cell_type": "code",
   "execution_count": null,
   "id": "6913b203",
   "metadata": {},
   "outputs": [],
   "source": [
    "import sys\n",
    "import os\n",
    "sys.path.append(os.path.abspath(\"../n70_agents_projects\"))"
   ]
  },
  {
   "cell_type": "markdown",
   "id": "564d5ea6",
   "metadata": {},
   "source": [
    "# 04. Keyword Agent 실습 노트북\n",
    "이 노트북에서는 음식 또는 활동 추천 결과를 바탕으로, 장소 검색에 사용할 키워드를 생성하는 흐름을 실습합니다.\n",
    "\n",
    "GPT를 활용하여 추천 항목(예: 김치찌개, 책 읽기 등)을 검색 가능한 장소 키워드(예: 한식, 북카페 등)로 변환합니다."
   ]
  },
  {
   "cell_type": "markdown",
   "id": "031760b4",
   "metadata": {},
   "source": [
    "## 📦 1. 라이브러리 및 모듈 불러오기"
   ]
  },
  {
   "cell_type": "code",
   "execution_count": null,
   "id": "87e70ecd",
   "metadata": {},
   "outputs": [],
   "source": [
    "# GPT 기반 장소 검색 키워드 생성 함수 불러오기\n",
    "from agents.keyword import generate_search_keyword"
   ]
  },
  {
   "cell_type": "markdown",
   "id": "9f2c9c25",
   "metadata": {},
   "source": [
    "## ✍️ 2. 샘플 입력 구성"
   ]
  },
  {
   "cell_type": "code",
   "execution_count": null,
   "id": "02336522",
   "metadata": {},
   "outputs": [],
   "source": [
    "# 음식 또는 활동 추천 결과를 기반으로 키워드를 생성합니다.\n",
    "state = {\n",
    "    \"user_input\": \"피자\",\n",
    "    \"intent\": \"food\",\n",
    "    \"recommended_items\": [\"피자\"]\n",
    "}"
   ]
  },
  {
   "cell_type": "markdown",
   "id": "63b1bd8e",
   "metadata": {},
   "source": [
    "## 🚀 3. 키워드 생성 실행 및 결과 확인"
   ]
  },
  {
   "cell_type": "code",
   "execution_count": null,
   "id": "be7f6ae1",
   "metadata": {},
   "outputs": [],
   "source": [
    "# GPT가 추천 항목을 바탕으로 장소 검색 키워드를 생성합니다.\n",
    "result = generate_search_keyword(state)\n",
    "print(\"생성된 장소 검색 키워드:\", result[\"search_keyword\"])"
   ]
  },
  {
   "cell_type": "markdown",
   "id": "aaed195d",
   "metadata": {},
   "source": [
    "## ✏️ 4. 다른 추천 항목으로도 실습해보세요"
   ]
  },
  {
   "cell_type": "code",
   "execution_count": null,
   "id": "38103ccd",
   "metadata": {},
   "outputs": [],
   "source": [
    "# 아래 예시처럼 활동 추천 결과로 테스트해볼 수도 있습니다.\n",
    "state2 = {\n",
    "    \"user_input\": \"책 읽기\",\n",
    "    \"intent\": \"activity\",\n",
    "    \"recommended_items\": [\"책 읽기\"]\n",
    "}\n",
    "result2 = generate_search_keyword(state2)\n",
    "print(\"추천 활동 기반 장소 키워드:\", result2[\"search_keyword\"])"
   ]
  }
 ],
 "metadata": {
  "kernelspec": {
   "display_name": "smart_magent_langgraph",
   "language": "python",
   "name": "python3"
  },
  "language_info": {
   "codemirror_mode": {
    "name": "ipython",
    "version": 3
   },
   "file_extension": ".py",
   "mimetype": "text/x-python",
   "name": "python",
   "nbconvert_exporter": "python",
   "pygments_lexer": "ipython3",
   "version": "3.12.10"
  }
 },
 "nbformat": 4,
 "nbformat_minor": 5
}
