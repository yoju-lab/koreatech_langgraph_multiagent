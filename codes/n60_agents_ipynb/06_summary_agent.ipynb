{
 "cells": [
  {
   "cell_type": "code",
   "execution_count": null,
   "id": "9026f267",
   "metadata": {},
   "outputs": [],
   "source": [
    "import sys\n",
    "import os\n",
    "sys.path.append(os.path.abspath(\"../n70_agents_projects\"))"
   ]
  },
  {
   "cell_type": "markdown",
   "id": "37d3c677",
   "metadata": {},
   "source": [
    "# 06. Summary Agent 실습 노트북\n",
    "이 노트북에서는 추천된 음식/활동과 장소 정보를 바탕으로, GPT를 활용하여 사용자에게 보여줄 요약 메시지를 생성하는 흐름을 실습합니다.\n",
    "\n",
    "LangGraph의 마지막 단계이며, 사용자에게 감성적인 안내 문장을 생성해주는 역할을 합니다."
   ]
  },
  {
   "cell_type": "markdown",
   "id": "ea6d078a",
   "metadata": {},
   "source": [
    "## 📦 1. 라이브러리 및 모듈 불러오기"
   ]
  },
  {
   "cell_type": "code",
   "execution_count": null,
   "id": "309f027f",
   "metadata": {},
   "outputs": [],
   "source": [
    "# 요약 메시지 생성을 위한 GPT 기반 함수 불러오기\n",
    "from agents.summary import summarize_message"
   ]
  },
  {
   "cell_type": "markdown",
   "id": "51de3ee1",
   "metadata": {},
   "source": [
    "## ✍️ 2. 샘플 상태 구성"
   ]
  },
  {
   "cell_type": "code",
   "execution_count": null,
   "id": "bf9e9c81",
   "metadata": {},
   "outputs": [],
   "source": [
    "# 추천 결과와 장소 정보가 포함된 상태 입력\n",
    "state = {\n",
    "    \"user_input\": \"배고파\",\n",
    "    \"intent\": \"food\",\n",
    "    \"season\": \"봄\",\n",
    "    \"weather\": \"Rain\",\n",
    "    \"time_slot\": \"야간\",\n",
    "    \"recommended_items\": [\"김치찌개\", \"된장찌개\"],\n",
    "    \"recommended_place\": {\n",
    "        \"name\": \"홍대 맛집 김치네\",\n",
    "        \"address\": \"서울 마포구 홍익로 10\",\n",
    "        \"url\": \"http://place.map.kakao.com/123456\"\n",
    "    }\n",
    "}"
   ]
  },
  {
   "cell_type": "markdown",
   "id": "edcef557",
   "metadata": {},
   "source": [
    "## 📝 3. 요약 메시지 생성 실행"
   ]
  },
  {
   "cell_type": "code",
   "execution_count": null,
   "id": "8bfd8948",
   "metadata": {},
   "outputs": [],
   "source": [
    "# 요약 메시지를 생성해 봅니다.\n",
    "result = summarize_message(state)\n",
    "print(\"생성된 요약 메시지:\\n\")\n",
    "print(result[\"final_message\"])"
   ]
  },
  {
   "cell_type": "markdown",
   "id": "5007380b",
   "metadata": {},
   "source": [
    "## ✏️ 4. 활동 추천 버전으로도 테스트해보세요"
   ]
  },
  {
   "cell_type": "code",
   "execution_count": null,
   "id": "75fb5792",
   "metadata": {},
   "outputs": [],
   "source": [
    "state2 = {\n",
    "    \"user_input\": \"놀고 싶어\",\n",
    "    \"intent\": \"activity\",\n",
    "    \"season\": \"가을\",\n",
    "    \"weather\": \"Clear\",\n",
    "    \"time_slot\": \"저녁\",\n",
    "    \"recommended_items\": [\"전시회 관람\", \"야경 산책\"],\n",
    "    \"recommended_place\": {\n",
    "        \"name\": \"서울 전시센터\",\n",
    "        \"address\": \"서울 중구 세종대로 99\",\n",
    "        \"url\": \"http://place.map.kakao.com/654321\"\n",
    "    }\n",
    "}\n",
    "result2 = summarize_message(state2)\n",
    "print(\"활동 추천 요약 메시지:\\n\")\n",
    "print(result2[\"final_message\"])"
   ]
  },
  {
   "cell_type": "code",
   "execution_count": null,
   "id": "669dda6d",
   "metadata": {},
   "outputs": [],
   "source": []
  }
 ],
 "metadata": {
  "kernelspec": {
   "display_name": "smart_magent_langgraph",
   "language": "python",
   "name": "python3"
  },
  "language_info": {
   "codemirror_mode": {
    "name": "ipython",
    "version": 3
   },
   "file_extension": ".py",
   "mimetype": "text/x-python",
   "name": "python",
   "nbconvert_exporter": "python",
   "pygments_lexer": "ipython3",
   "version": "3.12.10"
  }
 },
 "nbformat": 4,
 "nbformat_minor": 5
}
