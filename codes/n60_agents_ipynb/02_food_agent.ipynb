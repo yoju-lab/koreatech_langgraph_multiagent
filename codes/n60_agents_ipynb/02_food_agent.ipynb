{
 "cells": [
  {
   "cell_type": "markdown",
   "id": "f68bf9d5",
   "metadata": {},
   "source": [
    "# 02. Food Agent 실습 노트북\n",
    "이 노트북에서는 사용자의 의도(`food`)에 따라 GPT를 통해 음식 추천을 생성하는 흐름을 실습합니다.\n",
    "\n",
    "LangGraph 내에서 `intent == food`인 경우 실행되며, 추천 음식 리스트를 생성합니다."
   ]
  },
  {
   "cell_type": "markdown",
   "id": "d641ea86",
   "metadata": {},
   "source": [
    "## 📦 1. 라이브러리 및 모듈 불러오기"
   ]
  },
  {
   "cell_type": "code",
   "execution_count": 1,
   "id": "88af715d",
   "metadata": {},
   "outputs": [],
   "source": [
    "import sys\n",
    "import os\n",
    "sys.path.append(os.path.abspath(\"../n70_agents_projects\"))"
   ]
  },
  {
   "cell_type": "code",
   "execution_count": 2,
   "id": "05ca96a2",
   "metadata": {},
   "outputs": [],
   "source": [
    "# GPT 기반 음식 추천 에이전트 함수 불러오기\n",
    "from agents.food import recommend_food"
   ]
  },
  {
   "cell_type": "markdown",
   "id": "69689557",
   "metadata": {},
   "source": [
    "## ✍️ 2. 샘플 입력 구성"
   ]
  },
  {
   "cell_type": "code",
   "execution_count": 3,
   "id": "462a0f93",
   "metadata": {},
   "outputs": [],
   "source": [
    "# 음식 추천에 필요한 최소 상태를 정의합니다.\n",
    "state = {\n",
    "    \"user_input\": \"비오는 날 뜨끈한 거 뭐 없을까\",\n",
    "    \"season\": \"봄\",\n",
    "    \"weather\": \"Rain\",\n",
    "    \"time_slot\": \"야간\"\n",
    "}"
   ]
  },
  {
   "cell_type": "markdown",
   "id": "24b1ede9",
   "metadata": {},
   "source": [
    "## 🚀 3. 음식 추천 실행 및 결과 확인"
   ]
  },
  {
   "cell_type": "code",
   "execution_count": 4,
   "id": "ddda8cc4",
   "metadata": {},
   "outputs": [
    {
     "name": "stdout",
     "output_type": "stream",
     "text": [
      "추천된 음식 리스트: ['우동', '김치찌개']\n"
     ]
    }
   ],
   "source": [
    "# GPT가 조건에 맞는 음식 리스트를 생성합니다.\n",
    "result = recommend_food(state)\n",
    "print(\"추천된 음식 리스트:\", result[\"recommended_items\"])"
   ]
  },
  {
   "cell_type": "markdown",
   "id": "7e79c044",
   "metadata": {},
   "source": [
    "## ✏️ 4. 다른 조건으로도 테스트해보세요"
   ]
  },
  {
   "cell_type": "code",
   "execution_count": 5,
   "id": "254d37cf",
   "metadata": {},
   "outputs": [
    {
     "name": "stdout",
     "output_type": "stream",
     "text": [
      "추천된 음식: ['뜨끈한 국물 떡국', '구운 고구마']\n"
     ]
    }
   ],
   "source": [
    "# 여기에 다른 계절/날씨/시간대를 넣어보며 실습해보세요.\n",
    "state2 = {\n",
    "    \"user_input\": \"출출해\",\n",
    "    \"season\": \"겨울\",\n",
    "    \"weather\": \"Clear\",\n",
    "    \"time_slot\": \"야간\"\n",
    "}\n",
    "result2 = recommend_food(state2)\n",
    "print(\"추천된 음식:\", result2[\"recommended_items\"])"
   ]
  },
  {
   "cell_type": "code",
   "execution_count": null,
   "id": "17826d75",
   "metadata": {},
   "outputs": [],
   "source": []
  }
 ],
 "metadata": {
  "kernelspec": {
   "display_name": "Python 3",
   "language": "python",
   "name": "python3"
  },
  "language_info": {
   "codemirror_mode": {
    "name": "ipython",
    "version": 3
   },
   "file_extension": ".py",
   "mimetype": "text/x-python",
   "name": "python",
   "nbconvert_exporter": "python",
   "pygments_lexer": "ipython3",
   "version": "3.11.13"
  }
 },
 "nbformat": 4,
 "nbformat_minor": 5
}
