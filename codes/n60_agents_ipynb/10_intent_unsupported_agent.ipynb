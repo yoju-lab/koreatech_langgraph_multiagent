{
 "cells": [
  {
   "cell_type": "code",
   "execution_count": null,
   "id": "6b25fd8b",
   "metadata": {},
   "outputs": [],
   "source": [
    "import sys\n",
    "import os\n",
    "sys.path.append(os.path.abspath(\"../n70_agents_projects\"))"
   ]
  },
  {
   "cell_type": "markdown",
   "id": "08c9576b",
   "metadata": {},
   "source": [
    "# 10. Intent Unsupported Agent 실습 노트북\n",
    "이 노트북에서는 사용자 입력이 음식/활동 추천과 관련되지 않았을 경우,\n",
    "그에 대한 대응 메시지를 생성하는 Intent Unsupported Agent의 동작을 실습합니다.\n",
    "\n",
    "LangGraph에서는 분류된 intent가 'food', 'activity' 외의 'unknown'일 경우에만 실행되며,\n",
    "사용자에게 자연스럽고 친절한 종료 메시지를 제공합니다."
   ]
  },
  {
   "cell_type": "markdown",
   "id": "3ff32ecd",
   "metadata": {},
   "source": [
    "## 📦 1. 라이브러리 및 모듈 불러오기"
   ]
  },
  {
   "cell_type": "code",
   "execution_count": null,
   "id": "9bdfd068",
   "metadata": {},
   "outputs": [],
   "source": [
    "# 의도를 분류할 수 없을 때 실행되는 종료 메시지 함수 불러오기\n",
    "from agents.intent_unsupported import intent_unsupported_handler"
   ]
  },
  {
   "cell_type": "markdown",
   "id": "f6427798",
   "metadata": {},
   "source": [
    "## ✍️ 2. 샘플 입력 구성"
   ]
  },
  {
   "cell_type": "code",
   "execution_count": null,
   "id": "c7a9331b",
   "metadata": {},
   "outputs": [],
   "source": [
    "# 사용자의 입력이 추천 불가능한 경우 상태 예시\n",
    "state = {\n",
    "    \"user_input\": \"아이구 배야!\",\n",
    "    \"intent\": \"unknown\"\n",
    "}"
   ]
  },
  {
   "cell_type": "markdown",
   "id": "dddc78dd",
   "metadata": {},
   "source": [
    "## 🛑 3. graceful 종료 메시지 출력"
   ]
  },
  {
   "cell_type": "code",
   "execution_count": null,
   "id": "6a8792ab",
   "metadata": {},
   "outputs": [],
   "source": [
    "# 종료 메시지 생성\n",
    "result = intent_unsupported_handler(state)\n",
    "print(\"메시지:\", result[\"final_message\"])"
   ]
  },
  {
   "cell_type": "code",
   "execution_count": null,
   "id": "f7ea6c66",
   "metadata": {},
   "outputs": [],
   "source": []
  }
 ],
 "metadata": {
  "kernelspec": {
   "display_name": "smart_magent_langgraph",
   "language": "python",
   "name": "python3"
  },
  "language_info": {
   "codemirror_mode": {
    "name": "ipython",
    "version": 3
   },
   "file_extension": ".py",
   "mimetype": "text/x-python",
   "name": "python",
   "nbconvert_exporter": "python",
   "pygments_lexer": "ipython3",
   "version": "3.12.10"
  }
 },
 "nbformat": 4,
 "nbformat_minor": 5
}
