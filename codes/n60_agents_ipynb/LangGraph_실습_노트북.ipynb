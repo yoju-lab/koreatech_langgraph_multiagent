{
 "cells": [
  {
   "cell_type": "markdown",
   "id": "146b1490",
   "metadata": {},
   "source": [
    "# 🧠 LangGraph 흐름 실습 노트북\n",
    "이 노트북은 LangGraph를 기반으로 한 음식/활동 추천 서비스를 구성하는 전체 흐름을 단계별로 실습합니다.\n",
    "\n",
    "Streamlit 없이 Python 코드만으로 LangGraph 흐름을 실습하고, 각 노드의 동작 결과를 디버깅해보는 데 중점을 둡니다.\n",
    "\n",
    "모든 셀에는 초급자를 위한 설명과 주석이 포함되어 있습니다. 걱정하지 말고 하나씩 따라와 주세요 😊"
   ]
  },
  {
   "cell_type": "markdown",
   "id": "e55b1beb",
   "metadata": {},
   "source": [
    "## 1️⃣ 필수 라이브러리 및 에이전트 함수 불러오기\n",
    "먼저, 프로젝트에 필요한 모듈과 LangGraph 구성에 사용할 에이전트 함수를 불러옵니다."
   ]
  },
  {
   "cell_type": "code",
   "execution_count": 3,
   "id": "9576ccfb",
   "metadata": {},
   "outputs": [],
   "source": [
    "import sys\n",
    "import os\n",
    "sys.path.append(os.path.abspath(\"../n70_agents_projects\"))"
   ]
  },
  {
   "cell_type": "code",
   "execution_count": 4,
   "id": "d577e94c",
   "metadata": {},
   "outputs": [],
   "source": [
    "# 필요한 라이브러리 불러오기\n",
    "from langgraph.graph import StateGraph, END\n",
    "from typing_extensions import TypedDict\n",
    "\n",
    "# 프로젝트에서 정의한 에이전트들 불러오기\n",
    "from agents.intent import classify_intent\n",
    "from agents.time import get_time_slot\n",
    "from agents.season import get_season\n",
    "from agents.weather import get_weather\n",
    "from agents.food import recommend_food\n",
    "from agents.activity import recommend_activity\n",
    "from agents.keyword import generate_search_keyword\n",
    "from agents.place import search_place\n",
    "from agents.summary import summarize_message\n",
    "from agents.intent_unsupported import intent_unsupported_handler"
   ]
  },
  {
   "cell_type": "markdown",
   "id": "7117c9eb",
   "metadata": {},
   "source": [
    "## 2️⃣ 상태 정의하기 (State Type)\n",
    "LangGraph는 모든 정보를 상태(State)로 전달하며 작동합니다. 여기서 우리가 처리할 정보 항목들을 정의합니다."
   ]
  },
  {
   "cell_type": "code",
   "execution_count": 5,
   "id": "bc8fd160",
   "metadata": {},
   "outputs": [],
   "source": [
    "# 상태 구조 정의: LangGraph의 흐름을 구성하는 상태값입니다.\n",
    "# 각 노드에서는 이 딕셔너리를 입력받고, 일부 키를 업데이트하여 다음 노드로 넘깁니다.\n",
    "class State(TypedDict):\n",
    "    user_input: str\n",
    "    location: str\n",
    "    time_slot: str\n",
    "    season: str\n",
    "    weather: str\n",
    "    intent: str\n",
    "    recommended_items: list\n",
    "    search_keyword: str\n",
    "    recommended_place: dict\n",
    "    final_message: str"
   ]
  },
  {
   "cell_type": "markdown",
   "id": "7d8722fb",
   "metadata": {},
   "source": [
    "## 3️⃣ 그래프 빌더 구성하기\n",
    "LangGraph에서 각 노드 함수들을 연결하여 하나의 상태 흐름으로 만듭니다."
   ]
  },
  {
   "cell_type": "code",
   "execution_count": 6,
   "id": "0dd4fd48",
   "metadata": {},
   "outputs": [
    {
     "data": {
      "text/plain": [
       "<langgraph.graph.state.StateGraph at 0xffff9dbbbb90>"
      ]
     },
     "execution_count": 6,
     "metadata": {},
     "output_type": "execute_result"
    }
   ],
   "source": [
    "# 그래프 빌더 생성\n",
    "builder = StateGraph(State)\n",
    "\n",
    "# 에이전트 노드 추가\n",
    "builder.add_node(\"classify_intent\", classify_intent)\n",
    "builder.add_node(\"get_time_slot\", get_time_slot)\n",
    "builder.add_node(\"get_season\", get_season)\n",
    "builder.add_node(\"get_weather\", get_weather)\n",
    "builder.add_node(\"recommend_food\", recommend_food)\n",
    "builder.add_node(\"recommend_activity\", recommend_activity)\n",
    "builder.add_node(\"generate_search_keyword\", generate_search_keyword)\n",
    "builder.add_node(\"search_place\", search_place)\n",
    "builder.add_node(\"summarize_message\", summarize_message)\n",
    "builder.add_node(\"intent_unsupported\", intent_unsupported_handler)"
   ]
  },
  {
   "cell_type": "markdown",
   "id": "ea9b8ec6",
   "metadata": {},
   "source": [
    "## 4️⃣ 분기 정의 및 그래프 컴파일\n",
    "사용자의 의도에 따라 추천 흐름을 음식 / 활동 / 지원불가로 분기 처리합니다."
   ]
  },
  {
   "cell_type": "code",
   "execution_count": 7,
   "id": "0dccbf1e",
   "metadata": {},
   "outputs": [],
   "source": [
    "# 분기 함수 정의: 의도에 따라 경로를 다르게 설정\n",
    "def route_intent(state: State) -> str:\n",
    "    intent = state.get(\"intent\", \"\")\n",
    "    if intent == \"food\":\n",
    "        return \"recommend_food\"\n",
    "    elif intent == \"activity\":\n",
    "        return \"recommend_activity\"\n",
    "    return \"intent_unsupported\"\n",
    "\n",
    "# 흐름 구성\n",
    "builder.set_entry_point(\"classify_intent\")\n",
    "builder.add_edge(\"classify_intent\", \"get_time_slot\")\n",
    "builder.add_edge(\"get_time_slot\", \"get_season\")\n",
    "builder.add_edge(\"get_season\", \"get_weather\")\n",
    "builder.add_conditional_edges(\"get_weather\", route_intent, {\n",
    "    \"recommend_food\": \"recommend_food\",\n",
    "    \"recommend_activity\": \"recommend_activity\",\n",
    "    \"intent_unsupported\": \"intent_unsupported\"\n",
    "})\n",
    "builder.add_edge(\"recommend_food\", \"generate_search_keyword\")\n",
    "builder.add_edge(\"recommend_activity\", \"generate_search_keyword\")\n",
    "builder.add_edge(\"generate_search_keyword\", \"search_place\")\n",
    "builder.add_edge(\"search_place\", \"summarize_message\")\n",
    "builder.add_edge(\"summarize_message\", END)\n",
    "builder.add_edge(\"intent_unsupported\", END)\n",
    "\n",
    "# 그래프 컴파일\n",
    "graph = builder.compile()"
   ]
  },
  {
   "cell_type": "markdown",
   "id": "afa5d87c",
   "metadata": {},
   "source": [
    "## 5️⃣ 테스트 실행 및 결과 확인\n",
    "입력 예시를 기반으로 그래프를 실행하고, 각 단계의 출력을 확인합니다."
   ]
  },
  {
   "cell_type": "code",
   "execution_count": 8,
   "id": "8dd12ea8",
   "metadata": {},
   "outputs": [
    {
     "name": "stdout",
     "output_type": "stream",
     "text": [
      ">>> GPT intent 응답: { \"intent\": [\"food\"] }\n",
      ">>> OpenWeather API 호출 시작 (서울 기준)\n",
      ">>> GPT 생성 키워드 검색: 홍대 한식\n",
      ">>> GPT 생성 키워드 검색: 홍대 한식\n",
      "✅ LangGraph 실행 완료\n",
      "\n",
      "Step 1: classify_intent\n",
      "{'classify_intent': {'user_input': '비 오는 날 따뜻한 거 먹고 싶다', 'location': '홍대', 'intent': 'food'}} \n",
      "\n",
      "Step 2: get_time_slot\n",
      "{'get_time_slot': {'user_input': '비 오는 날 따뜻한 거 먹고 싶다', 'location': '홍대', 'intent': 'food', 'time_slot': '야간'}} \n",
      "\n",
      "Step 3: get_season\n",
      "{'get_season': {'user_input': '비 오는 날 따뜻한 거 먹고 싶다', 'location': '홍대', 'time_slot': '야간', 'intent': 'food', 'season': '여름'}} \n",
      "\n",
      "Step 4: get_weather\n",
      "{'get_weather': {'user_input': '비 오는 날 따뜻한 거 먹고 싶다', 'location': '홍대', 'time_slot': '야간', 'season': '여름', 'intent': 'food', 'weather': 'Clouds'}} \n",
      "\n",
      "Step 5: recommend_food\n",
      "{'recommend_food': {'user_input': '비 오는 날 따뜻한 거 먹고 싶다', 'location': '홍대', 'time_slot': '야간', 'season': '여름', 'weather': 'Clouds', 'intent': 'food', 'recommended_items': ['김치찌개', '부대찌개']}} \n",
      "\n",
      "Step 6: generate_search_keyword\n",
      "{'generate_search_keyword': {'user_input': '비 오는 날 따뜻한 거 먹고 싶다', 'location': '홍대', 'time_slot': '야간', 'season': '여름', 'weather': 'Clouds', 'intent': 'food', 'recommended_items': ['김치찌개', '부대찌개'], 'search_keyword': '한식'}} \n",
      "\n",
      "Step 7: search_place\n",
      "{'search_place': {'user_input': '비 오는 날 따뜻한 거 먹고 싶다', 'location': '홍대', 'time_slot': '야간', 'season': '여름', 'weather': 'Clouds', 'intent': 'food', 'recommended_items': ['김치찌개', '부대찌개'], 'search_keyword': '한식', 'recommended_place': {'name': '홍대 조선시대', 'address': '서울 마포구 홍익로3길 44', 'url': 'http://place.map.kakao.com/1985225055'}}} \n",
      "\n",
      "Step 8: summarize_message\n",
      "{'summarize_message': {'user_input': '비 오는 날 따뜻한 거 먹고 싶다', 'location': '홍대', 'time_slot': '야간', 'season': '여름', 'weather': 'Clouds', 'intent': 'food', 'recommended_items': ['김치찌개', '부대찌개'], 'search_keyword': '한식', 'recommended_place': {'name': '홍대 조선시대', 'address': '서울 마포구 홍익로3길 44', 'url': 'http://place.map.kakao.com/1985225055'}, 'final_message': '여름 밤, 구름이 드리운 하늘 아래에서 따뜻한 김치찌개 한 그릇의 온기를 느껴보세요. 홍대의 조선시대에서 전해지는 깊고 진한 맛의 김치찌개는, 하루의 피로를 잊게 해줄 소중한 한 끼가 될 것입니다. 친구와 함께 나누는 대화 속에서 김치찌개의 매콤한 국물과 함께 따뜻한 정을 느껴보세요. 이곳에서의 소중한 순간들이 여러분의 여름 밤을 더욱 특별하게 만들어줄 거예요. 지도 링크를 따라가며, 그 맛있는 경험을 만끽해 보세요: [지도 링크](http://place.map.kakao.com/1985225055).'}} \n",
      "\n",
      "📦 최종 추천 메시지:\n",
      "여름 밤, 구름이 드리운 하늘 아래에서 따뜻한 김치찌개 한 그릇의 온기를 느껴보세요. 홍대의 조선시대에서 전해지는 깊고 진한 맛의 김치찌개는, 하루의 피로를 잊게 해줄 소중한 한 끼가 될 것입니다. 친구와 함께 나누는 대화 속에서 김치찌개의 매콤한 국물과 함께 따뜻한 정을 느껴보세요. 이곳에서의 소중한 순간들이 여러분의 여름 밤을 더욱 특별하게 만들어줄 거예요. 지도 링크를 따라가며, 그 맛있는 경험을 만끽해 보세요: [지도 링크](http://place.map.kakao.com/1985225055).\n",
      "✅ LangGraph 실행 완료\n",
      "\n",
      "Step 1: classify_intent\n",
      "{'classify_intent': {'user_input': '비 오는 날 따뜻한 거 먹고 싶다', 'location': '홍대', 'intent': 'food'}} \n",
      "\n",
      "Step 2: get_time_slot\n",
      "{'get_time_slot': {'user_input': '비 오는 날 따뜻한 거 먹고 싶다', 'location': '홍대', 'intent': 'food', 'time_slot': '야간'}} \n",
      "\n",
      "Step 3: get_season\n",
      "{'get_season': {'user_input': '비 오는 날 따뜻한 거 먹고 싶다', 'location': '홍대', 'time_slot': '야간', 'intent': 'food', 'season': '여름'}} \n",
      "\n",
      "Step 4: get_weather\n",
      "{'get_weather': {'user_input': '비 오는 날 따뜻한 거 먹고 싶다', 'location': '홍대', 'time_slot': '야간', 'season': '여름', 'intent': 'food', 'weather': 'Clouds'}} \n",
      "\n",
      "Step 5: recommend_food\n",
      "{'recommend_food': {'user_input': '비 오는 날 따뜻한 거 먹고 싶다', 'location': '홍대', 'time_slot': '야간', 'season': '여름', 'weather': 'Clouds', 'intent': 'food', 'recommended_items': ['김치찌개', '부대찌개']}} \n",
      "\n",
      "Step 6: generate_search_keyword\n",
      "{'generate_search_keyword': {'user_input': '비 오는 날 따뜻한 거 먹고 싶다', 'location': '홍대', 'time_slot': '야간', 'season': '여름', 'weather': 'Clouds', 'intent': 'food', 'recommended_items': ['김치찌개', '부대찌개'], 'search_keyword': '한식'}} \n",
      "\n",
      "Step 7: search_place\n",
      "{'search_place': {'user_input': '비 오는 날 따뜻한 거 먹고 싶다', 'location': '홍대', 'time_slot': '야간', 'season': '여름', 'weather': 'Clouds', 'intent': 'food', 'recommended_items': ['김치찌개', '부대찌개'], 'search_keyword': '한식', 'recommended_place': {'name': '홍대 조선시대', 'address': '서울 마포구 홍익로3길 44', 'url': 'http://place.map.kakao.com/1985225055'}}} \n",
      "\n",
      "Step 8: summarize_message\n",
      "{'summarize_message': {'user_input': '비 오는 날 따뜻한 거 먹고 싶다', 'location': '홍대', 'time_slot': '야간', 'season': '여름', 'weather': 'Clouds', 'intent': 'food', 'recommended_items': ['김치찌개', '부대찌개'], 'search_keyword': '한식', 'recommended_place': {'name': '홍대 조선시대', 'address': '서울 마포구 홍익로3길 44', 'url': 'http://place.map.kakao.com/1985225055'}, 'final_message': '여름 밤, 구름이 드리운 하늘 아래에서 따뜻한 김치찌개 한 그릇의 온기를 느껴보세요. 홍대의 조선시대에서 전해지는 깊고 진한 맛의 김치찌개는, 하루의 피로를 잊게 해줄 소중한 한 끼가 될 것입니다. 친구와 함께 나누는 대화 속에서 김치찌개의 매콤한 국물과 함께 따뜻한 정을 느껴보세요. 이곳에서의 소중한 순간들이 여러분의 여름 밤을 더욱 특별하게 만들어줄 거예요. 지도 링크를 따라가며, 그 맛있는 경험을 만끽해 보세요: [지도 링크](http://place.map.kakao.com/1985225055).'}} \n",
      "\n",
      "📦 최종 추천 메시지:\n",
      "여름 밤, 구름이 드리운 하늘 아래에서 따뜻한 김치찌개 한 그릇의 온기를 느껴보세요. 홍대의 조선시대에서 전해지는 깊고 진한 맛의 김치찌개는, 하루의 피로를 잊게 해줄 소중한 한 끼가 될 것입니다. 친구와 함께 나누는 대화 속에서 김치찌개의 매콤한 국물과 함께 따뜻한 정을 느껴보세요. 이곳에서의 소중한 순간들이 여러분의 여름 밤을 더욱 특별하게 만들어줄 거예요. 지도 링크를 따라가며, 그 맛있는 경험을 만끽해 보세요: [지도 링크](http://place.map.kakao.com/1985225055).\n"
     ]
    }
   ],
   "source": [
    "# 테스트 입력 예시\n",
    "test_input = {\n",
    "    \"user_input\": \"비 오는 날 따뜻한 거 먹고 싶다\",\n",
    "    \"location\": \"홍대\"\n",
    "}\n",
    "\n",
    "# 그래프 실행\n",
    "events = list(graph.stream(test_input))\n",
    "print(\"✅ LangGraph 실행 완료\\n\")\n",
    "for i, e in enumerate(events):\n",
    "    print(f\"Step {i+1}: {list(e.keys())[0]}\")\n",
    "    print(e, \"\\n\")\n",
    "\n",
    "# 최종 상태 출력\n",
    "final_state = events[-1].get(\"__end__\") or events[-1].get(\"summarize_message\", {})\n",
    "print(\"📦 최종 추천 메시지:\")\n",
    "print(final_state.get(\"final_message\", \"추천 결과가 없습니다.\"))"
   ]
  },
  {
   "cell_type": "code",
   "execution_count": 9,
   "id": "ea17c6e1",
   "metadata": {},
   "outputs": [
    {
     "data": {
      "image/png": "[encoded data removed]",
      "text/plain": [
       "<IPython.core.display.Image object>"
      ]
     },
     "metadata": {},
     "output_type": "display_data"
    }
   ],
   "source": [
    "from IPython.display import Image, display\n",
    "\n",
    "display(Image(graph.get_graph().draw_mermaid_png()))"
   ]
  },
  {
   "cell_type": "code",
   "execution_count": null,
   "id": "ac4582c6",
   "metadata": {},
   "outputs": [],
   "source": []
  }
 ],
 "metadata": {
  "kernelspec": {
   "display_name": "Python 3",
   "language": "python",
   "name": "python3"
  },
  "language_info": {
   "codemirror_mode": {
    "name": "ipython",
    "version": 3
   },
   "file_extension": ".py",
   "mimetype": "text/x-python",
   "name": "python",
   "nbconvert_exporter": "python",
   "pygments_lexer": "ipython3",
   "version": "3.11.13"
  }
 },
 "nbformat": 4,
 "nbformat_minor": 5
}
