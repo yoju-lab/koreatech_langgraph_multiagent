{
 "cells": [
  {
   "cell_type": "code",
   "execution_count": null,
   "id": "68950fd8",
   "metadata": {},
   "outputs": [],
   "source": [
    "import sys\n",
    "import os\n",
    "sys.path.append(os.path.abspath(\"../n70_agents_projects\"))"
   ]
  },
  {
   "cell_type": "markdown",
   "id": "de5b71e3",
   "metadata": {},
   "source": [
    "# 08. Season Agent 실습 노트북\n",
    "이 노트북에서는 현재 날짜를 기준으로 계절을 자동 분류하는 Season Agent의 동작을 실습합니다.\n",
    "\n",
    "계절은 봄(3~5월), 여름(6~8월), 가을(9~11월), 겨울(12~2월) 중 하나로 분류되며,\n",
    "LangGraph 내에서는 음식/활동 추천 시 조건 컨텍스트로 사용됩니다."
   ]
  },
  {
   "cell_type": "markdown",
   "id": "1c7844f8",
   "metadata": {},
   "source": [
    "## 📦 1. 라이브러리 및 모듈 불러오기"
   ]
  },
  {
   "cell_type": "code",
   "execution_count": null,
   "id": "0810386c",
   "metadata": {},
   "outputs": [],
   "source": [
    "# 계절 분류 에이전트 함수 불러오기\n",
    "from agents.season import get_season"
   ]
  },
  {
   "cell_type": "markdown",
   "id": "ef0704f8",
   "metadata": {},
   "source": [
    "## ✍️ 2. 샘플 상태 구성"
   ]
  },
  {
   "cell_type": "code",
   "execution_count": null,
   "id": "a46e474f",
   "metadata": {},
   "outputs": [],
   "source": [
    "# 계절 분류는 현재 월을 기준으로 자동 판단됩니다.\n",
    "state = {}"
   ]
  },
  {
   "cell_type": "markdown",
   "id": "f3158689",
   "metadata": {},
   "source": [
    "## 🍃 3. 계절 분류 실행"
   ]
  },
  {
   "cell_type": "code",
   "execution_count": null,
   "id": "43281822",
   "metadata": {},
   "outputs": [],
   "source": [
    "result = get_season(state)\n",
    "print(\"현재 날짜에 따른 분류된 계절:\", result[\"season\"])"
   ]
  },
  {
   "cell_type": "markdown",
   "id": "143efddb",
   "metadata": {},
   "source": [
    "## 🗓 4. 오늘 날짜 확인"
   ]
  },
  {
   "cell_type": "code",
   "execution_count": null,
   "id": "3bd70072",
   "metadata": {},
   "outputs": [],
   "source": [
    "from datetime import datetime\n",
    "print(\"오늘 날짜:\", datetime.now().strftime(\"%Y-%m-%d\"))"
   ]
  },
  {
   "cell_type": "code",
   "execution_count": null,
   "id": "9a2f8a7f",
   "metadata": {},
   "outputs": [],
   "source": []
  }
 ],
 "metadata": {
  "kernelspec": {
   "display_name": "smart_magent_langgraph",
   "language": "python",
   "name": "python3"
  },
  "language_info": {
   "codemirror_mode": {
    "name": "ipython",
    "version": 3
   },
   "file_extension": ".py",
   "mimetype": "text/x-python",
   "name": "python",
   "nbconvert_exporter": "python",
   "pygments_lexer": "ipython3",
   "version": "3.12.10"
  }
 },
 "nbformat": 4,
 "nbformat_minor": 5
}
