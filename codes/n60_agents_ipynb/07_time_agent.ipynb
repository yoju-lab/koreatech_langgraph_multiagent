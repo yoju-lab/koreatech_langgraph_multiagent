{
 "cells": [
  {
   "cell_type": "code",
   "execution_count": null,
   "id": "7a0eef1b",
   "metadata": {},
   "outputs": [],
   "source": [
    "import sys\n",
    "import os\n",
    "sys.path.append(os.path.abspath(\"../n70_agents_projects\"))"
   ]
  },
  {
   "cell_type": "markdown",
   "id": "dc63b703",
   "metadata": {},
   "source": [
    "# 07. Time Agent 실습 노트북\n",
    "이 노트북에서는 현재 시각을 기준으로 시간대를 자동 분류하는 Time Agent의 동작을 실습합니다.\n",
    "\n",
    "시간대는 아침(5-11시), 점심(11-16시), 저녁(16-22시), 야간(22-5시) 중 하나로 분류됩니다.\n",
    "LangGraph 내에서 조건 분기를 위한 중요한 컨텍스트입니다."
   ]
  },
  {
   "cell_type": "markdown",
   "id": "01e18af0",
   "metadata": {},
   "source": [
    "## 📦 1. 라이브러리 및 모듈 불러오기"
   ]
  },
  {
   "cell_type": "code",
   "execution_count": null,
   "id": "6bd42503",
   "metadata": {},
   "outputs": [],
   "source": [
    "# 시간대 추출 에이전트 함수 불러오기\n",
    "from agents.time import get_time_slot"
   ]
  },
  {
   "cell_type": "markdown",
   "id": "49d1435b",
   "metadata": {},
   "source": [
    "## ✍️ 2. 샘플 상태 구성"
   ]
  },
  {
   "cell_type": "code",
   "execution_count": null,
   "id": "a9e823c1",
   "metadata": {},
   "outputs": [],
   "source": [
    "# 최소 입력: 아무 값 없이 빈 딕셔너리도 가능 (내부적으로 datetime.now 사용)\n",
    "state = {}"
   ]
  },
  {
   "cell_type": "markdown",
   "id": "49ce525f",
   "metadata": {},
   "source": [
    "## 🕒 3. 시간대 추출 실행"
   ]
  },
  {
   "cell_type": "code",
   "execution_count": null,
   "id": "c9b54467",
   "metadata": {},
   "outputs": [],
   "source": [
    "result = get_time_slot(state)\n",
    "print(\"현재 시간에 따른 분류된 시간대:\", result[\"time_slot\"])"
   ]
  },
  {
   "cell_type": "markdown",
   "id": "8a35ba42",
   "metadata": {},
   "source": [
    "## 🔁 4. 직접 테스트해보세요"
   ]
  },
  {
   "cell_type": "code",
   "execution_count": null,
   "id": "9d8990b7",
   "metadata": {},
   "outputs": [],
   "source": [
    "# 실제 시각 확인 (현재 실행되는 환경 기준)\n",
    "from datetime import datetime\n",
    "print(\"현재 시각 (기준):\", datetime.now().strftime(\"%Y-%m-%d %H:%M\"))"
   ]
  },
  {
   "cell_type": "code",
   "execution_count": null,
   "id": "1c65390b",
   "metadata": {},
   "outputs": [],
   "source": []
  }
 ],
 "metadata": {
  "kernelspec": {
   "display_name": "smart_magent_langgraph",
   "language": "python",
   "name": "python3"
  },
  "language_info": {
   "codemirror_mode": {
    "name": "ipython",
    "version": 3
   },
   "file_extension": ".py",
   "mimetype": "text/x-python",
   "name": "python",
   "nbconvert_exporter": "python",
   "pygments_lexer": "ipython3",
   "version": "3.12.10"
  }
 },
 "nbformat": 4,
 "nbformat_minor": 5
}
