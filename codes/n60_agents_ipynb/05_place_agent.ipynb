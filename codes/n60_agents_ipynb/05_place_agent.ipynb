{
 "cells": [
  {
   "cell_type": "code",
   "execution_count": null,
   "id": "e7763179",
   "metadata": {},
   "outputs": [],
   "source": [
    "import sys\n",
    "import os\n",
    "sys.path.append(os.path.abspath(\"../n70_agents_projects\"))"
   ]
  },
  {
   "cell_type": "markdown",
   "id": "cb36349f",
   "metadata": {},
   "source": [
    "# 05. Place Agent 실습 노트북\n",
    "이 노트북에서는 장소 검색 키워드를 기반으로 Kakao Local API를 이용해 실제 장소를 검색하는 흐름을 실습합니다.\n",
    "\n",
    "LangGraph 내에서는 음식 또는 활동에 대한 추천 키워드를 받아 실제 장소 정보를 가져오게 됩니다."
   ]
  },
  {
   "cell_type": "markdown",
   "id": "6ae7e980",
   "metadata": {},
   "source": [
    "## 📦 1. 라이브러리 및 모듈 불러오기"
   ]
  },
  {
   "cell_type": "code",
   "execution_count": null,
   "id": "b90a8dc6",
   "metadata": {},
   "outputs": [],
   "source": [
    "# Kakao API를 이용한 장소 검색 함수 불러오기\n",
    "from agents.place import search_place"
   ]
  },
  {
   "cell_type": "markdown",
   "id": "3082e0e0",
   "metadata": {},
   "source": [
    "## ✍️ 2. 샘플 입력 구성"
   ]
  },
  {
   "cell_type": "code",
   "execution_count": null,
   "id": "61b6b78a",
   "metadata": {},
   "outputs": [],
   "source": [
    "# 검색 키워드와 지역을 포함한 상태 정보 구성\n",
    "state = {\n",
    "    \"location\": \"홍대\",\n",
    "    \"search_keyword\": \"한식\"\n",
    "}"
   ]
  },
  {
   "cell_type": "markdown",
   "id": "f18d13cc",
   "metadata": {},
   "source": [
    "## 🚀 3. 장소 검색 실행 및 결과 확인"
   ]
  },
  {
   "cell_type": "code",
   "execution_count": null,
   "id": "66815ce4",
   "metadata": {},
   "outputs": [],
   "source": [
    "# Kakao API를 호출하여 추천 장소를 가져옵니다.\n",
    "result = search_place(state)\n",
    "print(\"추천된 장소 이름:\", result[\"recommended_place\"][\"name\"])\n",
    "print(\"주소:\", result[\"recommended_place\"][\"address\"])\n",
    "print(\"지도 링크:\", result[\"recommended_place\"][\"url\"])"
   ]
  },
  {
   "cell_type": "markdown",
   "id": "fea0d47b",
   "metadata": {},
   "source": [
    "## ✏️ 4. 다양한 키워드로 테스트해보세요"
   ]
  },
  {
   "cell_type": "code",
   "execution_count": null,
   "id": "25594705",
   "metadata": {},
   "outputs": [],
   "source": [
    "state2 = {\n",
    "    \"location\": \"신촌\",\n",
    "    \"search_keyword\": \"북카페\"\n",
    "}\n",
    "result2 = search_place(state2)\n",
    "print(\"추천 장소:\", result2[\"recommended_place\"])"
   ]
  },
  {
   "cell_type": "code",
   "execution_count": null,
   "id": "117b4028",
   "metadata": {},
   "outputs": [],
   "source": []
  }
 ],
 "metadata": {
  "kernelspec": {
   "display_name": "smart_magent_langgraph",
   "language": "python",
   "name": "python3"
  },
  "language_info": {
   "codemirror_mode": {
    "name": "ipython",
    "version": 3
   },
   "file_extension": ".py",
   "mimetype": "text/x-python",
   "name": "python",
   "nbconvert_exporter": "python",
   "pygments_lexer": "ipython3",
   "version": "3.12.10"
  }
 },
 "nbformat": 4,
 "nbformat_minor": 5
}
