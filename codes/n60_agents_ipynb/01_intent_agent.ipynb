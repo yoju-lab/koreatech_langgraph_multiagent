{
 "cells": [
  {
   "cell_type": "markdown",
   "id": "67c13412",
   "metadata": {},
   "source": [
    "# 01. Intent Agent 실습 노트북\n",
    "이 노트북에서는 사용자의 자연어 입력을 GPT를 통해 `food`, `activity`, `unknown` 중 하나로 분류하는 의도 판단 에이전트를 실습합니다.\n",
    "\n",
    "LangGraph 흐름에서 가장 첫 번째로 실행되는 노드이며, 입력이 어떤 추천 경로로 이어질지 결정하는 중요한 단계입니다."
   ]
  },
  {
   "cell_type": "markdown",
   "id": "ece3209f",
   "metadata": {},
   "source": [
    "## 📦 1. 라이브러리 및 모듈 불러오기"
   ]
  },
  {
   "cell_type": "code",
   "execution_count": 10,
   "id": "c5b557d0",
   "metadata": {},
   "outputs": [],
   "source": [
    "# 필요한 라이브러리 및 에이전트 함수 불러오기\n",
    "import sys\n",
    "import os\n",
    "sys.path.append(os.path.abspath(\"../n70_agents_projects\"))\n",
    "from agents.intent import classify_intent"
   ]
  },
  {
   "cell_type": "markdown",
   "id": "f5bda0f5",
   "metadata": {},
   "source": [
    "## ✍️ 2. 샘플 입력 준비"
   ]
  },
  {
   "cell_type": "code",
   "execution_count": 11,
   "id": "07e5e071",
   "metadata": {},
   "outputs": [],
   "source": [
    "# 예시 입력을 딕셔너리로 구성합니다.\n",
    "test_input_1 = {\"user_input\": \"배고파\"}\n",
    "test_input_2 = {\"user_input\": \"뭐 하지?\"}\n",
    "test_input_3 = {\"user_input\": \"배가 아파요...\"}"
   ]
  },
  {
   "cell_type": "markdown",
   "id": "756282b8",
   "metadata": {},
   "source": [
    "## 🚀 3. Intent 분류 함수 실행"
   ]
  },
  {
   "cell_type": "code",
   "execution_count": 12,
   "id": "5f745f87",
   "metadata": {},
   "outputs": [
    {
     "name": "stdout",
     "output_type": "stream",
     "text": [
      "입력1: 배고파\n",
      ">>> GPT intent 응답: { \"intent\": [\"food\"] }\n",
      "결과: food\n",
      "입력2: 뭐 하지?\n",
      ">>> GPT intent 응답: { \"intent\": [\"food\"] }\n",
      "결과: food\n",
      "입력2: 뭐 하지?\n",
      ">>> GPT intent 응답: { \"intent\": [\"activity\"] }\n",
      "결과: activity\n",
      "입력3: 배가 아파요...\n",
      ">>> GPT intent 응답: { \"intent\": [\"activity\"] }\n",
      "결과: activity\n",
      "입력3: 배가 아파요...\n",
      ">>> GPT intent 응답: { \"intent\": [\"unknown\"] }\n",
      "결과: unknown\n",
      ">>> GPT intent 응답: { \"intent\": [\"unknown\"] }\n",
      "결과: unknown\n"
     ]
    }
   ],
   "source": [
    "# classify_intent는 state 딕셔너리를 입력받아 intent를 판단해 반환합니다.\n",
    "print(\"입력1:\", test_input_1[\"user_input\"])\n",
    "print(\"결과:\", classify_intent(test_input_1)[\"intent\"])\n",
    "\n",
    "print(\"입력2:\", test_input_2[\"user_input\"])\n",
    "print(\"결과:\", classify_intent(test_input_2)[\"intent\"])\n",
    "\n",
    "print(\"입력3:\", test_input_3[\"user_input\"])\n",
    "print(\"결과:\", classify_intent(test_input_3)[\"intent\"])"
   ]
  },
  {
   "cell_type": "markdown",
   "id": "c1d89268",
   "metadata": {},
   "source": [
    "## ✏️ 4. 직접 입력해보고 테스트해 보세요"
   ]
  },
  {
   "cell_type": "code",
   "execution_count": 13,
   "id": "f1ede70c",
   "metadata": {},
   "outputs": [
    {
     "name": "stdout",
     "output_type": "stream",
     "text": [
      "입력: 비 오는 날 뭐 먹을까?\n",
      ">>> GPT intent 응답: { \"intent\": [\"food\"] }\n",
      "결과: food\n",
      ">>> GPT intent 응답: { \"intent\": [\"food\"] }\n",
      "결과: food\n"
     ]
    }
   ],
   "source": [
    "# 아래에 원하는 문장을 입력해보고 intent가 어떻게 분류되는지 확인해 보세요.\n",
    "my_input = {\"user_input\": \"비 오는 날 뭐 먹을까?\"}\n",
    "print(\"입력:\", my_input[\"user_input\"])\n",
    "print(\"결과:\", classify_intent(my_input)[\"intent\"])"
   ]
  },
  {
   "cell_type": "code",
   "execution_count": null,
   "id": "810519b5",
   "metadata": {},
   "outputs": [],
   "source": []
  }
 ],
 "metadata": {
  "kernelspec": {
   "display_name": "Python 3",
   "language": "python",
   "name": "python3"
  },
  "language_info": {
   "codemirror_mode": {
    "name": "ipython",
    "version": 3
   },
   "file_extension": ".py",
   "mimetype": "text/x-python",
   "name": "python",
   "nbconvert_exporter": "python",
   "pygments_lexer": "ipython3",
   "version": "3.11.13"
  }
 },
 "nbformat": 4,
 "nbformat_minor": 5
}
