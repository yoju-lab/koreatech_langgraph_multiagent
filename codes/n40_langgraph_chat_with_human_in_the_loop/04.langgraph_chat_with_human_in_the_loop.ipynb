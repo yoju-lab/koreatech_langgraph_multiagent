{
 "cells": [
  {
   "cell_type": "code",
   "execution_count": 1,
   "id": "1081c774",
   "metadata": {},
   "outputs": [],
   "source": [
    "from langchain_openai import ChatOpenAI\n",
    "from langchain_core.messages import HumanMessage\n",
    "from langgraph.graph import StateGraph, START, END\n",
    "from langgraph.graph.message import add_messages\n",
    "from typing_extensions import TypedDict\n",
    "from typing import Annotated, List\n",
    "from dotenv import load_dotenv\n",
    "import os"
   ]
  },
  {
   "cell_type": "code",
   "execution_count": 2,
   "id": "cd2ba51e",
   "metadata": {},
   "outputs": [],
   "source": [
    "load_dotenv()\n",
    "openai_model = os.getenv(\"OPENAI_MODEL\", \"gpt-4o-mini\")"
   ]
  },
  {
   "cell_type": "code",
   "execution_count": 3,
   "id": "efac102a",
   "metadata": {},
   "outputs": [
    {
     "data": {
      "text/plain": [
       "[{'title': 'LangGraph란? - Dev studying blog - 티스토리',\n",
       "  'url': 'https://dev-studyingblog.tistory.com/112',\n",
       "  'content': 'LangGraph는 LangChain을 기반으로 만든 멀티에이전트 및 워크플로우 자동화 프레임워크이다. 쉽게 말해 AI 모델 간의 협업을 가능하게 하는 시스템',\n",
       "  'score': 0.87981987},\n",
       " {'title': 'langgraph 소개 및 기본개념 : 네이버 블로그',\n",
       "  'url': 'https://blog.naver.com/pjt3591oo/223861729229?fromRss=true&trackingCode=rss',\n",
       "  'content': 'LangGraph는 LangChain 상태계의 일부로 LLM 애플리케이션의 흐름을 그래프로 정의하고 실행하는 라이브러리입니다. 여기서 그래프는 CS(Computer Science)',\n",
       "  'score': 0.87807417}]"
      ]
     },
     "execution_count": 3,
     "metadata": {},
     "output_type": "execute_result"
    }
   ],
   "source": [
    "from langchain_community.tools.tavily_search import TavilySearchResults\n",
    "search_tool = TavilySearchResults(max_results=2)\n",
    "search_tool.invoke(\"LangGraph가 무엇인가요?\")"
   ]
  },
  {
   "cell_type": "code",
   "execution_count": 4,
   "id": "01910fbd",
   "metadata": {},
   "outputs": [],
   "source": [
    "from langchain_core.tools import tool\n",
    "from langgraph.types import interrupt\n",
    "\n",
    "@tool\n",
    "def human_assist(query):\n",
    "    \"\"\"Human assist tool\"\"\"\n",
    "    human_response = interrupt({\"query\": query})\n",
    "    return human_response[\"data\"]"
   ]
  },
  {
   "cell_type": "code",
   "execution_count": 5,
   "id": "977c405d",
   "metadata": {},
   "outputs": [],
   "source": [
    "class State(TypedDict):\n",
    "    messages: Annotated[list, add_messages]"
   ]
  },
  {
   "cell_type": "code",
   "execution_count": 6,
   "id": "adf248ef",
   "metadata": {},
   "outputs": [],
   "source": [
    "llm = ChatOpenAI(model=openai_model)\n",
    "tools = [search_tool, human_assist]\n",
    "llm_with_tools = llm.bind_tools(tools)"
   ]
  },
  {
   "cell_type": "code",
   "execution_count": 7,
   "id": "df37e6bc",
   "metadata": {},
   "outputs": [],
   "source": [
    "def chatbot(state: State):\n",
    "    response = llm_with_tools.invoke(state[\"messages\"])\n",
    "    return {\"messages\": [response]}"
   ]
  },
  {
   "cell_type": "code",
   "execution_count": 8,
   "id": "07be6560",
   "metadata": {},
   "outputs": [],
   "source": [
    "from langgraph.checkpoint.memory import MemorySaver\n",
    "memory = MemorySaver()"
   ]
  },
  {
   "cell_type": "code",
   "execution_count": 9,
   "id": "7dcefd2d",
   "metadata": {},
   "outputs": [],
   "source": [
    "from langgraph.prebuilt import ToolNode, tools_condition\n",
    "tool_node = ToolNode(tools)\n",
    "workflow = StateGraph(State)\n",
    "workflow.add_node(\"chatbot\", chatbot)\n",
    "workflow.add_node(\"tools\", tool_node)\n",
    "workflow.add_conditional_edges(\"chatbot\", tools_condition)\n",
    "workflow.add_edge(\"tools\", \"chatbot\")\n",
    "workflow.add_edge(START, \"chatbot\")\n",
    "graph = workflow.compile(checkpointer=memory)"
   ]
  },
  {
   "cell_type": "code",
   "execution_count": 10,
   "id": "9de063f7",
   "metadata": {},
   "outputs": [
    {
     "data": {
      "image/png": "[encoded data removed]",
      "text/plain": [
       "<IPython.core.display.Image object>"
      ]
     },
     "metadata": {},
     "output_type": "display_data"
    }
   ],
   "source": [
    "from IPython.display import Image, display\n",
    "display(Image(graph.get_graph().draw_mermaid_png()))"
   ]
  },
  {
   "cell_type": "code",
   "execution_count": 11,
   "id": "d21280d4",
   "metadata": {},
   "outputs": [],
   "source": [
    "config = {\"configurable\": {\"thread_id\": \"user123\"}}"
   ]
  },
  {
   "cell_type": "code",
   "execution_count": 12,
   "id": "b8761b2d",
   "metadata": {},
   "outputs": [
    {
     "name": "stdout",
     "output_type": "stream",
     "text": [
      "No messages found in the snapshot.\n",
      "()\n"
     ]
    }
   ],
   "source": [
    "from pprint import pprint\n",
    "snapshot = graph.get_state(config)\n",
    "if 'messages' in snapshot.values:\n",
    "    pprint(snapshot.values['messages'])\n",
    "else:\n",
    "    print(\"No messages found in the snapshot.\")\n",
    "print(snapshot.next)"
   ]
  },
  {
   "cell_type": "code",
   "execution_count": 13,
   "id": "32032d06",
   "metadata": {},
   "outputs": [
    {
     "name": "stdout",
     "output_type": "stream",
     "text": [
      "LangGraph는 AI 에이전트 개발을 위한 강력한 프레임워크로 여러 특징을 가지고 있습니다:\n",
      "\n",
      "1. **Multi Agent 시스템**: LangGraph는 Amazon Bedrock과의 통합을 통해 정교한 AI 애플리케이션을 구성할 수 있는 Multi Agent 시스템 개발에 최적화되어 있습니다. 이 시스템은 에이전트 간의 오케스트레이션, 상태 관리, 오류 처리, 그리고 인간의 개입(human-in-the-loop) 기능을 지원합니다.\n",
      "\n",
      "2. **상태 관리**: LangGraph는 애플리케이션의 상태를 유지하여 사용자 간의 상호작용 및 이전 상호작용의 대화 기억을 지원합니다. 상태 체크포인트를 통해 실행 중에 중단하고 재개하는 것이 가능하여, 인간의 입력을 통해 중요한 결정이나 수정을 수행할 수 있습니다.\n",
      "\n",
      "3. **LangGraph Studio**: 이 통합 개발 환경(IDE)은 AI 에이전트 개발을 위해 특별히 설계되어, 시각화, 라이브 상호작용, 디버깅 기능 등을 제공합니다. 복잡한 에이전트 간의 상호작용을 효율적으로 설계하고 유지할 수 있게 해줍니다.\n",
      "\n",
      "4. **오케스트레이션 아키텍처**: LangGraph는 상태 머신과 방향성 그래프를 사용하여 에이전트의 동작 및 애플리케이션의 흐름을 세밀하게 제어합니다. 에이전트의 동작은 상태(State), 노드(Nodes), 엣지(Edges)로 구성되며, 이를 통해 로직을 정의하고 결정할 수 있습니다.\n",
      "\n",
      "5. **중앙 지속성 계층**: LangGraph는 대부분의 에이전트 아키텍처에서 필요로 하는 기능을 제공하는 중앙 지속성 계층을 구현하고 있어, 이러한 기능들을 공통적으로 사용할 수 있게 합니다.\n",
      "\n",
      "이런 특성들 덕분에 LangGraph는 AI 에이전트 시스템을 효과적으로 구축하고 관리할 수 있는 강력한 도구로 자리 잡고 있습니다.\n"
     ]
    }
   ],
   "source": [
    "user_input1 = \"AI 에이전트 개발을 위한 LangGraph의 특징에 대해 설명해주세요.\"\n",
    "state1 = {\"messages\": [HumanMessage(content=user_input1)]}\n",
    "response1 = graph.invoke(state1, config)\n",
    "print(response1[\"messages\"][-1].content)"
   ]
  },
  {
   "cell_type": "code",
   "execution_count": 14,
   "id": "5b5a4549",
   "metadata": {},
   "outputs": [
    {
     "name": "stdout",
     "output_type": "stream",
     "text": [
      "[HumanMessage(content='AI 에이전트 개발을 위한 LangGraph의 특징에 대해 설명해주세요.', additional_kwargs={}, response_metadata={}, id='5dca40bb-10a2-45b3-9ade-54f31f4cae6a'),\n",
      " AIMessage(content='', additional_kwargs={'tool_calls': [{'id': 'call_TWXySqInhGiqPln6NIoekqzI', 'function': {'arguments': '{\"query\":\"LangGraph AI 에이전트 개발 특징\"}', 'name': 'tavily_search_results_json'}, 'type': 'function'}], 'refusal': None}, response_metadata={'token_usage': {'completion_tokens': 26, 'prompt_tokens': 115, 'total_tokens': 141, 'completion_tokens_details': {'accepted_prediction_tokens': 0, 'audio_tokens': 0, 'reasoning_tokens': 0, 'rejected_prediction_tokens': 0}, 'prompt_tokens_details': {'audio_tokens': 0, 'cached_tokens': 0}}, 'model_name': 'gpt-4o-mini-2024-07-18', 'system_fingerprint': 'fp_34a54ae93c', 'id': 'chatcmpl-BnJ9tIxMVJUNeVbxNPQW03WjZmRwH', 'service_tier': 'default', 'finish_reason': 'tool_calls', 'logprobs': None}, id='run--84ee02fb-5ab1-41f6-8329-cbce229c6b28-0', tool_calls=[{'name': 'tavily_search_results_json', 'args': {'query': 'LangGraph AI 에이전트 개발 특징'}, 'id': 'call_TWXySqInhGiqPln6NIoekqzI', 'type': 'tool_call'}], usage_metadata={'input_tokens': 115, 'output_tokens': 26, 'total_tokens': 141, 'input_token_details': {'audio': 0, 'cache_read': 0}, 'output_token_details': {'audio': 0, 'reasoning': 0}}),\n",
      " ToolMessage(content='[{\"title\": \"Amazon Bedrock과 LangGraph로 Multi Agent 시스템 구현하기 - AWS\", \"url\": \"https://aws.amazon.com/ko/blogs/tech/build-multi-agent-systems-with-langgraph-and-amazon-bedrock/\", \"content\": \"LangGraph와 Amazon Bedrock의 통합은 정교한 AI 애플리케이션을 위한 강력한 프레임워크를 제공함으로써 Multi Agent 시스템 개발을 크게 발전시킵니다. 이 조합은 LangGraph의 오케스트레이션 기능과 Amazon Bedrock의 FM을 활용하여 확장 가능하고 효율적인 시스템을 만듭니다. 상태 관리, Agent 조정 및 워크플로우 오케스트레이션을 통해 Multi Agent 아키텍처의 문제를 해결하며, 메모리 관리, 오류 처리 및 인간 참여(human-in-the-loop) 기능과 같은 특징을 제공합니다. LangGraph Studio의 시각화 및 디버깅 도구는 복잡한 Agent 상호작용의 효율적인 설계와 유지 관리를 가능하게 합니다. 이 통합은 차세대 Multi Agent 시스템을 위한 강력한 기반을 제공하며, 효과적인 워크플로우 처리, 컨텍스트 유지, 신뢰할 수 있는 결과 및 최적의 리소스 활용을 가능하게 합니다. [...] 메모리(Memory) – LangGraph는 애플리케이션 상태의 임의 측면을 유지하여 사용자 상호작용 내부 및 상호작용 간의 대화 기억과 기타 업데이트를 지원합니다.\\\\n   인간 참여(Human-in-the-loop) – 상태가 체크포인트되기 때문에 실행을 중단하고 재개할 수 있어 인간 입력을 통해 주요 단계에서 결정, 검증 및 수정이 가능합니다.\\\\n\\\\nLangGraph Studio는 AI Agent 개발을 위해 특별히 설계된 통합 개발 환경(IDE)입니다. 개발자에게 시각화, 실시간 상호작용 및 디버깅 기능을 위한 강력한 도구를 제공합니다. LangGraph Studio의 주요 기능은 다음과 같습니다: [...] LangGraph는 Multi Agent 오케스트레이션을 위해 상태 머신(state machine)과 방향성 그래프를 구현합니다. 이 프레임워크는 Agent 애플리케이션의 흐름과 상태 모두에 대한 세밀한 제어를 제공합니다. LangGraph는 Agent 워크플로우를 그래프로 모델링합니다. 다음 세 가지 핵심 구성요소를 사용하여 Agent의 동작을 정의할 수 있습니다:\\\\n\\\\n   상태(State) – 애플리케이션의 현재 스냅샷을 나타내는 공유 데이터 구조입니다.\\\\n   노드(Nodes) – 에이전트의 로직을 인코딩하는 Python 함수입니다.\\\\n   엣지(Edges) – 현재 상태를 기반으로 다음에 실행할 노드를 결정하는 Python 함수입니다. 조건부 분기 또는 고정된 전환일 수 있습니다.\\\\n\\\\nLangGraph는 중앙 지속성 계층(persistence layer)를 구현하여 대부분의 Agent 아키텍처에 공통적인 기능을 가능하게 합니다. 여기에는 다음이 포함됩니다:\", \"score\": 0.8482825}, {\"title\": \"Generative AI on Vertex AI - LangGraph 에이전트 사용 - Google Cloud\", \"url\": \"https://cloud.google.com/vertex-ai/generative-ai/docs/agent-engine/use/langgraph?hl=ko\", \"content\": \"LangGraph 에이전트 개발: LanggraphAgent 인스턴스로 agent 를 개발합니다. 사용자 인증: 에이전트 쿼리를 위해 사용자로 인증을 수행합니다. 지원되는 작업.\", \"score\": 0.79883134}]', name='tavily_search_results_json', id='cb7c4ea8-c947-4d7e-bdb6-f0d906b3d97b', tool_call_id='call_TWXySqInhGiqPln6NIoekqzI', artifact={'query': 'LangGraph AI 에이전트 개발 특징', 'follow_up_questions': None, 'answer': None, 'images': [], 'results': [{'url': 'https://aws.amazon.com/ko/blogs/tech/build-multi-agent-systems-with-langgraph-and-amazon-bedrock/', 'title': 'Amazon Bedrock과 LangGraph로 Multi Agent 시스템 구현하기 - AWS', 'content': 'LangGraph와 Amazon Bedrock의 통합은 정교한 AI 애플리케이션을 위한 강력한 프레임워크를 제공함으로써 Multi Agent 시스템 개발을 크게 발전시킵니다. 이 조합은 LangGraph의 오케스트레이션 기능과 Amazon Bedrock의 FM을 활용하여 확장 가능하고 효율적인 시스템을 만듭니다. 상태 관리, Agent 조정 및 워크플로우 오케스트레이션을 통해 Multi Agent 아키텍처의 문제를 해결하며, 메모리 관리, 오류 처리 및 인간 참여(human-in-the-loop) 기능과 같은 특징을 제공합니다. LangGraph Studio의 시각화 및 디버깅 도구는 복잡한 Agent 상호작용의 효율적인 설계와 유지 관리를 가능하게 합니다. 이 통합은 차세대 Multi Agent 시스템을 위한 강력한 기반을 제공하며, 효과적인 워크플로우 처리, 컨텍스트 유지, 신뢰할 수 있는 결과 및 최적의 리소스 활용을 가능하게 합니다. [...] 메모리(Memory) – LangGraph는 애플리케이션 상태의 임의 측면을 유지하여 사용자 상호작용 내부 및 상호작용 간의 대화 기억과 기타 업데이트를 지원합니다.\\n   인간 참여(Human-in-the-loop) – 상태가 체크포인트되기 때문에 실행을 중단하고 재개할 수 있어 인간 입력을 통해 주요 단계에서 결정, 검증 및 수정이 가능합니다.\\n\\nLangGraph Studio는 AI Agent 개발을 위해 특별히 설계된 통합 개발 환경(IDE)입니다. 개발자에게 시각화, 실시간 상호작용 및 디버깅 기능을 위한 강력한 도구를 제공합니다. LangGraph Studio의 주요 기능은 다음과 같습니다: [...] LangGraph는 Multi Agent 오케스트레이션을 위해 상태 머신(state machine)과 방향성 그래프를 구현합니다. 이 프레임워크는 Agent 애플리케이션의 흐름과 상태 모두에 대한 세밀한 제어를 제공합니다. LangGraph는 Agent 워크플로우를 그래프로 모델링합니다. 다음 세 가지 핵심 구성요소를 사용하여 Agent의 동작을 정의할 수 있습니다:\\n\\n   상태(State) – 애플리케이션의 현재 스냅샷을 나타내는 공유 데이터 구조입니다.\\n   노드(Nodes) – 에이전트의 로직을 인코딩하는 Python 함수입니다.\\n   엣지(Edges) – 현재 상태를 기반으로 다음에 실행할 노드를 결정하는 Python 함수입니다. 조건부 분기 또는 고정된 전환일 수 있습니다.\\n\\nLangGraph는 중앙 지속성 계층(persistence layer)를 구현하여 대부분의 Agent 아키텍처에 공통적인 기능을 가능하게 합니다. 여기에는 다음이 포함됩니다:', 'score': 0.8482825, 'raw_content': None}, {'url': 'https://cloud.google.com/vertex-ai/generative-ai/docs/agent-engine/use/langgraph?hl=ko', 'title': 'Generative AI on Vertex AI - LangGraph 에이전트 사용 - Google Cloud', 'content': 'LangGraph 에이전트 개발: LanggraphAgent 인스턴스로 agent 를 개발합니다. 사용자 인증: 에이전트 쿼리를 위해 사용자로 인증을 수행합니다. 지원되는 작업.', 'score': 0.79883134, 'raw_content': None}], 'response_time': 1.61}),\n",
      " AIMessage(content='LangGraph는 AI 에이전트 개발을 위한 강력한 프레임워크로 여러 특징을 가지고 있습니다:\\n\\n1. **Multi Agent 시스템**: LangGraph는 Amazon Bedrock과의 통합을 통해 정교한 AI 애플리케이션을 구성할 수 있는 Multi Agent 시스템 개발에 최적화되어 있습니다. 이 시스템은 에이전트 간의 오케스트레이션, 상태 관리, 오류 처리, 그리고 인간의 개입(human-in-the-loop) 기능을 지원합니다.\\n\\n2. **상태 관리**: LangGraph는 애플리케이션의 상태를 유지하여 사용자 간의 상호작용 및 이전 상호작용의 대화 기억을 지원합니다. 상태 체크포인트를 통해 실행 중에 중단하고 재개하는 것이 가능하여, 인간의 입력을 통해 중요한 결정이나 수정을 수행할 수 있습니다.\\n\\n3. **LangGraph Studio**: 이 통합 개발 환경(IDE)은 AI 에이전트 개발을 위해 특별히 설계되어, 시각화, 라이브 상호작용, 디버깅 기능 등을 제공합니다. 복잡한 에이전트 간의 상호작용을 효율적으로 설계하고 유지할 수 있게 해줍니다.\\n\\n4. **오케스트레이션 아키텍처**: LangGraph는 상태 머신과 방향성 그래프를 사용하여 에이전트의 동작 및 애플리케이션의 흐름을 세밀하게 제어합니다. 에이전트의 동작은 상태(State), 노드(Nodes), 엣지(Edges)로 구성되며, 이를 통해 로직을 정의하고 결정할 수 있습니다.\\n\\n5. **중앙 지속성 계층**: LangGraph는 대부분의 에이전트 아키텍처에서 필요로 하는 기능을 제공하는 중앙 지속성 계층을 구현하고 있어, 이러한 기능들을 공통적으로 사용할 수 있게 합니다.\\n\\n이런 특성들 덕분에 LangGraph는 AI 에이전트 시스템을 효과적으로 구축하고 관리할 수 있는 강력한 도구로 자리 잡고 있습니다.', additional_kwargs={'refusal': None}, response_metadata={'token_usage': {'completion_tokens': 443, 'prompt_tokens': 930, 'total_tokens': 1373, 'completion_tokens_details': {'accepted_prediction_tokens': 0, 'audio_tokens': 0, 'reasoning_tokens': 0, 'rejected_prediction_tokens': 0}, 'prompt_tokens_details': {'audio_tokens': 0, 'cached_tokens': 0}}, 'model_name': 'gpt-4o-mini-2024-07-18', 'system_fingerprint': 'fp_34a54ae93c', 'id': 'chatcmpl-BnJ9zZr5sLwiEyw0phAoeWVCARu91', 'service_tier': 'default', 'finish_reason': 'stop', 'logprobs': None}, id='run--9cf16ad4-cd5d-45ea-8e16-4fb3ca655d8d-0', usage_metadata={'input_tokens': 930, 'output_tokens': 443, 'total_tokens': 1373, 'input_token_details': {'audio': 0, 'cache_read': 0}, 'output_token_details': {'audio': 0, 'reasoning': 0}})]\n",
      "()\n"
     ]
    }
   ],
   "source": [
    "snapshot = graph.get_state(config)\n",
    "if 'messages' in snapshot.values:\n",
    "    pprint(snapshot.values['messages'])\n",
    "else:\n",
    "    print(\"No messages found in the snapshot.\")\n",
    "print(snapshot.next)"
   ]
  },
  {
   "cell_type": "code",
   "execution_count": 15,
   "id": "e7587e11",
   "metadata": {},
   "outputs": [
    {
     "name": "stdout",
     "output_type": "stream",
     "text": [
      "\n"
     ]
    }
   ],
   "source": [
    "user_input2 = \"AI 에이전트 개발을 위한 기술 선택에 대한 전문가의 지원이 필요해요. 지원 요청을 해도 될까요?\"\n",
    "state2 = {\"messages\": [HumanMessage(content=user_input2)]}\n",
    "response2 = graph.invoke(state2, config)\n",
    "print(response2[\"messages\"][-1].content)"
   ]
  },
  {
   "cell_type": "code",
   "execution_count": 16,
   "id": "90a06569",
   "metadata": {},
   "outputs": [
    {
     "name": "stdout",
     "output_type": "stream",
     "text": [
      "[HumanMessage(content='AI 에이전트 개발을 위한 LangGraph의 특징에 대해 설명해주세요.', additional_kwargs={}, response_metadata={}, id='5dca40bb-10a2-45b3-9ade-54f31f4cae6a'),\n",
      " AIMessage(content='', additional_kwargs={'tool_calls': [{'id': 'call_TWXySqInhGiqPln6NIoekqzI', 'function': {'arguments': '{\"query\":\"LangGraph AI 에이전트 개발 특징\"}', 'name': 'tavily_search_results_json'}, 'type': 'function'}], 'refusal': None}, response_metadata={'token_usage': {'completion_tokens': 26, 'prompt_tokens': 115, 'total_tokens': 141, 'completion_tokens_details': {'accepted_prediction_tokens': 0, 'audio_tokens': 0, 'reasoning_tokens': 0, 'rejected_prediction_tokens': 0}, 'prompt_tokens_details': {'audio_tokens': 0, 'cached_tokens': 0}}, 'model_name': 'gpt-4o-mini-2024-07-18', 'system_fingerprint': 'fp_34a54ae93c', 'id': 'chatcmpl-BnJ9tIxMVJUNeVbxNPQW03WjZmRwH', 'service_tier': 'default', 'finish_reason': 'tool_calls', 'logprobs': None}, id='run--84ee02fb-5ab1-41f6-8329-cbce229c6b28-0', tool_calls=[{'name': 'tavily_search_results_json', 'args': {'query': 'LangGraph AI 에이전트 개발 특징'}, 'id': 'call_TWXySqInhGiqPln6NIoekqzI', 'type': 'tool_call'}], usage_metadata={'input_tokens': 115, 'output_tokens': 26, 'total_tokens': 141, 'input_token_details': {'audio': 0, 'cache_read': 0}, 'output_token_details': {'audio': 0, 'reasoning': 0}}),\n",
      " ToolMessage(content='[{\"title\": \"Amazon Bedrock과 LangGraph로 Multi Agent 시스템 구현하기 - AWS\", \"url\": \"https://aws.amazon.com/ko/blogs/tech/build-multi-agent-systems-with-langgraph-and-amazon-bedrock/\", \"content\": \"LangGraph와 Amazon Bedrock의 통합은 정교한 AI 애플리케이션을 위한 강력한 프레임워크를 제공함으로써 Multi Agent 시스템 개발을 크게 발전시킵니다. 이 조합은 LangGraph의 오케스트레이션 기능과 Amazon Bedrock의 FM을 활용하여 확장 가능하고 효율적인 시스템을 만듭니다. 상태 관리, Agent 조정 및 워크플로우 오케스트레이션을 통해 Multi Agent 아키텍처의 문제를 해결하며, 메모리 관리, 오류 처리 및 인간 참여(human-in-the-loop) 기능과 같은 특징을 제공합니다. LangGraph Studio의 시각화 및 디버깅 도구는 복잡한 Agent 상호작용의 효율적인 설계와 유지 관리를 가능하게 합니다. 이 통합은 차세대 Multi Agent 시스템을 위한 강력한 기반을 제공하며, 효과적인 워크플로우 처리, 컨텍스트 유지, 신뢰할 수 있는 결과 및 최적의 리소스 활용을 가능하게 합니다. [...] 메모리(Memory) – LangGraph는 애플리케이션 상태의 임의 측면을 유지하여 사용자 상호작용 내부 및 상호작용 간의 대화 기억과 기타 업데이트를 지원합니다.\\\\n   인간 참여(Human-in-the-loop) – 상태가 체크포인트되기 때문에 실행을 중단하고 재개할 수 있어 인간 입력을 통해 주요 단계에서 결정, 검증 및 수정이 가능합니다.\\\\n\\\\nLangGraph Studio는 AI Agent 개발을 위해 특별히 설계된 통합 개발 환경(IDE)입니다. 개발자에게 시각화, 실시간 상호작용 및 디버깅 기능을 위한 강력한 도구를 제공합니다. LangGraph Studio의 주요 기능은 다음과 같습니다: [...] LangGraph는 Multi Agent 오케스트레이션을 위해 상태 머신(state machine)과 방향성 그래프를 구현합니다. 이 프레임워크는 Agent 애플리케이션의 흐름과 상태 모두에 대한 세밀한 제어를 제공합니다. LangGraph는 Agent 워크플로우를 그래프로 모델링합니다. 다음 세 가지 핵심 구성요소를 사용하여 Agent의 동작을 정의할 수 있습니다:\\\\n\\\\n   상태(State) – 애플리케이션의 현재 스냅샷을 나타내는 공유 데이터 구조입니다.\\\\n   노드(Nodes) – 에이전트의 로직을 인코딩하는 Python 함수입니다.\\\\n   엣지(Edges) – 현재 상태를 기반으로 다음에 실행할 노드를 결정하는 Python 함수입니다. 조건부 분기 또는 고정된 전환일 수 있습니다.\\\\n\\\\nLangGraph는 중앙 지속성 계층(persistence layer)를 구현하여 대부분의 Agent 아키텍처에 공통적인 기능을 가능하게 합니다. 여기에는 다음이 포함됩니다:\", \"score\": 0.8482825}, {\"title\": \"Generative AI on Vertex AI - LangGraph 에이전트 사용 - Google Cloud\", \"url\": \"https://cloud.google.com/vertex-ai/generative-ai/docs/agent-engine/use/langgraph?hl=ko\", \"content\": \"LangGraph 에이전트 개발: LanggraphAgent 인스턴스로 agent 를 개발합니다. 사용자 인증: 에이전트 쿼리를 위해 사용자로 인증을 수행합니다. 지원되는 작업.\", \"score\": 0.79883134}]', name='tavily_search_results_json', id='cb7c4ea8-c947-4d7e-bdb6-f0d906b3d97b', tool_call_id='call_TWXySqInhGiqPln6NIoekqzI', artifact={'query': 'LangGraph AI 에이전트 개발 특징', 'follow_up_questions': None, 'answer': None, 'images': [], 'results': [{'url': 'https://aws.amazon.com/ko/blogs/tech/build-multi-agent-systems-with-langgraph-and-amazon-bedrock/', 'title': 'Amazon Bedrock과 LangGraph로 Multi Agent 시스템 구현하기 - AWS', 'content': 'LangGraph와 Amazon Bedrock의 통합은 정교한 AI 애플리케이션을 위한 강력한 프레임워크를 제공함으로써 Multi Agent 시스템 개발을 크게 발전시킵니다. 이 조합은 LangGraph의 오케스트레이션 기능과 Amazon Bedrock의 FM을 활용하여 확장 가능하고 효율적인 시스템을 만듭니다. 상태 관리, Agent 조정 및 워크플로우 오케스트레이션을 통해 Multi Agent 아키텍처의 문제를 해결하며, 메모리 관리, 오류 처리 및 인간 참여(human-in-the-loop) 기능과 같은 특징을 제공합니다. LangGraph Studio의 시각화 및 디버깅 도구는 복잡한 Agent 상호작용의 효율적인 설계와 유지 관리를 가능하게 합니다. 이 통합은 차세대 Multi Agent 시스템을 위한 강력한 기반을 제공하며, 효과적인 워크플로우 처리, 컨텍스트 유지, 신뢰할 수 있는 결과 및 최적의 리소스 활용을 가능하게 합니다. [...] 메모리(Memory) – LangGraph는 애플리케이션 상태의 임의 측면을 유지하여 사용자 상호작용 내부 및 상호작용 간의 대화 기억과 기타 업데이트를 지원합니다.\\n   인간 참여(Human-in-the-loop) – 상태가 체크포인트되기 때문에 실행을 중단하고 재개할 수 있어 인간 입력을 통해 주요 단계에서 결정, 검증 및 수정이 가능합니다.\\n\\nLangGraph Studio는 AI Agent 개발을 위해 특별히 설계된 통합 개발 환경(IDE)입니다. 개발자에게 시각화, 실시간 상호작용 및 디버깅 기능을 위한 강력한 도구를 제공합니다. LangGraph Studio의 주요 기능은 다음과 같습니다: [...] LangGraph는 Multi Agent 오케스트레이션을 위해 상태 머신(state machine)과 방향성 그래프를 구현합니다. 이 프레임워크는 Agent 애플리케이션의 흐름과 상태 모두에 대한 세밀한 제어를 제공합니다. LangGraph는 Agent 워크플로우를 그래프로 모델링합니다. 다음 세 가지 핵심 구성요소를 사용하여 Agent의 동작을 정의할 수 있습니다:\\n\\n   상태(State) – 애플리케이션의 현재 스냅샷을 나타내는 공유 데이터 구조입니다.\\n   노드(Nodes) – 에이전트의 로직을 인코딩하는 Python 함수입니다.\\n   엣지(Edges) – 현재 상태를 기반으로 다음에 실행할 노드를 결정하는 Python 함수입니다. 조건부 분기 또는 고정된 전환일 수 있습니다.\\n\\nLangGraph는 중앙 지속성 계층(persistence layer)를 구현하여 대부분의 Agent 아키텍처에 공통적인 기능을 가능하게 합니다. 여기에는 다음이 포함됩니다:', 'score': 0.8482825, 'raw_content': None}, {'url': 'https://cloud.google.com/vertex-ai/generative-ai/docs/agent-engine/use/langgraph?hl=ko', 'title': 'Generative AI on Vertex AI - LangGraph 에이전트 사용 - Google Cloud', 'content': 'LangGraph 에이전트 개발: LanggraphAgent 인스턴스로 agent 를 개발합니다. 사용자 인증: 에이전트 쿼리를 위해 사용자로 인증을 수행합니다. 지원되는 작업.', 'score': 0.79883134, 'raw_content': None}], 'response_time': 1.61}),\n",
      " AIMessage(content='LangGraph는 AI 에이전트 개발을 위한 강력한 프레임워크로 여러 특징을 가지고 있습니다:\\n\\n1. **Multi Agent 시스템**: LangGraph는 Amazon Bedrock과의 통합을 통해 정교한 AI 애플리케이션을 구성할 수 있는 Multi Agent 시스템 개발에 최적화되어 있습니다. 이 시스템은 에이전트 간의 오케스트레이션, 상태 관리, 오류 처리, 그리고 인간의 개입(human-in-the-loop) 기능을 지원합니다.\\n\\n2. **상태 관리**: LangGraph는 애플리케이션의 상태를 유지하여 사용자 간의 상호작용 및 이전 상호작용의 대화 기억을 지원합니다. 상태 체크포인트를 통해 실행 중에 중단하고 재개하는 것이 가능하여, 인간의 입력을 통해 중요한 결정이나 수정을 수행할 수 있습니다.\\n\\n3. **LangGraph Studio**: 이 통합 개발 환경(IDE)은 AI 에이전트 개발을 위해 특별히 설계되어, 시각화, 라이브 상호작용, 디버깅 기능 등을 제공합니다. 복잡한 에이전트 간의 상호작용을 효율적으로 설계하고 유지할 수 있게 해줍니다.\\n\\n4. **오케스트레이션 아키텍처**: LangGraph는 상태 머신과 방향성 그래프를 사용하여 에이전트의 동작 및 애플리케이션의 흐름을 세밀하게 제어합니다. 에이전트의 동작은 상태(State), 노드(Nodes), 엣지(Edges)로 구성되며, 이를 통해 로직을 정의하고 결정할 수 있습니다.\\n\\n5. **중앙 지속성 계층**: LangGraph는 대부분의 에이전트 아키텍처에서 필요로 하는 기능을 제공하는 중앙 지속성 계층을 구현하고 있어, 이러한 기능들을 공통적으로 사용할 수 있게 합니다.\\n\\n이런 특성들 덕분에 LangGraph는 AI 에이전트 시스템을 효과적으로 구축하고 관리할 수 있는 강력한 도구로 자리 잡고 있습니다.', additional_kwargs={'refusal': None}, response_metadata={'token_usage': {'completion_tokens': 443, 'prompt_tokens': 930, 'total_tokens': 1373, 'completion_tokens_details': {'accepted_prediction_tokens': 0, 'audio_tokens': 0, 'reasoning_tokens': 0, 'rejected_prediction_tokens': 0}, 'prompt_tokens_details': {'audio_tokens': 0, 'cached_tokens': 0}}, 'model_name': 'gpt-4o-mini-2024-07-18', 'system_fingerprint': 'fp_34a54ae93c', 'id': 'chatcmpl-BnJ9zZr5sLwiEyw0phAoeWVCARu91', 'service_tier': 'default', 'finish_reason': 'stop', 'logprobs': None}, id='run--9cf16ad4-cd5d-45ea-8e16-4fb3ca655d8d-0', usage_metadata={'input_tokens': 930, 'output_tokens': 443, 'total_tokens': 1373, 'input_token_details': {'audio': 0, 'cache_read': 0}, 'output_token_details': {'audio': 0, 'reasoning': 0}}),\n",
      " HumanMessage(content='AI 에이전트 개발을 위한 기술 선택에 대한 전문가의 지원이 필요해요. 지원 요청을 해도 될까요?', additional_kwargs={}, response_metadata={}, id='1d5ad066-c07a-4d9f-a845-1dc992c9c5df'),\n",
      " AIMessage(content='', additional_kwargs={'tool_calls': [{'id': 'call_c3chuAdH7FNjzyJQgssMRlNv', 'function': {'arguments': '{\"query\":\"AI 에이전트 개발을 위한 기술 선택에 대한 전문가 지원 요청\"}', 'name': 'human_assist'}, 'type': 'function'}], 'refusal': None}, response_metadata={'token_usage': {'completion_tokens': 30, 'prompt_tokens': 1408, 'total_tokens': 1438, 'completion_tokens_details': {'accepted_prediction_tokens': 0, 'audio_tokens': 0, 'reasoning_tokens': 0, 'rejected_prediction_tokens': 0}, 'prompt_tokens_details': {'audio_tokens': 0, 'cached_tokens': 1280}}, 'model_name': 'gpt-4o-mini-2024-07-18', 'system_fingerprint': 'fp_34a54ae93c', 'id': 'chatcmpl-BnJA5DaYkIT4ziYNJEO1dYCa8TEHv', 'service_tier': 'default', 'finish_reason': 'tool_calls', 'logprobs': None}, id='run--f5cd467d-386c-41c9-a011-f5224abdcfbc-0', tool_calls=[{'name': 'human_assist', 'args': {'query': 'AI 에이전트 개발을 위한 기술 선택에 대한 전문가 지원 요청'}, 'id': 'call_c3chuAdH7FNjzyJQgssMRlNv', 'type': 'tool_call'}], usage_metadata={'input_tokens': 1408, 'output_tokens': 30, 'total_tokens': 1438, 'input_token_details': {'audio': 0, 'cache_read': 1280}, 'output_token_details': {'audio': 0, 'reasoning': 0}})]\n",
      "('tools',)\n"
     ]
    }
   ],
   "source": [
    "snapshot = graph.get_state(config)\n",
    "if 'messages' in snapshot.values:\n",
    "    pprint(snapshot.values['messages'])\n",
    "else:\n",
    "    print(\"No messages found in the snapshot.\")\n",
    "print(snapshot.next)"
   ]
  },
  {
   "cell_type": "code",
   "execution_count": 17,
   "id": "60740350",
   "metadata": {},
   "outputs": [
    {
     "name": "stdout",
     "output_type": "stream",
     "text": [
      "네, AI 에이전트 개발을 위한 기술 선택에 대한 지원을 요청하셔도 좋습니다. LangGraph는 AI 에이전트 개발에 매우 유용한 도구로, 위에서 언급한 다양한 특징들이 이를 뒷받침합니다. \n",
      "\n",
      "여기에 더해, 전문적인 지원을 받으려면 프로젝트의 요구사항이나 목표에 대한 정보를 제공해 주시면 더욱 맞춤형 조언을 드릴 수 있습니다. 어떤 기술이나 플랫폼에 관심이 있으신지, 또는 특정한 문제를 해결하고자 하는 부분이 있는지 알려주시면 좋겠습니다.\n"
     ]
    }
   ],
   "source": [
    "from langgraph.types import Command\n",
    "\n",
    "human_response = (\n",
    "    \"네, 물론입니다. AI 에이전트 개발을 위한 기술 선택에 대한 지원을 해드리겠습니다. \"\n",
    "    \"우선 LangGraph를 사용하는 것에 대해 어떻게 생각하시나요? \"\n",
    "    \"LangGraph는 AI 에이전트를 개발하는 데 매우 유용한 도구입니다. \"\n",
    ")\n",
    "human_command = Command(resume={\"data\": human_response})\n",
    "response = graph.invoke(human_command, config)\n",
    "print(response[\"messages\"][-1].content)"
   ]
  },
  {
   "cell_type": "code",
   "execution_count": 18,
   "id": "a778277d",
   "metadata": {},
   "outputs": [
    {
     "name": "stdout",
     "output_type": "stream",
     "text": [
      "[HumanMessage(content='AI 에이전트 개발을 위한 LangGraph의 특징에 대해 설명해주세요.', additional_kwargs={}, response_metadata={}, id='5dca40bb-10a2-45b3-9ade-54f31f4cae6a'),\n",
      " AIMessage(content='', additional_kwargs={'tool_calls': [{'id': 'call_TWXySqInhGiqPln6NIoekqzI', 'function': {'arguments': '{\"query\":\"LangGraph AI 에이전트 개발 특징\"}', 'name': 'tavily_search_results_json'}, 'type': 'function'}], 'refusal': None}, response_metadata={'token_usage': {'completion_tokens': 26, 'prompt_tokens': 115, 'total_tokens': 141, 'completion_tokens_details': {'accepted_prediction_tokens': 0, 'audio_tokens': 0, 'reasoning_tokens': 0, 'rejected_prediction_tokens': 0}, 'prompt_tokens_details': {'audio_tokens': 0, 'cached_tokens': 0}}, 'model_name': 'gpt-4o-mini-2024-07-18', 'system_fingerprint': 'fp_34a54ae93c', 'id': 'chatcmpl-BnJ9tIxMVJUNeVbxNPQW03WjZmRwH', 'service_tier': 'default', 'finish_reason': 'tool_calls', 'logprobs': None}, id='run--84ee02fb-5ab1-41f6-8329-cbce229c6b28-0', tool_calls=[{'name': 'tavily_search_results_json', 'args': {'query': 'LangGraph AI 에이전트 개발 특징'}, 'id': 'call_TWXySqInhGiqPln6NIoekqzI', 'type': 'tool_call'}], usage_metadata={'input_tokens': 115, 'output_tokens': 26, 'total_tokens': 141, 'input_token_details': {'audio': 0, 'cache_read': 0}, 'output_token_details': {'audio': 0, 'reasoning': 0}}),\n",
      " ToolMessage(content='[{\"title\": \"Amazon Bedrock과 LangGraph로 Multi Agent 시스템 구현하기 - AWS\", \"url\": \"https://aws.amazon.com/ko/blogs/tech/build-multi-agent-systems-with-langgraph-and-amazon-bedrock/\", \"content\": \"LangGraph와 Amazon Bedrock의 통합은 정교한 AI 애플리케이션을 위한 강력한 프레임워크를 제공함으로써 Multi Agent 시스템 개발을 크게 발전시킵니다. 이 조합은 LangGraph의 오케스트레이션 기능과 Amazon Bedrock의 FM을 활용하여 확장 가능하고 효율적인 시스템을 만듭니다. 상태 관리, Agent 조정 및 워크플로우 오케스트레이션을 통해 Multi Agent 아키텍처의 문제를 해결하며, 메모리 관리, 오류 처리 및 인간 참여(human-in-the-loop) 기능과 같은 특징을 제공합니다. LangGraph Studio의 시각화 및 디버깅 도구는 복잡한 Agent 상호작용의 효율적인 설계와 유지 관리를 가능하게 합니다. 이 통합은 차세대 Multi Agent 시스템을 위한 강력한 기반을 제공하며, 효과적인 워크플로우 처리, 컨텍스트 유지, 신뢰할 수 있는 결과 및 최적의 리소스 활용을 가능하게 합니다. [...] 메모리(Memory) – LangGraph는 애플리케이션 상태의 임의 측면을 유지하여 사용자 상호작용 내부 및 상호작용 간의 대화 기억과 기타 업데이트를 지원합니다.\\\\n   인간 참여(Human-in-the-loop) – 상태가 체크포인트되기 때문에 실행을 중단하고 재개할 수 있어 인간 입력을 통해 주요 단계에서 결정, 검증 및 수정이 가능합니다.\\\\n\\\\nLangGraph Studio는 AI Agent 개발을 위해 특별히 설계된 통합 개발 환경(IDE)입니다. 개발자에게 시각화, 실시간 상호작용 및 디버깅 기능을 위한 강력한 도구를 제공합니다. LangGraph Studio의 주요 기능은 다음과 같습니다: [...] LangGraph는 Multi Agent 오케스트레이션을 위해 상태 머신(state machine)과 방향성 그래프를 구현합니다. 이 프레임워크는 Agent 애플리케이션의 흐름과 상태 모두에 대한 세밀한 제어를 제공합니다. LangGraph는 Agent 워크플로우를 그래프로 모델링합니다. 다음 세 가지 핵심 구성요소를 사용하여 Agent의 동작을 정의할 수 있습니다:\\\\n\\\\n   상태(State) – 애플리케이션의 현재 스냅샷을 나타내는 공유 데이터 구조입니다.\\\\n   노드(Nodes) – 에이전트의 로직을 인코딩하는 Python 함수입니다.\\\\n   엣지(Edges) – 현재 상태를 기반으로 다음에 실행할 노드를 결정하는 Python 함수입니다. 조건부 분기 또는 고정된 전환일 수 있습니다.\\\\n\\\\nLangGraph는 중앙 지속성 계층(persistence layer)를 구현하여 대부분의 Agent 아키텍처에 공통적인 기능을 가능하게 합니다. 여기에는 다음이 포함됩니다:\", \"score\": 0.8482825}, {\"title\": \"Generative AI on Vertex AI - LangGraph 에이전트 사용 - Google Cloud\", \"url\": \"https://cloud.google.com/vertex-ai/generative-ai/docs/agent-engine/use/langgraph?hl=ko\", \"content\": \"LangGraph 에이전트 개발: LanggraphAgent 인스턴스로 agent 를 개발합니다. 사용자 인증: 에이전트 쿼리를 위해 사용자로 인증을 수행합니다. 지원되는 작업.\", \"score\": 0.79883134}]', name='tavily_search_results_json', id='cb7c4ea8-c947-4d7e-bdb6-f0d906b3d97b', tool_call_id='call_TWXySqInhGiqPln6NIoekqzI', artifact={'query': 'LangGraph AI 에이전트 개발 특징', 'follow_up_questions': None, 'answer': None, 'images': [], 'results': [{'url': 'https://aws.amazon.com/ko/blogs/tech/build-multi-agent-systems-with-langgraph-and-amazon-bedrock/', 'title': 'Amazon Bedrock과 LangGraph로 Multi Agent 시스템 구현하기 - AWS', 'content': 'LangGraph와 Amazon Bedrock의 통합은 정교한 AI 애플리케이션을 위한 강력한 프레임워크를 제공함으로써 Multi Agent 시스템 개발을 크게 발전시킵니다. 이 조합은 LangGraph의 오케스트레이션 기능과 Amazon Bedrock의 FM을 활용하여 확장 가능하고 효율적인 시스템을 만듭니다. 상태 관리, Agent 조정 및 워크플로우 오케스트레이션을 통해 Multi Agent 아키텍처의 문제를 해결하며, 메모리 관리, 오류 처리 및 인간 참여(human-in-the-loop) 기능과 같은 특징을 제공합니다. LangGraph Studio의 시각화 및 디버깅 도구는 복잡한 Agent 상호작용의 효율적인 설계와 유지 관리를 가능하게 합니다. 이 통합은 차세대 Multi Agent 시스템을 위한 강력한 기반을 제공하며, 효과적인 워크플로우 처리, 컨텍스트 유지, 신뢰할 수 있는 결과 및 최적의 리소스 활용을 가능하게 합니다. [...] 메모리(Memory) – LangGraph는 애플리케이션 상태의 임의 측면을 유지하여 사용자 상호작용 내부 및 상호작용 간의 대화 기억과 기타 업데이트를 지원합니다.\\n   인간 참여(Human-in-the-loop) – 상태가 체크포인트되기 때문에 실행을 중단하고 재개할 수 있어 인간 입력을 통해 주요 단계에서 결정, 검증 및 수정이 가능합니다.\\n\\nLangGraph Studio는 AI Agent 개발을 위해 특별히 설계된 통합 개발 환경(IDE)입니다. 개발자에게 시각화, 실시간 상호작용 및 디버깅 기능을 위한 강력한 도구를 제공합니다. LangGraph Studio의 주요 기능은 다음과 같습니다: [...] LangGraph는 Multi Agent 오케스트레이션을 위해 상태 머신(state machine)과 방향성 그래프를 구현합니다. 이 프레임워크는 Agent 애플리케이션의 흐름과 상태 모두에 대한 세밀한 제어를 제공합니다. LangGraph는 Agent 워크플로우를 그래프로 모델링합니다. 다음 세 가지 핵심 구성요소를 사용하여 Agent의 동작을 정의할 수 있습니다:\\n\\n   상태(State) – 애플리케이션의 현재 스냅샷을 나타내는 공유 데이터 구조입니다.\\n   노드(Nodes) – 에이전트의 로직을 인코딩하는 Python 함수입니다.\\n   엣지(Edges) – 현재 상태를 기반으로 다음에 실행할 노드를 결정하는 Python 함수입니다. 조건부 분기 또는 고정된 전환일 수 있습니다.\\n\\nLangGraph는 중앙 지속성 계층(persistence layer)를 구현하여 대부분의 Agent 아키텍처에 공통적인 기능을 가능하게 합니다. 여기에는 다음이 포함됩니다:', 'score': 0.8482825, 'raw_content': None}, {'url': 'https://cloud.google.com/vertex-ai/generative-ai/docs/agent-engine/use/langgraph?hl=ko', 'title': 'Generative AI on Vertex AI - LangGraph 에이전트 사용 - Google Cloud', 'content': 'LangGraph 에이전트 개발: LanggraphAgent 인스턴스로 agent 를 개발합니다. 사용자 인증: 에이전트 쿼리를 위해 사용자로 인증을 수행합니다. 지원되는 작업.', 'score': 0.79883134, 'raw_content': None}], 'response_time': 1.61}),\n",
      " AIMessage(content='LangGraph는 AI 에이전트 개발을 위한 강력한 프레임워크로 여러 특징을 가지고 있습니다:\\n\\n1. **Multi Agent 시스템**: LangGraph는 Amazon Bedrock과의 통합을 통해 정교한 AI 애플리케이션을 구성할 수 있는 Multi Agent 시스템 개발에 최적화되어 있습니다. 이 시스템은 에이전트 간의 오케스트레이션, 상태 관리, 오류 처리, 그리고 인간의 개입(human-in-the-loop) 기능을 지원합니다.\\n\\n2. **상태 관리**: LangGraph는 애플리케이션의 상태를 유지하여 사용자 간의 상호작용 및 이전 상호작용의 대화 기억을 지원합니다. 상태 체크포인트를 통해 실행 중에 중단하고 재개하는 것이 가능하여, 인간의 입력을 통해 중요한 결정이나 수정을 수행할 수 있습니다.\\n\\n3. **LangGraph Studio**: 이 통합 개발 환경(IDE)은 AI 에이전트 개발을 위해 특별히 설계되어, 시각화, 라이브 상호작용, 디버깅 기능 등을 제공합니다. 복잡한 에이전트 간의 상호작용을 효율적으로 설계하고 유지할 수 있게 해줍니다.\\n\\n4. **오케스트레이션 아키텍처**: LangGraph는 상태 머신과 방향성 그래프를 사용하여 에이전트의 동작 및 애플리케이션의 흐름을 세밀하게 제어합니다. 에이전트의 동작은 상태(State), 노드(Nodes), 엣지(Edges)로 구성되며, 이를 통해 로직을 정의하고 결정할 수 있습니다.\\n\\n5. **중앙 지속성 계층**: LangGraph는 대부분의 에이전트 아키텍처에서 필요로 하는 기능을 제공하는 중앙 지속성 계층을 구현하고 있어, 이러한 기능들을 공통적으로 사용할 수 있게 합니다.\\n\\n이런 특성들 덕분에 LangGraph는 AI 에이전트 시스템을 효과적으로 구축하고 관리할 수 있는 강력한 도구로 자리 잡고 있습니다.', additional_kwargs={'refusal': None}, response_metadata={'token_usage': {'completion_tokens': 443, 'prompt_tokens': 930, 'total_tokens': 1373, 'completion_tokens_details': {'accepted_prediction_tokens': 0, 'audio_tokens': 0, 'reasoning_tokens': 0, 'rejected_prediction_tokens': 0}, 'prompt_tokens_details': {'audio_tokens': 0, 'cached_tokens': 0}}, 'model_name': 'gpt-4o-mini-2024-07-18', 'system_fingerprint': 'fp_34a54ae93c', 'id': 'chatcmpl-BnJ9zZr5sLwiEyw0phAoeWVCARu91', 'service_tier': 'default', 'finish_reason': 'stop', 'logprobs': None}, id='run--9cf16ad4-cd5d-45ea-8e16-4fb3ca655d8d-0', usage_metadata={'input_tokens': 930, 'output_tokens': 443, 'total_tokens': 1373, 'input_token_details': {'audio': 0, 'cache_read': 0}, 'output_token_details': {'audio': 0, 'reasoning': 0}}),\n",
      " HumanMessage(content='AI 에이전트 개발을 위한 기술 선택에 대한 전문가의 지원이 필요해요. 지원 요청을 해도 될까요?', additional_kwargs={}, response_metadata={}, id='1d5ad066-c07a-4d9f-a845-1dc992c9c5df'),\n",
      " AIMessage(content='', additional_kwargs={'tool_calls': [{'id': 'call_c3chuAdH7FNjzyJQgssMRlNv', 'function': {'arguments': '{\"query\":\"AI 에이전트 개발을 위한 기술 선택에 대한 전문가 지원 요청\"}', 'name': 'human_assist'}, 'type': 'function'}], 'refusal': None}, response_metadata={'token_usage': {'completion_tokens': 30, 'prompt_tokens': 1408, 'total_tokens': 1438, 'completion_tokens_details': {'accepted_prediction_tokens': 0, 'audio_tokens': 0, 'reasoning_tokens': 0, 'rejected_prediction_tokens': 0}, 'prompt_tokens_details': {'audio_tokens': 0, 'cached_tokens': 1280}}, 'model_name': 'gpt-4o-mini-2024-07-18', 'system_fingerprint': 'fp_34a54ae93c', 'id': 'chatcmpl-BnJA5DaYkIT4ziYNJEO1dYCa8TEHv', 'service_tier': 'default', 'finish_reason': 'tool_calls', 'logprobs': None}, id='run--f5cd467d-386c-41c9-a011-f5224abdcfbc-0', tool_calls=[{'name': 'human_assist', 'args': {'query': 'AI 에이전트 개발을 위한 기술 선택에 대한 전문가 지원 요청'}, 'id': 'call_c3chuAdH7FNjzyJQgssMRlNv', 'type': 'tool_call'}], usage_metadata={'input_tokens': 1408, 'output_tokens': 30, 'total_tokens': 1438, 'input_token_details': {'audio': 0, 'cache_read': 1280}, 'output_token_details': {'audio': 0, 'reasoning': 0}}),\n",
      " ToolMessage(content='네, 물론입니다. AI 에이전트 개발을 위한 기술 선택에 대한 지원을 해드리겠습니다. 우선 LangGraph를 사용하는 것에 대해 어떻게 생각하시나요? LangGraph는 AI 에이전트를 개발하는 데 매우 유용한 도구입니다. ', name='human_assist', id='ff20ce04-5d6e-4071-9653-432db6718f71', tool_call_id='call_c3chuAdH7FNjzyJQgssMRlNv'),\n",
      " AIMessage(content='네, AI 에이전트 개발을 위한 기술 선택에 대한 지원을 요청하셔도 좋습니다. LangGraph는 AI 에이전트 개발에 매우 유용한 도구로, 위에서 언급한 다양한 특징들이 이를 뒷받침합니다. \\n\\n여기에 더해, 전문적인 지원을 받으려면 프로젝트의 요구사항이나 목표에 대한 정보를 제공해 주시면 더욱 맞춤형 조언을 드릴 수 있습니다. 어떤 기술이나 플랫폼에 관심이 있으신지, 또는 특정한 문제를 해결하고자 하는 부분이 있는지 알려주시면 좋겠습니다.', additional_kwargs={'refusal': None}, response_metadata={'token_usage': {'completion_tokens': 127, 'prompt_tokens': 1505, 'total_tokens': 1632, 'completion_tokens_details': {'accepted_prediction_tokens': 0, 'audio_tokens': 0, 'reasoning_tokens': 0, 'rejected_prediction_tokens': 0}, 'prompt_tokens_details': {'audio_tokens': 0, 'cached_tokens': 1408}}, 'model_name': 'gpt-4o-mini-2024-07-18', 'system_fingerprint': 'fp_34a54ae93c', 'id': 'chatcmpl-BnJA6b39rSCVyvx7DMIHJGpAxrRqk', 'service_tier': 'default', 'finish_reason': 'stop', 'logprobs': None}, id='run--6422db0e-6b8b-4edc-88e0-b1bec5a02af5-0', usage_metadata={'input_tokens': 1505, 'output_tokens': 127, 'total_tokens': 1632, 'input_token_details': {'audio': 0, 'cache_read': 1408}, 'output_token_details': {'audio': 0, 'reasoning': 0}})]\n",
      "()\n"
     ]
    }
   ],
   "source": [
    "snapshot = graph.get_state(config)\n",
    "pprint(snapshot.values['messages'])\n",
    "print(snapshot.next)"
   ]
  },
  {
   "cell_type": "code",
   "execution_count": 19,
   "id": "0aaabc89",
   "metadata": {},
   "outputs": [
    {
     "name": "stdout",
     "output_type": "stream",
     "text": [
      "LangGraph의 시장성은 다음과 같은 여러 측면에서 강점을 보이고 있습니다:\n",
      "\n",
      "1. **비즈니스 자동화 수요 증가**: LangGraph는 비즈니스 프로세스를 자동화하는 데 특히 유용한 도구로, AI 에이전트 개발에 필요한 다양한 기능을 제공합니다. 이는 기업들이 효율성을 극대화하고 비용을 절감하는 데 기여할 수 있어, 시장에서의 수요가 높습니다.\n",
      "\n",
      "2. **유연한 개발 플랫폼**: LangGraph는 대규모 언어 모델(LLM) 기술을 접목하여 고급 에이전트 설계가 가능하며, 이를 통해 다양한 산업군에서 활용될 수 있는 유연성을 가지고 있습니다. 멀티에이전트 구조와 복잡한 로직을 지원하기 때문에 복잡한 비즈니스 환경에서도 적응력이 뛰어난 솔루션을 제공합니다.\n",
      "\n",
      "3. **확장성**: LangGraph는 상태 관리, 메모리 기능 등 다수의 기본 기능을 제공함으로써 확장 가능성이 뛰어납니다. 이는 에이전트가 시간이 지남에 따라 학습하고 발전할 수 있는 기반을 마련해 줍니다.\n",
      "\n",
      "4. **지속적인 교육 및 자원 제공**: LangGraph에 대한 교육 자료와 GitHub와 같은 플랫폼을 통한 실습 자료는 사용자들에게 실질적인 도움이 됩니다. 이러한 자료는 개인이나 기업이 LangGraph를 효과적으로 활용할 수 있도록 돕고, 시장에서의 수요를 더욱 촉진시킬 수 있습니다.\n",
      "\n",
      "5. **기술적 혁신**: LangGraph와 MCP 같은 기술의 조합은 AI 에이전트 개발의 새로운 패러다임을 제시하고 있으며, 이는 비즈니스 자동화의 새로운 시대를 여는 결과를 가져올 가능성이 높습니다.\n",
      "\n",
      "이러한 요소들이 결합되어 LangGraph는 AI 에이전트 개발 분야에서 상당한 시장성을 지니고 있으며, 기업과 개발자들이 이를 활용하여 효과적으로 비즈니스 솔루션을 구축하는 데 큰 기여를 할 것으로 예상됩니다.\n"
     ]
    }
   ],
   "source": [
    "user_input3 = \"앞서 추천해주신 기술의 시장성은 어떤가요?\"\n",
    "state3 = {\"messages\": [HumanMessage(content=user_input3)]}\n",
    "response3 = graph.invoke(state3, config)\n",
    "print(response3[\"messages\"][-1].content)"
   ]
  },
  {
   "cell_type": "code",
   "execution_count": 20,
   "id": "73827854",
   "metadata": {},
   "outputs": [
    {
     "name": "stdout",
     "output_type": "stream",
     "text": [
      "[HumanMessage(content='AI 에이전트 개발을 위한 LangGraph의 특징에 대해 설명해주세요.', additional_kwargs={}, response_metadata={}, id='5dca40bb-10a2-45b3-9ade-54f31f4cae6a'),\n",
      " AIMessage(content='', additional_kwargs={'tool_calls': [{'id': 'call_TWXySqInhGiqPln6NIoekqzI', 'function': {'arguments': '{\"query\":\"LangGraph AI 에이전트 개발 특징\"}', 'name': 'tavily_search_results_json'}, 'type': 'function'}], 'refusal': None}, response_metadata={'token_usage': {'completion_tokens': 26, 'prompt_tokens': 115, 'total_tokens': 141, 'completion_tokens_details': {'accepted_prediction_tokens': 0, 'audio_tokens': 0, 'reasoning_tokens': 0, 'rejected_prediction_tokens': 0}, 'prompt_tokens_details': {'audio_tokens': 0, 'cached_tokens': 0}}, 'model_name': 'gpt-4o-mini-2024-07-18', 'system_fingerprint': 'fp_34a54ae93c', 'id': 'chatcmpl-BnJ9tIxMVJUNeVbxNPQW03WjZmRwH', 'service_tier': 'default', 'finish_reason': 'tool_calls', 'logprobs': None}, id='run--84ee02fb-5ab1-41f6-8329-cbce229c6b28-0', tool_calls=[{'name': 'tavily_search_results_json', 'args': {'query': 'LangGraph AI 에이전트 개발 특징'}, 'id': 'call_TWXySqInhGiqPln6NIoekqzI', 'type': 'tool_call'}], usage_metadata={'input_tokens': 115, 'output_tokens': 26, 'total_tokens': 141, 'input_token_details': {'audio': 0, 'cache_read': 0}, 'output_token_details': {'audio': 0, 'reasoning': 0}}),\n",
      " ToolMessage(content='[{\"title\": \"Amazon Bedrock과 LangGraph로 Multi Agent 시스템 구현하기 - AWS\", \"url\": \"https://aws.amazon.com/ko/blogs/tech/build-multi-agent-systems-with-langgraph-and-amazon-bedrock/\", \"content\": \"LangGraph와 Amazon Bedrock의 통합은 정교한 AI 애플리케이션을 위한 강력한 프레임워크를 제공함으로써 Multi Agent 시스템 개발을 크게 발전시킵니다. 이 조합은 LangGraph의 오케스트레이션 기능과 Amazon Bedrock의 FM을 활용하여 확장 가능하고 효율적인 시스템을 만듭니다. 상태 관리, Agent 조정 및 워크플로우 오케스트레이션을 통해 Multi Agent 아키텍처의 문제를 해결하며, 메모리 관리, 오류 처리 및 인간 참여(human-in-the-loop) 기능과 같은 특징을 제공합니다. LangGraph Studio의 시각화 및 디버깅 도구는 복잡한 Agent 상호작용의 효율적인 설계와 유지 관리를 가능하게 합니다. 이 통합은 차세대 Multi Agent 시스템을 위한 강력한 기반을 제공하며, 효과적인 워크플로우 처리, 컨텍스트 유지, 신뢰할 수 있는 결과 및 최적의 리소스 활용을 가능하게 합니다. [...] 메모리(Memory) – LangGraph는 애플리케이션 상태의 임의 측면을 유지하여 사용자 상호작용 내부 및 상호작용 간의 대화 기억과 기타 업데이트를 지원합니다.\\\\n   인간 참여(Human-in-the-loop) – 상태가 체크포인트되기 때문에 실행을 중단하고 재개할 수 있어 인간 입력을 통해 주요 단계에서 결정, 검증 및 수정이 가능합니다.\\\\n\\\\nLangGraph Studio는 AI Agent 개발을 위해 특별히 설계된 통합 개발 환경(IDE)입니다. 개발자에게 시각화, 실시간 상호작용 및 디버깅 기능을 위한 강력한 도구를 제공합니다. LangGraph Studio의 주요 기능은 다음과 같습니다: [...] LangGraph는 Multi Agent 오케스트레이션을 위해 상태 머신(state machine)과 방향성 그래프를 구현합니다. 이 프레임워크는 Agent 애플리케이션의 흐름과 상태 모두에 대한 세밀한 제어를 제공합니다. LangGraph는 Agent 워크플로우를 그래프로 모델링합니다. 다음 세 가지 핵심 구성요소를 사용하여 Agent의 동작을 정의할 수 있습니다:\\\\n\\\\n   상태(State) – 애플리케이션의 현재 스냅샷을 나타내는 공유 데이터 구조입니다.\\\\n   노드(Nodes) – 에이전트의 로직을 인코딩하는 Python 함수입니다.\\\\n   엣지(Edges) – 현재 상태를 기반으로 다음에 실행할 노드를 결정하는 Python 함수입니다. 조건부 분기 또는 고정된 전환일 수 있습니다.\\\\n\\\\nLangGraph는 중앙 지속성 계층(persistence layer)를 구현하여 대부분의 Agent 아키텍처에 공통적인 기능을 가능하게 합니다. 여기에는 다음이 포함됩니다:\", \"score\": 0.8482825}, {\"title\": \"Generative AI on Vertex AI - LangGraph 에이전트 사용 - Google Cloud\", \"url\": \"https://cloud.google.com/vertex-ai/generative-ai/docs/agent-engine/use/langgraph?hl=ko\", \"content\": \"LangGraph 에이전트 개발: LanggraphAgent 인스턴스로 agent 를 개발합니다. 사용자 인증: 에이전트 쿼리를 위해 사용자로 인증을 수행합니다. 지원되는 작업.\", \"score\": 0.79883134}]', name='tavily_search_results_json', id='cb7c4ea8-c947-4d7e-bdb6-f0d906b3d97b', tool_call_id='call_TWXySqInhGiqPln6NIoekqzI', artifact={'query': 'LangGraph AI 에이전트 개발 특징', 'follow_up_questions': None, 'answer': None, 'images': [], 'results': [{'url': 'https://aws.amazon.com/ko/blogs/tech/build-multi-agent-systems-with-langgraph-and-amazon-bedrock/', 'title': 'Amazon Bedrock과 LangGraph로 Multi Agent 시스템 구현하기 - AWS', 'content': 'LangGraph와 Amazon Bedrock의 통합은 정교한 AI 애플리케이션을 위한 강력한 프레임워크를 제공함으로써 Multi Agent 시스템 개발을 크게 발전시킵니다. 이 조합은 LangGraph의 오케스트레이션 기능과 Amazon Bedrock의 FM을 활용하여 확장 가능하고 효율적인 시스템을 만듭니다. 상태 관리, Agent 조정 및 워크플로우 오케스트레이션을 통해 Multi Agent 아키텍처의 문제를 해결하며, 메모리 관리, 오류 처리 및 인간 참여(human-in-the-loop) 기능과 같은 특징을 제공합니다. LangGraph Studio의 시각화 및 디버깅 도구는 복잡한 Agent 상호작용의 효율적인 설계와 유지 관리를 가능하게 합니다. 이 통합은 차세대 Multi Agent 시스템을 위한 강력한 기반을 제공하며, 효과적인 워크플로우 처리, 컨텍스트 유지, 신뢰할 수 있는 결과 및 최적의 리소스 활용을 가능하게 합니다. [...] 메모리(Memory) – LangGraph는 애플리케이션 상태의 임의 측면을 유지하여 사용자 상호작용 내부 및 상호작용 간의 대화 기억과 기타 업데이트를 지원합니다.\\n   인간 참여(Human-in-the-loop) – 상태가 체크포인트되기 때문에 실행을 중단하고 재개할 수 있어 인간 입력을 통해 주요 단계에서 결정, 검증 및 수정이 가능합니다.\\n\\nLangGraph Studio는 AI Agent 개발을 위해 특별히 설계된 통합 개발 환경(IDE)입니다. 개발자에게 시각화, 실시간 상호작용 및 디버깅 기능을 위한 강력한 도구를 제공합니다. LangGraph Studio의 주요 기능은 다음과 같습니다: [...] LangGraph는 Multi Agent 오케스트레이션을 위해 상태 머신(state machine)과 방향성 그래프를 구현합니다. 이 프레임워크는 Agent 애플리케이션의 흐름과 상태 모두에 대한 세밀한 제어를 제공합니다. LangGraph는 Agent 워크플로우를 그래프로 모델링합니다. 다음 세 가지 핵심 구성요소를 사용하여 Agent의 동작을 정의할 수 있습니다:\\n\\n   상태(State) – 애플리케이션의 현재 스냅샷을 나타내는 공유 데이터 구조입니다.\\n   노드(Nodes) – 에이전트의 로직을 인코딩하는 Python 함수입니다.\\n   엣지(Edges) – 현재 상태를 기반으로 다음에 실행할 노드를 결정하는 Python 함수입니다. 조건부 분기 또는 고정된 전환일 수 있습니다.\\n\\nLangGraph는 중앙 지속성 계층(persistence layer)를 구현하여 대부분의 Agent 아키텍처에 공통적인 기능을 가능하게 합니다. 여기에는 다음이 포함됩니다:', 'score': 0.8482825, 'raw_content': None}, {'url': 'https://cloud.google.com/vertex-ai/generative-ai/docs/agent-engine/use/langgraph?hl=ko', 'title': 'Generative AI on Vertex AI - LangGraph 에이전트 사용 - Google Cloud', 'content': 'LangGraph 에이전트 개발: LanggraphAgent 인스턴스로 agent 를 개발합니다. 사용자 인증: 에이전트 쿼리를 위해 사용자로 인증을 수행합니다. 지원되는 작업.', 'score': 0.79883134, 'raw_content': None}], 'response_time': 1.61}),\n",
      " AIMessage(content='LangGraph는 AI 에이전트 개발을 위한 강력한 프레임워크로 여러 특징을 가지고 있습니다:\\n\\n1. **Multi Agent 시스템**: LangGraph는 Amazon Bedrock과의 통합을 통해 정교한 AI 애플리케이션을 구성할 수 있는 Multi Agent 시스템 개발에 최적화되어 있습니다. 이 시스템은 에이전트 간의 오케스트레이션, 상태 관리, 오류 처리, 그리고 인간의 개입(human-in-the-loop) 기능을 지원합니다.\\n\\n2. **상태 관리**: LangGraph는 애플리케이션의 상태를 유지하여 사용자 간의 상호작용 및 이전 상호작용의 대화 기억을 지원합니다. 상태 체크포인트를 통해 실행 중에 중단하고 재개하는 것이 가능하여, 인간의 입력을 통해 중요한 결정이나 수정을 수행할 수 있습니다.\\n\\n3. **LangGraph Studio**: 이 통합 개발 환경(IDE)은 AI 에이전트 개발을 위해 특별히 설계되어, 시각화, 라이브 상호작용, 디버깅 기능 등을 제공합니다. 복잡한 에이전트 간의 상호작용을 효율적으로 설계하고 유지할 수 있게 해줍니다.\\n\\n4. **오케스트레이션 아키텍처**: LangGraph는 상태 머신과 방향성 그래프를 사용하여 에이전트의 동작 및 애플리케이션의 흐름을 세밀하게 제어합니다. 에이전트의 동작은 상태(State), 노드(Nodes), 엣지(Edges)로 구성되며, 이를 통해 로직을 정의하고 결정할 수 있습니다.\\n\\n5. **중앙 지속성 계층**: LangGraph는 대부분의 에이전트 아키텍처에서 필요로 하는 기능을 제공하는 중앙 지속성 계층을 구현하고 있어, 이러한 기능들을 공통적으로 사용할 수 있게 합니다.\\n\\n이런 특성들 덕분에 LangGraph는 AI 에이전트 시스템을 효과적으로 구축하고 관리할 수 있는 강력한 도구로 자리 잡고 있습니다.', additional_kwargs={'refusal': None}, response_metadata={'token_usage': {'completion_tokens': 443, 'prompt_tokens': 930, 'total_tokens': 1373, 'completion_tokens_details': {'accepted_prediction_tokens': 0, 'audio_tokens': 0, 'reasoning_tokens': 0, 'rejected_prediction_tokens': 0}, 'prompt_tokens_details': {'audio_tokens': 0, 'cached_tokens': 0}}, 'model_name': 'gpt-4o-mini-2024-07-18', 'system_fingerprint': 'fp_34a54ae93c', 'id': 'chatcmpl-BnJ9zZr5sLwiEyw0phAoeWVCARu91', 'service_tier': 'default', 'finish_reason': 'stop', 'logprobs': None}, id='run--9cf16ad4-cd5d-45ea-8e16-4fb3ca655d8d-0', usage_metadata={'input_tokens': 930, 'output_tokens': 443, 'total_tokens': 1373, 'input_token_details': {'audio': 0, 'cache_read': 0}, 'output_token_details': {'audio': 0, 'reasoning': 0}}),\n",
      " HumanMessage(content='AI 에이전트 개발을 위한 기술 선택에 대한 전문가의 지원이 필요해요. 지원 요청을 해도 될까요?', additional_kwargs={}, response_metadata={}, id='1d5ad066-c07a-4d9f-a845-1dc992c9c5df'),\n",
      " AIMessage(content='', additional_kwargs={'tool_calls': [{'id': 'call_c3chuAdH7FNjzyJQgssMRlNv', 'function': {'arguments': '{\"query\":\"AI 에이전트 개발을 위한 기술 선택에 대한 전문가 지원 요청\"}', 'name': 'human_assist'}, 'type': 'function'}], 'refusal': None}, response_metadata={'token_usage': {'completion_tokens': 30, 'prompt_tokens': 1408, 'total_tokens': 1438, 'completion_tokens_details': {'accepted_prediction_tokens': 0, 'audio_tokens': 0, 'reasoning_tokens': 0, 'rejected_prediction_tokens': 0}, 'prompt_tokens_details': {'audio_tokens': 0, 'cached_tokens': 1280}}, 'model_name': 'gpt-4o-mini-2024-07-18', 'system_fingerprint': 'fp_34a54ae93c', 'id': 'chatcmpl-BnJA5DaYkIT4ziYNJEO1dYCa8TEHv', 'service_tier': 'default', 'finish_reason': 'tool_calls', 'logprobs': None}, id='run--f5cd467d-386c-41c9-a011-f5224abdcfbc-0', tool_calls=[{'name': 'human_assist', 'args': {'query': 'AI 에이전트 개발을 위한 기술 선택에 대한 전문가 지원 요청'}, 'id': 'call_c3chuAdH7FNjzyJQgssMRlNv', 'type': 'tool_call'}], usage_metadata={'input_tokens': 1408, 'output_tokens': 30, 'total_tokens': 1438, 'input_token_details': {'audio': 0, 'cache_read': 1280}, 'output_token_details': {'audio': 0, 'reasoning': 0}}),\n",
      " ToolMessage(content='네, 물론입니다. AI 에이전트 개발을 위한 기술 선택에 대한 지원을 해드리겠습니다. 우선 LangGraph를 사용하는 것에 대해 어떻게 생각하시나요? LangGraph는 AI 에이전트를 개발하는 데 매우 유용한 도구입니다. ', name='human_assist', id='ff20ce04-5d6e-4071-9653-432db6718f71', tool_call_id='call_c3chuAdH7FNjzyJQgssMRlNv'),\n",
      " AIMessage(content='네, AI 에이전트 개발을 위한 기술 선택에 대한 지원을 요청하셔도 좋습니다. LangGraph는 AI 에이전트 개발에 매우 유용한 도구로, 위에서 언급한 다양한 특징들이 이를 뒷받침합니다. \\n\\n여기에 더해, 전문적인 지원을 받으려면 프로젝트의 요구사항이나 목표에 대한 정보를 제공해 주시면 더욱 맞춤형 조언을 드릴 수 있습니다. 어떤 기술이나 플랫폼에 관심이 있으신지, 또는 특정한 문제를 해결하고자 하는 부분이 있는지 알려주시면 좋겠습니다.', additional_kwargs={'refusal': None}, response_metadata={'token_usage': {'completion_tokens': 127, 'prompt_tokens': 1505, 'total_tokens': 1632, 'completion_tokens_details': {'accepted_prediction_tokens': 0, 'audio_tokens': 0, 'reasoning_tokens': 0, 'rejected_prediction_tokens': 0}, 'prompt_tokens_details': {'audio_tokens': 0, 'cached_tokens': 1408}}, 'model_name': 'gpt-4o-mini-2024-07-18', 'system_fingerprint': 'fp_34a54ae93c', 'id': 'chatcmpl-BnJA6b39rSCVyvx7DMIHJGpAxrRqk', 'service_tier': 'default', 'finish_reason': 'stop', 'logprobs': None}, id='run--6422db0e-6b8b-4edc-88e0-b1bec5a02af5-0', usage_metadata={'input_tokens': 1505, 'output_tokens': 127, 'total_tokens': 1632, 'input_token_details': {'audio': 0, 'cache_read': 1408}, 'output_token_details': {'audio': 0, 'reasoning': 0}}),\n",
      " HumanMessage(content='앞서 추천해주신 기술의 시장성은 어떤가요?', additional_kwargs={}, response_metadata={}, id='520dcdc6-808a-4619-bf43-9d413a692f4d'),\n",
      " AIMessage(content='', additional_kwargs={'tool_calls': [{'id': 'call_zYsGZtWumVVZZKJtwEiLAJYH', 'function': {'arguments': '{\"query\":\"LangGraph 시장성 AI 에이전트 개발\"}', 'name': 'tavily_search_results_json'}, 'type': 'function'}], 'refusal': None}, response_metadata={'token_usage': {'completion_tokens': 27, 'prompt_tokens': 1654, 'total_tokens': 1681, 'completion_tokens_details': {'accepted_prediction_tokens': 0, 'audio_tokens': 0, 'reasoning_tokens': 0, 'rejected_prediction_tokens': 0}, 'prompt_tokens_details': {'audio_tokens': 0, 'cached_tokens': 1536}}, 'model_name': 'gpt-4o-mini-2024-07-18', 'system_fingerprint': 'fp_34a54ae93c', 'id': 'chatcmpl-BnJA9WVivrEcYPPbmciNX4zHcBj7s', 'service_tier': 'default', 'finish_reason': 'tool_calls', 'logprobs': None}, id='run--5e26aaac-6110-40f1-a94f-a61f89d96a35-0', tool_calls=[{'name': 'tavily_search_results_json', 'args': {'query': 'LangGraph 시장성 AI 에이전트 개발'}, 'id': 'call_zYsGZtWumVVZZKJtwEiLAJYH', 'type': 'tool_call'}], usage_metadata={'input_tokens': 1654, 'output_tokens': 27, 'total_tokens': 1681, 'input_token_details': {'audio': 0, 'cache_read': 1536}, 'output_token_details': {'audio': 0, 'reasoning': 0}}),\n",
      " ToolMessage(content='[{\"title\": \"[전자책] Langgraph를 이용한 나만의 AI Agent 만들기 - 예스24\", \"url\": \"https://m.yes24.com/goods/detail/142173681\", \"content\": \"| 『Langgraph를 이용한 나만의 AI Agent 만들기』는 AI 에이전트 구축 전 과정을 폭넓게 다루어, 독자가 실무에서 당장 적용할 수 있는 노하우를 체계적으로 정리한 책입니다. AI 에이전트의 기본 개념과 유형부터, LLM(대규모 언어 모델) 기술을 접목한 고급 에이전트 설계, LangGraph 플랫폼의 세부 기능 및 배포 전략까지 단계적으로 학습할 수 있습니다. 특히, 메모리 관리나 액추에이터(Tool Node) 활용, Logic Node를 통한 조건 분기 등 에이전트 작동 원리를 구체적으로 보여 주어, 복잡해 보이는 AI 에이전트를 한층 쉽게 이해할 수 있도록 돕습니다.  더 나아가 멀티에이전트 구조, Streamlit을 통한 간편 배포, Langsmith와 연계한 모니터링 및 최적화 기법도 소개되어 있어, AI 에이전트를 보다 강력하고 유연하게 개발할 수 있습니다. 각 장의 예제 코드와 실습 자료는 GitHub 저장소(  )에 공개되어 있으므로, 실제 코드를 직접 [...] 실행해 보면서 학습 효과를 극대화할 수 있습니다.  이 책을 통해 독자 여러분은 대규모 언어 모델 기반의 지능형 에이전트를 구현하고, 이를 자신의 비즈니스 또는 연구 환경에 적용하는 데 필요한 실질적 역량을 확실히 갖추게 될 것입니다. | [...] |  |\\\\n| --- |\", \"score\": 0.80771893}, {\"title\": \"비즈니스 자동화 AI 에이전트의 새로운 시대: LangGraph와 MCP의 ...\", \"url\": \"https://www.yes24.com/product/goods/145238944\", \"content\": \"LangGraph와 MCP의 조합은 차세대 AI 에이전트 개발의 기술적 전환점으로, 비즈니스 프로세스 자동화 분야에 새로운 시대를 열고 있습니다. 이 책 『\", \"score\": 0.7742597}]', name='tavily_search_results_json', id='46f2ba18-e030-4030-be85-19fe0f1cf939', tool_call_id='call_zYsGZtWumVVZZKJtwEiLAJYH', artifact={'query': 'LangGraph 시장성 AI 에이전트 개발', 'follow_up_questions': None, 'answer': None, 'images': [], 'results': [{'url': 'https://m.yes24.com/goods/detail/142173681', 'title': '[전자책] Langgraph를 이용한 나만의 AI Agent 만들기 - 예스24', 'content': '| 『Langgraph를 이용한 나만의 AI Agent 만들기』는 AI 에이전트 구축 전 과정을 폭넓게 다루어, 독자가 실무에서 당장 적용할 수 있는 노하우를 체계적으로 정리한 책입니다. AI 에이전트의 기본 개념과 유형부터, LLM(대규모 언어 모델) 기술을 접목한 고급 에이전트 설계, LangGraph 플랫폼의 세부 기능 및 배포 전략까지 단계적으로 학습할 수 있습니다. 특히, 메모리 관리나 액추에이터(Tool Node) 활용, Logic Node를 통한 조건 분기 등 에이전트 작동 원리를 구체적으로 보여 주어, 복잡해 보이는 AI 에이전트를 한층 쉽게 이해할 수 있도록 돕습니다.  더 나아가 멀티에이전트 구조, Streamlit을 통한 간편 배포, Langsmith와 연계한 모니터링 및 최적화 기법도 소개되어 있어, AI 에이전트를 보다 강력하고 유연하게 개발할 수 있습니다. 각 장의 예제 코드와 실습 자료는 GitHub 저장소(  )에 공개되어 있으므로, 실제 코드를 직접 [...] 실행해 보면서 학습 효과를 극대화할 수 있습니다.  이 책을 통해 독자 여러분은 대규모 언어 모델 기반의 지능형 에이전트를 구현하고, 이를 자신의 비즈니스 또는 연구 환경에 적용하는 데 필요한 실질적 역량을 확실히 갖추게 될 것입니다. | [...] |  |\\n| --- |', 'score': 0.80771893, 'raw_content': None}, {'url': 'https://www.yes24.com/product/goods/145238944', 'title': '비즈니스 자동화 AI 에이전트의 새로운 시대: LangGraph와 MCP의 ...', 'content': 'LangGraph와 MCP의 조합은 차세대 AI 에이전트 개발의 기술적 전환점으로, 비즈니스 프로세스 자동화 분야에 새로운 시대를 열고 있습니다. 이 책 『', 'score': 0.7742597, 'raw_content': None}], 'response_time': 3.95}),\n",
      " AIMessage(content='LangGraph의 시장성은 다음과 같은 여러 측면에서 강점을 보이고 있습니다:\\n\\n1. **비즈니스 자동화 수요 증가**: LangGraph는 비즈니스 프로세스를 자동화하는 데 특히 유용한 도구로, AI 에이전트 개발에 필요한 다양한 기능을 제공합니다. 이는 기업들이 효율성을 극대화하고 비용을 절감하는 데 기여할 수 있어, 시장에서의 수요가 높습니다.\\n\\n2. **유연한 개발 플랫폼**: LangGraph는 대규모 언어 모델(LLM) 기술을 접목하여 고급 에이전트 설계가 가능하며, 이를 통해 다양한 산업군에서 활용될 수 있는 유연성을 가지고 있습니다. 멀티에이전트 구조와 복잡한 로직을 지원하기 때문에 복잡한 비즈니스 환경에서도 적응력이 뛰어난 솔루션을 제공합니다.\\n\\n3. **확장성**: LangGraph는 상태 관리, 메모리 기능 등 다수의 기본 기능을 제공함으로써 확장 가능성이 뛰어납니다. 이는 에이전트가 시간이 지남에 따라 학습하고 발전할 수 있는 기반을 마련해 줍니다.\\n\\n4. **지속적인 교육 및 자원 제공**: LangGraph에 대한 교육 자료와 GitHub와 같은 플랫폼을 통한 실습 자료는 사용자들에게 실질적인 도움이 됩니다. 이러한 자료는 개인이나 기업이 LangGraph를 효과적으로 활용할 수 있도록 돕고, 시장에서의 수요를 더욱 촉진시킬 수 있습니다.\\n\\n5. **기술적 혁신**: LangGraph와 MCP 같은 기술의 조합은 AI 에이전트 개발의 새로운 패러다임을 제시하고 있으며, 이는 비즈니스 자동화의 새로운 시대를 여는 결과를 가져올 가능성이 높습니다.\\n\\n이러한 요소들이 결합되어 LangGraph는 AI 에이전트 개발 분야에서 상당한 시장성을 지니고 있으며, 기업과 개발자들이 이를 활용하여 효과적으로 비즈니스 솔루션을 구축하는 데 큰 기여를 할 것으로 예상됩니다.', additional_kwargs={'refusal': None}, response_metadata={'token_usage': {'completion_tokens': 444, 'prompt_tokens': 2199, 'total_tokens': 2643, 'completion_tokens_details': {'accepted_prediction_tokens': 0, 'audio_tokens': 0, 'reasoning_tokens': 0, 'rejected_prediction_tokens': 0}, 'prompt_tokens_details': {'audio_tokens': 0, 'cached_tokens': 0}}, 'model_name': 'gpt-4o-mini-2024-07-18', 'system_fingerprint': 'fp_34a54ae93c', 'id': 'chatcmpl-BnJAEFm7RnWDgoeJib7hNdHT9gzBP', 'service_tier': 'default', 'finish_reason': 'stop', 'logprobs': None}, id='run--2e93e00d-588b-4567-9bf5-d4e79ad0a7fb-0', usage_metadata={'input_tokens': 2199, 'output_tokens': 444, 'total_tokens': 2643, 'input_token_details': {'audio': 0, 'cache_read': 0}, 'output_token_details': {'audio': 0, 'reasoning': 0}})]\n",
      "()\n"
     ]
    }
   ],
   "source": [
    "snapshot = graph.get_state(config)\n",
    "pprint(snapshot.values['messages'])\n",
    "print(snapshot.next)"
   ]
  },
  {
   "cell_type": "code",
   "execution_count": 21,
   "id": "8bb4cc8c",
   "metadata": {},
   "outputs": [
    {
     "name": "stdout",
     "output_type": "stream",
     "text": [
      "\n"
     ]
    }
   ],
   "source": [
    "user_input4 = \"LangGraph의 메모리 기능 추가에 대한 전문가의 지원이 필요해요.\"\n",
    "state4 = {\"messages\": [HumanMessage(content=user_input4)]}\n",
    "response4 = graph.invoke(state4, config)\n",
    "print(response4[\"messages\"][-1].content)"
   ]
  },
  {
   "cell_type": "code",
   "execution_count": 22,
   "id": "4ee228ee",
   "metadata": {},
   "outputs": [
    {
     "name": "stdout",
     "output_type": "stream",
     "text": [
      "[HumanMessage(content='AI 에이전트 개발을 위한 LangGraph의 특징에 대해 설명해주세요.', additional_kwargs={}, response_metadata={}, id='5dca40bb-10a2-45b3-9ade-54f31f4cae6a'),\n",
      " AIMessage(content='', additional_kwargs={'tool_calls': [{'id': 'call_TWXySqInhGiqPln6NIoekqzI', 'function': {'arguments': '{\"query\":\"LangGraph AI 에이전트 개발 특징\"}', 'name': 'tavily_search_results_json'}, 'type': 'function'}], 'refusal': None}, response_metadata={'token_usage': {'completion_tokens': 26, 'prompt_tokens': 115, 'total_tokens': 141, 'completion_tokens_details': {'accepted_prediction_tokens': 0, 'audio_tokens': 0, 'reasoning_tokens': 0, 'rejected_prediction_tokens': 0}, 'prompt_tokens_details': {'audio_tokens': 0, 'cached_tokens': 0}}, 'model_name': 'gpt-4o-mini-2024-07-18', 'system_fingerprint': 'fp_34a54ae93c', 'id': 'chatcmpl-BnJ9tIxMVJUNeVbxNPQW03WjZmRwH', 'service_tier': 'default', 'finish_reason': 'tool_calls', 'logprobs': None}, id='run--84ee02fb-5ab1-41f6-8329-cbce229c6b28-0', tool_calls=[{'name': 'tavily_search_results_json', 'args': {'query': 'LangGraph AI 에이전트 개발 특징'}, 'id': 'call_TWXySqInhGiqPln6NIoekqzI', 'type': 'tool_call'}], usage_metadata={'input_tokens': 115, 'output_tokens': 26, 'total_tokens': 141, 'input_token_details': {'audio': 0, 'cache_read': 0}, 'output_token_details': {'audio': 0, 'reasoning': 0}}),\n",
      " ToolMessage(content='[{\"title\": \"Amazon Bedrock과 LangGraph로 Multi Agent 시스템 구현하기 - AWS\", \"url\": \"https://aws.amazon.com/ko/blogs/tech/build-multi-agent-systems-with-langgraph-and-amazon-bedrock/\", \"content\": \"LangGraph와 Amazon Bedrock의 통합은 정교한 AI 애플리케이션을 위한 강력한 프레임워크를 제공함으로써 Multi Agent 시스템 개발을 크게 발전시킵니다. 이 조합은 LangGraph의 오케스트레이션 기능과 Amazon Bedrock의 FM을 활용하여 확장 가능하고 효율적인 시스템을 만듭니다. 상태 관리, Agent 조정 및 워크플로우 오케스트레이션을 통해 Multi Agent 아키텍처의 문제를 해결하며, 메모리 관리, 오류 처리 및 인간 참여(human-in-the-loop) 기능과 같은 특징을 제공합니다. LangGraph Studio의 시각화 및 디버깅 도구는 복잡한 Agent 상호작용의 효율적인 설계와 유지 관리를 가능하게 합니다. 이 통합은 차세대 Multi Agent 시스템을 위한 강력한 기반을 제공하며, 효과적인 워크플로우 처리, 컨텍스트 유지, 신뢰할 수 있는 결과 및 최적의 리소스 활용을 가능하게 합니다. [...] 메모리(Memory) – LangGraph는 애플리케이션 상태의 임의 측면을 유지하여 사용자 상호작용 내부 및 상호작용 간의 대화 기억과 기타 업데이트를 지원합니다.\\\\n   인간 참여(Human-in-the-loop) – 상태가 체크포인트되기 때문에 실행을 중단하고 재개할 수 있어 인간 입력을 통해 주요 단계에서 결정, 검증 및 수정이 가능합니다.\\\\n\\\\nLangGraph Studio는 AI Agent 개발을 위해 특별히 설계된 통합 개발 환경(IDE)입니다. 개발자에게 시각화, 실시간 상호작용 및 디버깅 기능을 위한 강력한 도구를 제공합니다. LangGraph Studio의 주요 기능은 다음과 같습니다: [...] LangGraph는 Multi Agent 오케스트레이션을 위해 상태 머신(state machine)과 방향성 그래프를 구현합니다. 이 프레임워크는 Agent 애플리케이션의 흐름과 상태 모두에 대한 세밀한 제어를 제공합니다. LangGraph는 Agent 워크플로우를 그래프로 모델링합니다. 다음 세 가지 핵심 구성요소를 사용하여 Agent의 동작을 정의할 수 있습니다:\\\\n\\\\n   상태(State) – 애플리케이션의 현재 스냅샷을 나타내는 공유 데이터 구조입니다.\\\\n   노드(Nodes) – 에이전트의 로직을 인코딩하는 Python 함수입니다.\\\\n   엣지(Edges) – 현재 상태를 기반으로 다음에 실행할 노드를 결정하는 Python 함수입니다. 조건부 분기 또는 고정된 전환일 수 있습니다.\\\\n\\\\nLangGraph는 중앙 지속성 계층(persistence layer)를 구현하여 대부분의 Agent 아키텍처에 공통적인 기능을 가능하게 합니다. 여기에는 다음이 포함됩니다:\", \"score\": 0.8482825}, {\"title\": \"Generative AI on Vertex AI - LangGraph 에이전트 사용 - Google Cloud\", \"url\": \"https://cloud.google.com/vertex-ai/generative-ai/docs/agent-engine/use/langgraph?hl=ko\", \"content\": \"LangGraph 에이전트 개발: LanggraphAgent 인스턴스로 agent 를 개발합니다. 사용자 인증: 에이전트 쿼리를 위해 사용자로 인증을 수행합니다. 지원되는 작업.\", \"score\": 0.79883134}]', name='tavily_search_results_json', id='cb7c4ea8-c947-4d7e-bdb6-f0d906b3d97b', tool_call_id='call_TWXySqInhGiqPln6NIoekqzI', artifact={'query': 'LangGraph AI 에이전트 개발 특징', 'follow_up_questions': None, 'answer': None, 'images': [], 'results': [{'url': 'https://aws.amazon.com/ko/blogs/tech/build-multi-agent-systems-with-langgraph-and-amazon-bedrock/', 'title': 'Amazon Bedrock과 LangGraph로 Multi Agent 시스템 구현하기 - AWS', 'content': 'LangGraph와 Amazon Bedrock의 통합은 정교한 AI 애플리케이션을 위한 강력한 프레임워크를 제공함으로써 Multi Agent 시스템 개발을 크게 발전시킵니다. 이 조합은 LangGraph의 오케스트레이션 기능과 Amazon Bedrock의 FM을 활용하여 확장 가능하고 효율적인 시스템을 만듭니다. 상태 관리, Agent 조정 및 워크플로우 오케스트레이션을 통해 Multi Agent 아키텍처의 문제를 해결하며, 메모리 관리, 오류 처리 및 인간 참여(human-in-the-loop) 기능과 같은 특징을 제공합니다. LangGraph Studio의 시각화 및 디버깅 도구는 복잡한 Agent 상호작용의 효율적인 설계와 유지 관리를 가능하게 합니다. 이 통합은 차세대 Multi Agent 시스템을 위한 강력한 기반을 제공하며, 효과적인 워크플로우 처리, 컨텍스트 유지, 신뢰할 수 있는 결과 및 최적의 리소스 활용을 가능하게 합니다. [...] 메모리(Memory) – LangGraph는 애플리케이션 상태의 임의 측면을 유지하여 사용자 상호작용 내부 및 상호작용 간의 대화 기억과 기타 업데이트를 지원합니다.\\n   인간 참여(Human-in-the-loop) – 상태가 체크포인트되기 때문에 실행을 중단하고 재개할 수 있어 인간 입력을 통해 주요 단계에서 결정, 검증 및 수정이 가능합니다.\\n\\nLangGraph Studio는 AI Agent 개발을 위해 특별히 설계된 통합 개발 환경(IDE)입니다. 개발자에게 시각화, 실시간 상호작용 및 디버깅 기능을 위한 강력한 도구를 제공합니다. LangGraph Studio의 주요 기능은 다음과 같습니다: [...] LangGraph는 Multi Agent 오케스트레이션을 위해 상태 머신(state machine)과 방향성 그래프를 구현합니다. 이 프레임워크는 Agent 애플리케이션의 흐름과 상태 모두에 대한 세밀한 제어를 제공합니다. LangGraph는 Agent 워크플로우를 그래프로 모델링합니다. 다음 세 가지 핵심 구성요소를 사용하여 Agent의 동작을 정의할 수 있습니다:\\n\\n   상태(State) – 애플리케이션의 현재 스냅샷을 나타내는 공유 데이터 구조입니다.\\n   노드(Nodes) – 에이전트의 로직을 인코딩하는 Python 함수입니다.\\n   엣지(Edges) – 현재 상태를 기반으로 다음에 실행할 노드를 결정하는 Python 함수입니다. 조건부 분기 또는 고정된 전환일 수 있습니다.\\n\\nLangGraph는 중앙 지속성 계층(persistence layer)를 구현하여 대부분의 Agent 아키텍처에 공통적인 기능을 가능하게 합니다. 여기에는 다음이 포함됩니다:', 'score': 0.8482825, 'raw_content': None}, {'url': 'https://cloud.google.com/vertex-ai/generative-ai/docs/agent-engine/use/langgraph?hl=ko', 'title': 'Generative AI on Vertex AI - LangGraph 에이전트 사용 - Google Cloud', 'content': 'LangGraph 에이전트 개발: LanggraphAgent 인스턴스로 agent 를 개발합니다. 사용자 인증: 에이전트 쿼리를 위해 사용자로 인증을 수행합니다. 지원되는 작업.', 'score': 0.79883134, 'raw_content': None}], 'response_time': 1.61}),\n",
      " AIMessage(content='LangGraph는 AI 에이전트 개발을 위한 강력한 프레임워크로 여러 특징을 가지고 있습니다:\\n\\n1. **Multi Agent 시스템**: LangGraph는 Amazon Bedrock과의 통합을 통해 정교한 AI 애플리케이션을 구성할 수 있는 Multi Agent 시스템 개발에 최적화되어 있습니다. 이 시스템은 에이전트 간의 오케스트레이션, 상태 관리, 오류 처리, 그리고 인간의 개입(human-in-the-loop) 기능을 지원합니다.\\n\\n2. **상태 관리**: LangGraph는 애플리케이션의 상태를 유지하여 사용자 간의 상호작용 및 이전 상호작용의 대화 기억을 지원합니다. 상태 체크포인트를 통해 실행 중에 중단하고 재개하는 것이 가능하여, 인간의 입력을 통해 중요한 결정이나 수정을 수행할 수 있습니다.\\n\\n3. **LangGraph Studio**: 이 통합 개발 환경(IDE)은 AI 에이전트 개발을 위해 특별히 설계되어, 시각화, 라이브 상호작용, 디버깅 기능 등을 제공합니다. 복잡한 에이전트 간의 상호작용을 효율적으로 설계하고 유지할 수 있게 해줍니다.\\n\\n4. **오케스트레이션 아키텍처**: LangGraph는 상태 머신과 방향성 그래프를 사용하여 에이전트의 동작 및 애플리케이션의 흐름을 세밀하게 제어합니다. 에이전트의 동작은 상태(State), 노드(Nodes), 엣지(Edges)로 구성되며, 이를 통해 로직을 정의하고 결정할 수 있습니다.\\n\\n5. **중앙 지속성 계층**: LangGraph는 대부분의 에이전트 아키텍처에서 필요로 하는 기능을 제공하는 중앙 지속성 계층을 구현하고 있어, 이러한 기능들을 공통적으로 사용할 수 있게 합니다.\\n\\n이런 특성들 덕분에 LangGraph는 AI 에이전트 시스템을 효과적으로 구축하고 관리할 수 있는 강력한 도구로 자리 잡고 있습니다.', additional_kwargs={'refusal': None}, response_metadata={'token_usage': {'completion_tokens': 443, 'prompt_tokens': 930, 'total_tokens': 1373, 'completion_tokens_details': {'accepted_prediction_tokens': 0, 'audio_tokens': 0, 'reasoning_tokens': 0, 'rejected_prediction_tokens': 0}, 'prompt_tokens_details': {'audio_tokens': 0, 'cached_tokens': 0}}, 'model_name': 'gpt-4o-mini-2024-07-18', 'system_fingerprint': 'fp_34a54ae93c', 'id': 'chatcmpl-BnJ9zZr5sLwiEyw0phAoeWVCARu91', 'service_tier': 'default', 'finish_reason': 'stop', 'logprobs': None}, id='run--9cf16ad4-cd5d-45ea-8e16-4fb3ca655d8d-0', usage_metadata={'input_tokens': 930, 'output_tokens': 443, 'total_tokens': 1373, 'input_token_details': {'audio': 0, 'cache_read': 0}, 'output_token_details': {'audio': 0, 'reasoning': 0}}),\n",
      " HumanMessage(content='AI 에이전트 개발을 위한 기술 선택에 대한 전문가의 지원이 필요해요. 지원 요청을 해도 될까요?', additional_kwargs={}, response_metadata={}, id='1d5ad066-c07a-4d9f-a845-1dc992c9c5df'),\n",
      " AIMessage(content='', additional_kwargs={'tool_calls': [{'id': 'call_c3chuAdH7FNjzyJQgssMRlNv', 'function': {'arguments': '{\"query\":\"AI 에이전트 개발을 위한 기술 선택에 대한 전문가 지원 요청\"}', 'name': 'human_assist'}, 'type': 'function'}], 'refusal': None}, response_metadata={'token_usage': {'completion_tokens': 30, 'prompt_tokens': 1408, 'total_tokens': 1438, 'completion_tokens_details': {'accepted_prediction_tokens': 0, 'audio_tokens': 0, 'reasoning_tokens': 0, 'rejected_prediction_tokens': 0}, 'prompt_tokens_details': {'audio_tokens': 0, 'cached_tokens': 1280}}, 'model_name': 'gpt-4o-mini-2024-07-18', 'system_fingerprint': 'fp_34a54ae93c', 'id': 'chatcmpl-BnJA5DaYkIT4ziYNJEO1dYCa8TEHv', 'service_tier': 'default', 'finish_reason': 'tool_calls', 'logprobs': None}, id='run--f5cd467d-386c-41c9-a011-f5224abdcfbc-0', tool_calls=[{'name': 'human_assist', 'args': {'query': 'AI 에이전트 개발을 위한 기술 선택에 대한 전문가 지원 요청'}, 'id': 'call_c3chuAdH7FNjzyJQgssMRlNv', 'type': 'tool_call'}], usage_metadata={'input_tokens': 1408, 'output_tokens': 30, 'total_tokens': 1438, 'input_token_details': {'audio': 0, 'cache_read': 1280}, 'output_token_details': {'audio': 0, 'reasoning': 0}}),\n",
      " ToolMessage(content='네, 물론입니다. AI 에이전트 개발을 위한 기술 선택에 대한 지원을 해드리겠습니다. 우선 LangGraph를 사용하는 것에 대해 어떻게 생각하시나요? LangGraph는 AI 에이전트를 개발하는 데 매우 유용한 도구입니다. ', name='human_assist', id='ff20ce04-5d6e-4071-9653-432db6718f71', tool_call_id='call_c3chuAdH7FNjzyJQgssMRlNv'),\n",
      " AIMessage(content='네, AI 에이전트 개발을 위한 기술 선택에 대한 지원을 요청하셔도 좋습니다. LangGraph는 AI 에이전트 개발에 매우 유용한 도구로, 위에서 언급한 다양한 특징들이 이를 뒷받침합니다. \\n\\n여기에 더해, 전문적인 지원을 받으려면 프로젝트의 요구사항이나 목표에 대한 정보를 제공해 주시면 더욱 맞춤형 조언을 드릴 수 있습니다. 어떤 기술이나 플랫폼에 관심이 있으신지, 또는 특정한 문제를 해결하고자 하는 부분이 있는지 알려주시면 좋겠습니다.', additional_kwargs={'refusal': None}, response_metadata={'token_usage': {'completion_tokens': 127, 'prompt_tokens': 1505, 'total_tokens': 1632, 'completion_tokens_details': {'accepted_prediction_tokens': 0, 'audio_tokens': 0, 'reasoning_tokens': 0, 'rejected_prediction_tokens': 0}, 'prompt_tokens_details': {'audio_tokens': 0, 'cached_tokens': 1408}}, 'model_name': 'gpt-4o-mini-2024-07-18', 'system_fingerprint': 'fp_34a54ae93c', 'id': 'chatcmpl-BnJA6b39rSCVyvx7DMIHJGpAxrRqk', 'service_tier': 'default', 'finish_reason': 'stop', 'logprobs': None}, id='run--6422db0e-6b8b-4edc-88e0-b1bec5a02af5-0', usage_metadata={'input_tokens': 1505, 'output_tokens': 127, 'total_tokens': 1632, 'input_token_details': {'audio': 0, 'cache_read': 1408}, 'output_token_details': {'audio': 0, 'reasoning': 0}}),\n",
      " HumanMessage(content='앞서 추천해주신 기술의 시장성은 어떤가요?', additional_kwargs={}, response_metadata={}, id='520dcdc6-808a-4619-bf43-9d413a692f4d'),\n",
      " AIMessage(content='', additional_kwargs={'tool_calls': [{'id': 'call_zYsGZtWumVVZZKJtwEiLAJYH', 'function': {'arguments': '{\"query\":\"LangGraph 시장성 AI 에이전트 개발\"}', 'name': 'tavily_search_results_json'}, 'type': 'function'}], 'refusal': None}, response_metadata={'token_usage': {'completion_tokens': 27, 'prompt_tokens': 1654, 'total_tokens': 1681, 'completion_tokens_details': {'accepted_prediction_tokens': 0, 'audio_tokens': 0, 'reasoning_tokens': 0, 'rejected_prediction_tokens': 0}, 'prompt_tokens_details': {'audio_tokens': 0, 'cached_tokens': 1536}}, 'model_name': 'gpt-4o-mini-2024-07-18', 'system_fingerprint': 'fp_34a54ae93c', 'id': 'chatcmpl-BnJA9WVivrEcYPPbmciNX4zHcBj7s', 'service_tier': 'default', 'finish_reason': 'tool_calls', 'logprobs': None}, id='run--5e26aaac-6110-40f1-a94f-a61f89d96a35-0', tool_calls=[{'name': 'tavily_search_results_json', 'args': {'query': 'LangGraph 시장성 AI 에이전트 개발'}, 'id': 'call_zYsGZtWumVVZZKJtwEiLAJYH', 'type': 'tool_call'}], usage_metadata={'input_tokens': 1654, 'output_tokens': 27, 'total_tokens': 1681, 'input_token_details': {'audio': 0, 'cache_read': 1536}, 'output_token_details': {'audio': 0, 'reasoning': 0}}),\n",
      " ToolMessage(content='[{\"title\": \"[전자책] Langgraph를 이용한 나만의 AI Agent 만들기 - 예스24\", \"url\": \"https://m.yes24.com/goods/detail/142173681\", \"content\": \"| 『Langgraph를 이용한 나만의 AI Agent 만들기』는 AI 에이전트 구축 전 과정을 폭넓게 다루어, 독자가 실무에서 당장 적용할 수 있는 노하우를 체계적으로 정리한 책입니다. AI 에이전트의 기본 개념과 유형부터, LLM(대규모 언어 모델) 기술을 접목한 고급 에이전트 설계, LangGraph 플랫폼의 세부 기능 및 배포 전략까지 단계적으로 학습할 수 있습니다. 특히, 메모리 관리나 액추에이터(Tool Node) 활용, Logic Node를 통한 조건 분기 등 에이전트 작동 원리를 구체적으로 보여 주어, 복잡해 보이는 AI 에이전트를 한층 쉽게 이해할 수 있도록 돕습니다.  더 나아가 멀티에이전트 구조, Streamlit을 통한 간편 배포, Langsmith와 연계한 모니터링 및 최적화 기법도 소개되어 있어, AI 에이전트를 보다 강력하고 유연하게 개발할 수 있습니다. 각 장의 예제 코드와 실습 자료는 GitHub 저장소(  )에 공개되어 있으므로, 실제 코드를 직접 [...] 실행해 보면서 학습 효과를 극대화할 수 있습니다.  이 책을 통해 독자 여러분은 대규모 언어 모델 기반의 지능형 에이전트를 구현하고, 이를 자신의 비즈니스 또는 연구 환경에 적용하는 데 필요한 실질적 역량을 확실히 갖추게 될 것입니다. | [...] |  |\\\\n| --- |\", \"score\": 0.80771893}, {\"title\": \"비즈니스 자동화 AI 에이전트의 새로운 시대: LangGraph와 MCP의 ...\", \"url\": \"https://www.yes24.com/product/goods/145238944\", \"content\": \"LangGraph와 MCP의 조합은 차세대 AI 에이전트 개발의 기술적 전환점으로, 비즈니스 프로세스 자동화 분야에 새로운 시대를 열고 있습니다. 이 책 『\", \"score\": 0.7742597}]', name='tavily_search_results_json', id='46f2ba18-e030-4030-be85-19fe0f1cf939', tool_call_id='call_zYsGZtWumVVZZKJtwEiLAJYH', artifact={'query': 'LangGraph 시장성 AI 에이전트 개발', 'follow_up_questions': None, 'answer': None, 'images': [], 'results': [{'url': 'https://m.yes24.com/goods/detail/142173681', 'title': '[전자책] Langgraph를 이용한 나만의 AI Agent 만들기 - 예스24', 'content': '| 『Langgraph를 이용한 나만의 AI Agent 만들기』는 AI 에이전트 구축 전 과정을 폭넓게 다루어, 독자가 실무에서 당장 적용할 수 있는 노하우를 체계적으로 정리한 책입니다. AI 에이전트의 기본 개념과 유형부터, LLM(대규모 언어 모델) 기술을 접목한 고급 에이전트 설계, LangGraph 플랫폼의 세부 기능 및 배포 전략까지 단계적으로 학습할 수 있습니다. 특히, 메모리 관리나 액추에이터(Tool Node) 활용, Logic Node를 통한 조건 분기 등 에이전트 작동 원리를 구체적으로 보여 주어, 복잡해 보이는 AI 에이전트를 한층 쉽게 이해할 수 있도록 돕습니다.  더 나아가 멀티에이전트 구조, Streamlit을 통한 간편 배포, Langsmith와 연계한 모니터링 및 최적화 기법도 소개되어 있어, AI 에이전트를 보다 강력하고 유연하게 개발할 수 있습니다. 각 장의 예제 코드와 실습 자료는 GitHub 저장소(  )에 공개되어 있으므로, 실제 코드를 직접 [...] 실행해 보면서 학습 효과를 극대화할 수 있습니다.  이 책을 통해 독자 여러분은 대규모 언어 모델 기반의 지능형 에이전트를 구현하고, 이를 자신의 비즈니스 또는 연구 환경에 적용하는 데 필요한 실질적 역량을 확실히 갖추게 될 것입니다. | [...] |  |\\n| --- |', 'score': 0.80771893, 'raw_content': None}, {'url': 'https://www.yes24.com/product/goods/145238944', 'title': '비즈니스 자동화 AI 에이전트의 새로운 시대: LangGraph와 MCP의 ...', 'content': 'LangGraph와 MCP의 조합은 차세대 AI 에이전트 개발의 기술적 전환점으로, 비즈니스 프로세스 자동화 분야에 새로운 시대를 열고 있습니다. 이 책 『', 'score': 0.7742597, 'raw_content': None}], 'response_time': 3.95}),\n",
      " AIMessage(content='LangGraph의 시장성은 다음과 같은 여러 측면에서 강점을 보이고 있습니다:\\n\\n1. **비즈니스 자동화 수요 증가**: LangGraph는 비즈니스 프로세스를 자동화하는 데 특히 유용한 도구로, AI 에이전트 개발에 필요한 다양한 기능을 제공합니다. 이는 기업들이 효율성을 극대화하고 비용을 절감하는 데 기여할 수 있어, 시장에서의 수요가 높습니다.\\n\\n2. **유연한 개발 플랫폼**: LangGraph는 대규모 언어 모델(LLM) 기술을 접목하여 고급 에이전트 설계가 가능하며, 이를 통해 다양한 산업군에서 활용될 수 있는 유연성을 가지고 있습니다. 멀티에이전트 구조와 복잡한 로직을 지원하기 때문에 복잡한 비즈니스 환경에서도 적응력이 뛰어난 솔루션을 제공합니다.\\n\\n3. **확장성**: LangGraph는 상태 관리, 메모리 기능 등 다수의 기본 기능을 제공함으로써 확장 가능성이 뛰어납니다. 이는 에이전트가 시간이 지남에 따라 학습하고 발전할 수 있는 기반을 마련해 줍니다.\\n\\n4. **지속적인 교육 및 자원 제공**: LangGraph에 대한 교육 자료와 GitHub와 같은 플랫폼을 통한 실습 자료는 사용자들에게 실질적인 도움이 됩니다. 이러한 자료는 개인이나 기업이 LangGraph를 효과적으로 활용할 수 있도록 돕고, 시장에서의 수요를 더욱 촉진시킬 수 있습니다.\\n\\n5. **기술적 혁신**: LangGraph와 MCP 같은 기술의 조합은 AI 에이전트 개발의 새로운 패러다임을 제시하고 있으며, 이는 비즈니스 자동화의 새로운 시대를 여는 결과를 가져올 가능성이 높습니다.\\n\\n이러한 요소들이 결합되어 LangGraph는 AI 에이전트 개발 분야에서 상당한 시장성을 지니고 있으며, 기업과 개발자들이 이를 활용하여 효과적으로 비즈니스 솔루션을 구축하는 데 큰 기여를 할 것으로 예상됩니다.', additional_kwargs={'refusal': None}, response_metadata={'token_usage': {'completion_tokens': 444, 'prompt_tokens': 2199, 'total_tokens': 2643, 'completion_tokens_details': {'accepted_prediction_tokens': 0, 'audio_tokens': 0, 'reasoning_tokens': 0, 'rejected_prediction_tokens': 0}, 'prompt_tokens_details': {'audio_tokens': 0, 'cached_tokens': 0}}, 'model_name': 'gpt-4o-mini-2024-07-18', 'system_fingerprint': 'fp_34a54ae93c', 'id': 'chatcmpl-BnJAEFm7RnWDgoeJib7hNdHT9gzBP', 'service_tier': 'default', 'finish_reason': 'stop', 'logprobs': None}, id='run--2e93e00d-588b-4567-9bf5-d4e79ad0a7fb-0', usage_metadata={'input_tokens': 2199, 'output_tokens': 444, 'total_tokens': 2643, 'input_token_details': {'audio': 0, 'cache_read': 0}, 'output_token_details': {'audio': 0, 'reasoning': 0}}),\n",
      " HumanMessage(content='LangGraph의 메모리 기능 추가에 대한 전문가의 지원이 필요해요.', additional_kwargs={}, response_metadata={}, id='500053c5-31ae-44ea-9fba-42cc079d2c95'),\n",
      " AIMessage(content='', additional_kwargs={'tool_calls': [{'id': 'call_SPogbVWvPh5Ti2tdESPCJgkN', 'function': {'arguments': '{\"query\":\"LangGraph의 메모리 기능 추가에 대한 전문가 지원 요청\"}', 'name': 'human_assist'}, 'type': 'function'}], 'refusal': None}, response_metadata={'token_usage': {'completion_tokens': 28, 'prompt_tokens': 2668, 'total_tokens': 2696, 'completion_tokens_details': {'accepted_prediction_tokens': 0, 'audio_tokens': 0, 'reasoning_tokens': 0, 'rejected_prediction_tokens': 0}, 'prompt_tokens_details': {'audio_tokens': 0, 'cached_tokens': 2560}}, 'model_name': 'gpt-4o-mini-2024-07-18', 'system_fingerprint': 'fp_34a54ae93c', 'id': 'chatcmpl-BnJANakXqEPnZ6rpDZZf84yZSbjOd', 'service_tier': 'default', 'finish_reason': 'tool_calls', 'logprobs': None}, id='run--cda17f39-89e4-42db-9d0a-fea75e21560b-0', tool_calls=[{'name': 'human_assist', 'args': {'query': 'LangGraph의 메모리 기능 추가에 대한 전문가 지원 요청'}, 'id': 'call_SPogbVWvPh5Ti2tdESPCJgkN', 'type': 'tool_call'}], usage_metadata={'input_tokens': 2668, 'output_tokens': 28, 'total_tokens': 2696, 'input_token_details': {'audio': 0, 'cache_read': 2560}, 'output_token_details': {'audio': 0, 'reasoning': 0}})]\n",
      "('tools',)\n"
     ]
    }
   ],
   "source": [
    "snapshot = graph.get_state(config)\n",
    "if 'messages' in snapshot.values:\n",
    "    pprint(snapshot.values['messages'])\n",
    "else:\n",
    "    print(\"No messages found in the snapshot.\")\n",
    "print(snapshot.next)"
   ]
  },
  {
   "cell_type": "code",
   "execution_count": 23,
   "id": "5137ec50",
   "metadata": {},
   "outputs": [
    {
     "name": "stdout",
     "output_type": "stream",
     "text": [
      "LangGraph의 메모리 기능 추가에 대한 지원을 요청하셨군요. 메모리 기능은 AI 에이전트가 이전 대화 내용을 기억하고 다음 상호작용 시에도 맥락을 유지할 수 있게 도와주는 중요한 요소입니다.\n",
      "\n",
      "1. **MemorySaver 사용**: LangGraph에서는 기본적으로 MemorySaver를 사용할 수 있습니다. 이 기능은 메모리 기반의 체크포인터로, 각 대화의 상태를 임시로 저장하고 관리하여 챗봇이 이전 대화 내용을 기억할 수 있도록 합니다.\n",
      "\n",
      "2. **영구적인 상태 관리**: 실제 운영 환경에서는 보다 영구적인 상태 관리를 위해 데이터베이스 기반의 체크포인터를 사용하는 것이 권장됩니다. 예를 들어, SqliteSaver 또는 PostgresSaver와 같은 옵션을 통해 데이터를 지속적으로 저장하고 관리할 수 있습니다.\n",
      "\n",
      "3. **상태 관리의 중요성**: 메모리 기능을 효과적으로 활용하면 에이전트의 성능을 크게 향상시킬 수 있습니다. 이전 대화의 맥락을 기억함으로써 사용자에게 더 맞춤형 응답을 제공하고, 사용자가 느끼는 연속성과 일관성을 증가시킬 수 있습니다.\n",
      "\n",
      "4. **테스트 및 검증**: 개발 과정에서 메모리 기능을 추가한 후에는 충분한 테스트를 통해 기능의 작동 여부와 안정성을 확인하는 것이 중요합니다. 대화의 맥락 유지가 올바르게 이루어지는지를 검증해야 합니다.\n",
      "\n",
      "이러한 정보를 바탕으로 LangGraph의 메모리 기능을 효과적으로 추가할 수 있을 것입니다. 추가적인 질문이나 특정 구현에 대한 궁금증이 있다면 언제든지 말씀해 주세요!\n"
     ]
    }
   ],
   "source": [
    "human_response = (\n",
    "    \"MemorySaver는 메모리 기반의 체크포인터로, 각 대화의 상태를 메모리에 임시로 저장하고 관리합니다. \"\n",
    "    \"이를 통해 챗봇은 이전 대화 내용을 기억하고 다음 번 상호작용 시에도 맥락을 유지한 상태로 대화를 진행할 수 있습니다. \"\n",
    "    \"실제 운영 환경에서는 더 영구적인 상태 관리를 위해 데이터베이스 기반 체크포인터(예: SqliteSaver 또는 PostgresSaver)를 사용하는 것이 권장됩니다.\"\n",
    ")\n",
    "human_command = Command(resume={\"data\": human_response})\n",
    "response = graph.invoke(human_command, config)\n",
    "print(response[\"messages\"][-1].content)"
   ]
  },
  {
   "cell_type": "code",
   "execution_count": 24,
   "id": "b5e78da1",
   "metadata": {},
   "outputs": [
    {
     "name": "stdout",
     "output_type": "stream",
     "text": [
      "[HumanMessage(content='AI 에이전트 개발을 위한 LangGraph의 특징에 대해 설명해주세요.', additional_kwargs={}, response_metadata={}, id='5dca40bb-10a2-45b3-9ade-54f31f4cae6a'),\n",
      " AIMessage(content='', additional_kwargs={'tool_calls': [{'id': 'call_TWXySqInhGiqPln6NIoekqzI', 'function': {'arguments': '{\"query\":\"LangGraph AI 에이전트 개발 특징\"}', 'name': 'tavily_search_results_json'}, 'type': 'function'}], 'refusal': None}, response_metadata={'token_usage': {'completion_tokens': 26, 'prompt_tokens': 115, 'total_tokens': 141, 'completion_tokens_details': {'accepted_prediction_tokens': 0, 'audio_tokens': 0, 'reasoning_tokens': 0, 'rejected_prediction_tokens': 0}, 'prompt_tokens_details': {'audio_tokens': 0, 'cached_tokens': 0}}, 'model_name': 'gpt-4o-mini-2024-07-18', 'system_fingerprint': 'fp_34a54ae93c', 'id': 'chatcmpl-BnJ9tIxMVJUNeVbxNPQW03WjZmRwH', 'service_tier': 'default', 'finish_reason': 'tool_calls', 'logprobs': None}, id='run--84ee02fb-5ab1-41f6-8329-cbce229c6b28-0', tool_calls=[{'name': 'tavily_search_results_json', 'args': {'query': 'LangGraph AI 에이전트 개발 특징'}, 'id': 'call_TWXySqInhGiqPln6NIoekqzI', 'type': 'tool_call'}], usage_metadata={'input_tokens': 115, 'output_tokens': 26, 'total_tokens': 141, 'input_token_details': {'audio': 0, 'cache_read': 0}, 'output_token_details': {'audio': 0, 'reasoning': 0}}),\n",
      " ToolMessage(content='[{\"title\": \"Amazon Bedrock과 LangGraph로 Multi Agent 시스템 구현하기 - AWS\", \"url\": \"https://aws.amazon.com/ko/blogs/tech/build-multi-agent-systems-with-langgraph-and-amazon-bedrock/\", \"content\": \"LangGraph와 Amazon Bedrock의 통합은 정교한 AI 애플리케이션을 위한 강력한 프레임워크를 제공함으로써 Multi Agent 시스템 개발을 크게 발전시킵니다. 이 조합은 LangGraph의 오케스트레이션 기능과 Amazon Bedrock의 FM을 활용하여 확장 가능하고 효율적인 시스템을 만듭니다. 상태 관리, Agent 조정 및 워크플로우 오케스트레이션을 통해 Multi Agent 아키텍처의 문제를 해결하며, 메모리 관리, 오류 처리 및 인간 참여(human-in-the-loop) 기능과 같은 특징을 제공합니다. LangGraph Studio의 시각화 및 디버깅 도구는 복잡한 Agent 상호작용의 효율적인 설계와 유지 관리를 가능하게 합니다. 이 통합은 차세대 Multi Agent 시스템을 위한 강력한 기반을 제공하며, 효과적인 워크플로우 처리, 컨텍스트 유지, 신뢰할 수 있는 결과 및 최적의 리소스 활용을 가능하게 합니다. [...] 메모리(Memory) – LangGraph는 애플리케이션 상태의 임의 측면을 유지하여 사용자 상호작용 내부 및 상호작용 간의 대화 기억과 기타 업데이트를 지원합니다.\\\\n   인간 참여(Human-in-the-loop) – 상태가 체크포인트되기 때문에 실행을 중단하고 재개할 수 있어 인간 입력을 통해 주요 단계에서 결정, 검증 및 수정이 가능합니다.\\\\n\\\\nLangGraph Studio는 AI Agent 개발을 위해 특별히 설계된 통합 개발 환경(IDE)입니다. 개발자에게 시각화, 실시간 상호작용 및 디버깅 기능을 위한 강력한 도구를 제공합니다. LangGraph Studio의 주요 기능은 다음과 같습니다: [...] LangGraph는 Multi Agent 오케스트레이션을 위해 상태 머신(state machine)과 방향성 그래프를 구현합니다. 이 프레임워크는 Agent 애플리케이션의 흐름과 상태 모두에 대한 세밀한 제어를 제공합니다. LangGraph는 Agent 워크플로우를 그래프로 모델링합니다. 다음 세 가지 핵심 구성요소를 사용하여 Agent의 동작을 정의할 수 있습니다:\\\\n\\\\n   상태(State) – 애플리케이션의 현재 스냅샷을 나타내는 공유 데이터 구조입니다.\\\\n   노드(Nodes) – 에이전트의 로직을 인코딩하는 Python 함수입니다.\\\\n   엣지(Edges) – 현재 상태를 기반으로 다음에 실행할 노드를 결정하는 Python 함수입니다. 조건부 분기 또는 고정된 전환일 수 있습니다.\\\\n\\\\nLangGraph는 중앙 지속성 계층(persistence layer)를 구현하여 대부분의 Agent 아키텍처에 공통적인 기능을 가능하게 합니다. 여기에는 다음이 포함됩니다:\", \"score\": 0.8482825}, {\"title\": \"Generative AI on Vertex AI - LangGraph 에이전트 사용 - Google Cloud\", \"url\": \"https://cloud.google.com/vertex-ai/generative-ai/docs/agent-engine/use/langgraph?hl=ko\", \"content\": \"LangGraph 에이전트 개발: LanggraphAgent 인스턴스로 agent 를 개발합니다. 사용자 인증: 에이전트 쿼리를 위해 사용자로 인증을 수행합니다. 지원되는 작업.\", \"score\": 0.79883134}]', name='tavily_search_results_json', id='cb7c4ea8-c947-4d7e-bdb6-f0d906b3d97b', tool_call_id='call_TWXySqInhGiqPln6NIoekqzI', artifact={'query': 'LangGraph AI 에이전트 개발 특징', 'follow_up_questions': None, 'answer': None, 'images': [], 'results': [{'url': 'https://aws.amazon.com/ko/blogs/tech/build-multi-agent-systems-with-langgraph-and-amazon-bedrock/', 'title': 'Amazon Bedrock과 LangGraph로 Multi Agent 시스템 구현하기 - AWS', 'content': 'LangGraph와 Amazon Bedrock의 통합은 정교한 AI 애플리케이션을 위한 강력한 프레임워크를 제공함으로써 Multi Agent 시스템 개발을 크게 발전시킵니다. 이 조합은 LangGraph의 오케스트레이션 기능과 Amazon Bedrock의 FM을 활용하여 확장 가능하고 효율적인 시스템을 만듭니다. 상태 관리, Agent 조정 및 워크플로우 오케스트레이션을 통해 Multi Agent 아키텍처의 문제를 해결하며, 메모리 관리, 오류 처리 및 인간 참여(human-in-the-loop) 기능과 같은 특징을 제공합니다. LangGraph Studio의 시각화 및 디버깅 도구는 복잡한 Agent 상호작용의 효율적인 설계와 유지 관리를 가능하게 합니다. 이 통합은 차세대 Multi Agent 시스템을 위한 강력한 기반을 제공하며, 효과적인 워크플로우 처리, 컨텍스트 유지, 신뢰할 수 있는 결과 및 최적의 리소스 활용을 가능하게 합니다. [...] 메모리(Memory) – LangGraph는 애플리케이션 상태의 임의 측면을 유지하여 사용자 상호작용 내부 및 상호작용 간의 대화 기억과 기타 업데이트를 지원합니다.\\n   인간 참여(Human-in-the-loop) – 상태가 체크포인트되기 때문에 실행을 중단하고 재개할 수 있어 인간 입력을 통해 주요 단계에서 결정, 검증 및 수정이 가능합니다.\\n\\nLangGraph Studio는 AI Agent 개발을 위해 특별히 설계된 통합 개발 환경(IDE)입니다. 개발자에게 시각화, 실시간 상호작용 및 디버깅 기능을 위한 강력한 도구를 제공합니다. LangGraph Studio의 주요 기능은 다음과 같습니다: [...] LangGraph는 Multi Agent 오케스트레이션을 위해 상태 머신(state machine)과 방향성 그래프를 구현합니다. 이 프레임워크는 Agent 애플리케이션의 흐름과 상태 모두에 대한 세밀한 제어를 제공합니다. LangGraph는 Agent 워크플로우를 그래프로 모델링합니다. 다음 세 가지 핵심 구성요소를 사용하여 Agent의 동작을 정의할 수 있습니다:\\n\\n   상태(State) – 애플리케이션의 현재 스냅샷을 나타내는 공유 데이터 구조입니다.\\n   노드(Nodes) – 에이전트의 로직을 인코딩하는 Python 함수입니다.\\n   엣지(Edges) – 현재 상태를 기반으로 다음에 실행할 노드를 결정하는 Python 함수입니다. 조건부 분기 또는 고정된 전환일 수 있습니다.\\n\\nLangGraph는 중앙 지속성 계층(persistence layer)를 구현하여 대부분의 Agent 아키텍처에 공통적인 기능을 가능하게 합니다. 여기에는 다음이 포함됩니다:', 'score': 0.8482825, 'raw_content': None}, {'url': 'https://cloud.google.com/vertex-ai/generative-ai/docs/agent-engine/use/langgraph?hl=ko', 'title': 'Generative AI on Vertex AI - LangGraph 에이전트 사용 - Google Cloud', 'content': 'LangGraph 에이전트 개발: LanggraphAgent 인스턴스로 agent 를 개발합니다. 사용자 인증: 에이전트 쿼리를 위해 사용자로 인증을 수행합니다. 지원되는 작업.', 'score': 0.79883134, 'raw_content': None}], 'response_time': 1.61}),\n",
      " AIMessage(content='LangGraph는 AI 에이전트 개발을 위한 강력한 프레임워크로 여러 특징을 가지고 있습니다:\\n\\n1. **Multi Agent 시스템**: LangGraph는 Amazon Bedrock과의 통합을 통해 정교한 AI 애플리케이션을 구성할 수 있는 Multi Agent 시스템 개발에 최적화되어 있습니다. 이 시스템은 에이전트 간의 오케스트레이션, 상태 관리, 오류 처리, 그리고 인간의 개입(human-in-the-loop) 기능을 지원합니다.\\n\\n2. **상태 관리**: LangGraph는 애플리케이션의 상태를 유지하여 사용자 간의 상호작용 및 이전 상호작용의 대화 기억을 지원합니다. 상태 체크포인트를 통해 실행 중에 중단하고 재개하는 것이 가능하여, 인간의 입력을 통해 중요한 결정이나 수정을 수행할 수 있습니다.\\n\\n3. **LangGraph Studio**: 이 통합 개발 환경(IDE)은 AI 에이전트 개발을 위해 특별히 설계되어, 시각화, 라이브 상호작용, 디버깅 기능 등을 제공합니다. 복잡한 에이전트 간의 상호작용을 효율적으로 설계하고 유지할 수 있게 해줍니다.\\n\\n4. **오케스트레이션 아키텍처**: LangGraph는 상태 머신과 방향성 그래프를 사용하여 에이전트의 동작 및 애플리케이션의 흐름을 세밀하게 제어합니다. 에이전트의 동작은 상태(State), 노드(Nodes), 엣지(Edges)로 구성되며, 이를 통해 로직을 정의하고 결정할 수 있습니다.\\n\\n5. **중앙 지속성 계층**: LangGraph는 대부분의 에이전트 아키텍처에서 필요로 하는 기능을 제공하는 중앙 지속성 계층을 구현하고 있어, 이러한 기능들을 공통적으로 사용할 수 있게 합니다.\\n\\n이런 특성들 덕분에 LangGraph는 AI 에이전트 시스템을 효과적으로 구축하고 관리할 수 있는 강력한 도구로 자리 잡고 있습니다.', additional_kwargs={'refusal': None}, response_metadata={'token_usage': {'completion_tokens': 443, 'prompt_tokens': 930, 'total_tokens': 1373, 'completion_tokens_details': {'accepted_prediction_tokens': 0, 'audio_tokens': 0, 'reasoning_tokens': 0, 'rejected_prediction_tokens': 0}, 'prompt_tokens_details': {'audio_tokens': 0, 'cached_tokens': 0}}, 'model_name': 'gpt-4o-mini-2024-07-18', 'system_fingerprint': 'fp_34a54ae93c', 'id': 'chatcmpl-BnJ9zZr5sLwiEyw0phAoeWVCARu91', 'service_tier': 'default', 'finish_reason': 'stop', 'logprobs': None}, id='run--9cf16ad4-cd5d-45ea-8e16-4fb3ca655d8d-0', usage_metadata={'input_tokens': 930, 'output_tokens': 443, 'total_tokens': 1373, 'input_token_details': {'audio': 0, 'cache_read': 0}, 'output_token_details': {'audio': 0, 'reasoning': 0}}),\n",
      " HumanMessage(content='AI 에이전트 개발을 위한 기술 선택에 대한 전문가의 지원이 필요해요. 지원 요청을 해도 될까요?', additional_kwargs={}, response_metadata={}, id='1d5ad066-c07a-4d9f-a845-1dc992c9c5df'),\n",
      " AIMessage(content='', additional_kwargs={'tool_calls': [{'id': 'call_c3chuAdH7FNjzyJQgssMRlNv', 'function': {'arguments': '{\"query\":\"AI 에이전트 개발을 위한 기술 선택에 대한 전문가 지원 요청\"}', 'name': 'human_assist'}, 'type': 'function'}], 'refusal': None}, response_metadata={'token_usage': {'completion_tokens': 30, 'prompt_tokens': 1408, 'total_tokens': 1438, 'completion_tokens_details': {'accepted_prediction_tokens': 0, 'audio_tokens': 0, 'reasoning_tokens': 0, 'rejected_prediction_tokens': 0}, 'prompt_tokens_details': {'audio_tokens': 0, 'cached_tokens': 1280}}, 'model_name': 'gpt-4o-mini-2024-07-18', 'system_fingerprint': 'fp_34a54ae93c', 'id': 'chatcmpl-BnJA5DaYkIT4ziYNJEO1dYCa8TEHv', 'service_tier': 'default', 'finish_reason': 'tool_calls', 'logprobs': None}, id='run--f5cd467d-386c-41c9-a011-f5224abdcfbc-0', tool_calls=[{'name': 'human_assist', 'args': {'query': 'AI 에이전트 개발을 위한 기술 선택에 대한 전문가 지원 요청'}, 'id': 'call_c3chuAdH7FNjzyJQgssMRlNv', 'type': 'tool_call'}], usage_metadata={'input_tokens': 1408, 'output_tokens': 30, 'total_tokens': 1438, 'input_token_details': {'audio': 0, 'cache_read': 1280}, 'output_token_details': {'audio': 0, 'reasoning': 0}}),\n",
      " ToolMessage(content='네, 물론입니다. AI 에이전트 개발을 위한 기술 선택에 대한 지원을 해드리겠습니다. 우선 LangGraph를 사용하는 것에 대해 어떻게 생각하시나요? LangGraph는 AI 에이전트를 개발하는 데 매우 유용한 도구입니다. ', name='human_assist', id='ff20ce04-5d6e-4071-9653-432db6718f71', tool_call_id='call_c3chuAdH7FNjzyJQgssMRlNv'),\n",
      " AIMessage(content='네, AI 에이전트 개발을 위한 기술 선택에 대한 지원을 요청하셔도 좋습니다. LangGraph는 AI 에이전트 개발에 매우 유용한 도구로, 위에서 언급한 다양한 특징들이 이를 뒷받침합니다. \\n\\n여기에 더해, 전문적인 지원을 받으려면 프로젝트의 요구사항이나 목표에 대한 정보를 제공해 주시면 더욱 맞춤형 조언을 드릴 수 있습니다. 어떤 기술이나 플랫폼에 관심이 있으신지, 또는 특정한 문제를 해결하고자 하는 부분이 있는지 알려주시면 좋겠습니다.', additional_kwargs={'refusal': None}, response_metadata={'token_usage': {'completion_tokens': 127, 'prompt_tokens': 1505, 'total_tokens': 1632, 'completion_tokens_details': {'accepted_prediction_tokens': 0, 'audio_tokens': 0, 'reasoning_tokens': 0, 'rejected_prediction_tokens': 0}, 'prompt_tokens_details': {'audio_tokens': 0, 'cached_tokens': 1408}}, 'model_name': 'gpt-4o-mini-2024-07-18', 'system_fingerprint': 'fp_34a54ae93c', 'id': 'chatcmpl-BnJA6b39rSCVyvx7DMIHJGpAxrRqk', 'service_tier': 'default', 'finish_reason': 'stop', 'logprobs': None}, id='run--6422db0e-6b8b-4edc-88e0-b1bec5a02af5-0', usage_metadata={'input_tokens': 1505, 'output_tokens': 127, 'total_tokens': 1632, 'input_token_details': {'audio': 0, 'cache_read': 1408}, 'output_token_details': {'audio': 0, 'reasoning': 0}}),\n",
      " HumanMessage(content='앞서 추천해주신 기술의 시장성은 어떤가요?', additional_kwargs={}, response_metadata={}, id='520dcdc6-808a-4619-bf43-9d413a692f4d'),\n",
      " AIMessage(content='', additional_kwargs={'tool_calls': [{'id': 'call_zYsGZtWumVVZZKJtwEiLAJYH', 'function': {'arguments': '{\"query\":\"LangGraph 시장성 AI 에이전트 개발\"}', 'name': 'tavily_search_results_json'}, 'type': 'function'}], 'refusal': None}, response_metadata={'token_usage': {'completion_tokens': 27, 'prompt_tokens': 1654, 'total_tokens': 1681, 'completion_tokens_details': {'accepted_prediction_tokens': 0, 'audio_tokens': 0, 'reasoning_tokens': 0, 'rejected_prediction_tokens': 0}, 'prompt_tokens_details': {'audio_tokens': 0, 'cached_tokens': 1536}}, 'model_name': 'gpt-4o-mini-2024-07-18', 'system_fingerprint': 'fp_34a54ae93c', 'id': 'chatcmpl-BnJA9WVivrEcYPPbmciNX4zHcBj7s', 'service_tier': 'default', 'finish_reason': 'tool_calls', 'logprobs': None}, id='run--5e26aaac-6110-40f1-a94f-a61f89d96a35-0', tool_calls=[{'name': 'tavily_search_results_json', 'args': {'query': 'LangGraph 시장성 AI 에이전트 개발'}, 'id': 'call_zYsGZtWumVVZZKJtwEiLAJYH', 'type': 'tool_call'}], usage_metadata={'input_tokens': 1654, 'output_tokens': 27, 'total_tokens': 1681, 'input_token_details': {'audio': 0, 'cache_read': 1536}, 'output_token_details': {'audio': 0, 'reasoning': 0}}),\n",
      " ToolMessage(content='[{\"title\": \"[전자책] Langgraph를 이용한 나만의 AI Agent 만들기 - 예스24\", \"url\": \"https://m.yes24.com/goods/detail/142173681\", \"content\": \"| 『Langgraph를 이용한 나만의 AI Agent 만들기』는 AI 에이전트 구축 전 과정을 폭넓게 다루어, 독자가 실무에서 당장 적용할 수 있는 노하우를 체계적으로 정리한 책입니다. AI 에이전트의 기본 개념과 유형부터, LLM(대규모 언어 모델) 기술을 접목한 고급 에이전트 설계, LangGraph 플랫폼의 세부 기능 및 배포 전략까지 단계적으로 학습할 수 있습니다. 특히, 메모리 관리나 액추에이터(Tool Node) 활용, Logic Node를 통한 조건 분기 등 에이전트 작동 원리를 구체적으로 보여 주어, 복잡해 보이는 AI 에이전트를 한층 쉽게 이해할 수 있도록 돕습니다.  더 나아가 멀티에이전트 구조, Streamlit을 통한 간편 배포, Langsmith와 연계한 모니터링 및 최적화 기법도 소개되어 있어, AI 에이전트를 보다 강력하고 유연하게 개발할 수 있습니다. 각 장의 예제 코드와 실습 자료는 GitHub 저장소(  )에 공개되어 있으므로, 실제 코드를 직접 [...] 실행해 보면서 학습 효과를 극대화할 수 있습니다.  이 책을 통해 독자 여러분은 대규모 언어 모델 기반의 지능형 에이전트를 구현하고, 이를 자신의 비즈니스 또는 연구 환경에 적용하는 데 필요한 실질적 역량을 확실히 갖추게 될 것입니다. | [...] |  |\\\\n| --- |\", \"score\": 0.80771893}, {\"title\": \"비즈니스 자동화 AI 에이전트의 새로운 시대: LangGraph와 MCP의 ...\", \"url\": \"https://www.yes24.com/product/goods/145238944\", \"content\": \"LangGraph와 MCP의 조합은 차세대 AI 에이전트 개발의 기술적 전환점으로, 비즈니스 프로세스 자동화 분야에 새로운 시대를 열고 있습니다. 이 책 『\", \"score\": 0.7742597}]', name='tavily_search_results_json', id='46f2ba18-e030-4030-be85-19fe0f1cf939', tool_call_id='call_zYsGZtWumVVZZKJtwEiLAJYH', artifact={'query': 'LangGraph 시장성 AI 에이전트 개발', 'follow_up_questions': None, 'answer': None, 'images': [], 'results': [{'url': 'https://m.yes24.com/goods/detail/142173681', 'title': '[전자책] Langgraph를 이용한 나만의 AI Agent 만들기 - 예스24', 'content': '| 『Langgraph를 이용한 나만의 AI Agent 만들기』는 AI 에이전트 구축 전 과정을 폭넓게 다루어, 독자가 실무에서 당장 적용할 수 있는 노하우를 체계적으로 정리한 책입니다. AI 에이전트의 기본 개념과 유형부터, LLM(대규모 언어 모델) 기술을 접목한 고급 에이전트 설계, LangGraph 플랫폼의 세부 기능 및 배포 전략까지 단계적으로 학습할 수 있습니다. 특히, 메모리 관리나 액추에이터(Tool Node) 활용, Logic Node를 통한 조건 분기 등 에이전트 작동 원리를 구체적으로 보여 주어, 복잡해 보이는 AI 에이전트를 한층 쉽게 이해할 수 있도록 돕습니다.  더 나아가 멀티에이전트 구조, Streamlit을 통한 간편 배포, Langsmith와 연계한 모니터링 및 최적화 기법도 소개되어 있어, AI 에이전트를 보다 강력하고 유연하게 개발할 수 있습니다. 각 장의 예제 코드와 실습 자료는 GitHub 저장소(  )에 공개되어 있으므로, 실제 코드를 직접 [...] 실행해 보면서 학습 효과를 극대화할 수 있습니다.  이 책을 통해 독자 여러분은 대규모 언어 모델 기반의 지능형 에이전트를 구현하고, 이를 자신의 비즈니스 또는 연구 환경에 적용하는 데 필요한 실질적 역량을 확실히 갖추게 될 것입니다. | [...] |  |\\n| --- |', 'score': 0.80771893, 'raw_content': None}, {'url': 'https://www.yes24.com/product/goods/145238944', 'title': '비즈니스 자동화 AI 에이전트의 새로운 시대: LangGraph와 MCP의 ...', 'content': 'LangGraph와 MCP의 조합은 차세대 AI 에이전트 개발의 기술적 전환점으로, 비즈니스 프로세스 자동화 분야에 새로운 시대를 열고 있습니다. 이 책 『', 'score': 0.7742597, 'raw_content': None}], 'response_time': 3.95}),\n",
      " AIMessage(content='LangGraph의 시장성은 다음과 같은 여러 측면에서 강점을 보이고 있습니다:\\n\\n1. **비즈니스 자동화 수요 증가**: LangGraph는 비즈니스 프로세스를 자동화하는 데 특히 유용한 도구로, AI 에이전트 개발에 필요한 다양한 기능을 제공합니다. 이는 기업들이 효율성을 극대화하고 비용을 절감하는 데 기여할 수 있어, 시장에서의 수요가 높습니다.\\n\\n2. **유연한 개발 플랫폼**: LangGraph는 대규모 언어 모델(LLM) 기술을 접목하여 고급 에이전트 설계가 가능하며, 이를 통해 다양한 산업군에서 활용될 수 있는 유연성을 가지고 있습니다. 멀티에이전트 구조와 복잡한 로직을 지원하기 때문에 복잡한 비즈니스 환경에서도 적응력이 뛰어난 솔루션을 제공합니다.\\n\\n3. **확장성**: LangGraph는 상태 관리, 메모리 기능 등 다수의 기본 기능을 제공함으로써 확장 가능성이 뛰어납니다. 이는 에이전트가 시간이 지남에 따라 학습하고 발전할 수 있는 기반을 마련해 줍니다.\\n\\n4. **지속적인 교육 및 자원 제공**: LangGraph에 대한 교육 자료와 GitHub와 같은 플랫폼을 통한 실습 자료는 사용자들에게 실질적인 도움이 됩니다. 이러한 자료는 개인이나 기업이 LangGraph를 효과적으로 활용할 수 있도록 돕고, 시장에서의 수요를 더욱 촉진시킬 수 있습니다.\\n\\n5. **기술적 혁신**: LangGraph와 MCP 같은 기술의 조합은 AI 에이전트 개발의 새로운 패러다임을 제시하고 있으며, 이는 비즈니스 자동화의 새로운 시대를 여는 결과를 가져올 가능성이 높습니다.\\n\\n이러한 요소들이 결합되어 LangGraph는 AI 에이전트 개발 분야에서 상당한 시장성을 지니고 있으며, 기업과 개발자들이 이를 활용하여 효과적으로 비즈니스 솔루션을 구축하는 데 큰 기여를 할 것으로 예상됩니다.', additional_kwargs={'refusal': None}, response_metadata={'token_usage': {'completion_tokens': 444, 'prompt_tokens': 2199, 'total_tokens': 2643, 'completion_tokens_details': {'accepted_prediction_tokens': 0, 'audio_tokens': 0, 'reasoning_tokens': 0, 'rejected_prediction_tokens': 0}, 'prompt_tokens_details': {'audio_tokens': 0, 'cached_tokens': 0}}, 'model_name': 'gpt-4o-mini-2024-07-18', 'system_fingerprint': 'fp_34a54ae93c', 'id': 'chatcmpl-BnJAEFm7RnWDgoeJib7hNdHT9gzBP', 'service_tier': 'default', 'finish_reason': 'stop', 'logprobs': None}, id='run--2e93e00d-588b-4567-9bf5-d4e79ad0a7fb-0', usage_metadata={'input_tokens': 2199, 'output_tokens': 444, 'total_tokens': 2643, 'input_token_details': {'audio': 0, 'cache_read': 0}, 'output_token_details': {'audio': 0, 'reasoning': 0}}),\n",
      " HumanMessage(content='LangGraph의 메모리 기능 추가에 대한 전문가의 지원이 필요해요.', additional_kwargs={}, response_metadata={}, id='500053c5-31ae-44ea-9fba-42cc079d2c95'),\n",
      " AIMessage(content='', additional_kwargs={'tool_calls': [{'id': 'call_SPogbVWvPh5Ti2tdESPCJgkN', 'function': {'arguments': '{\"query\":\"LangGraph의 메모리 기능 추가에 대한 전문가 지원 요청\"}', 'name': 'human_assist'}, 'type': 'function'}], 'refusal': None}, response_metadata={'token_usage': {'completion_tokens': 28, 'prompt_tokens': 2668, 'total_tokens': 2696, 'completion_tokens_details': {'accepted_prediction_tokens': 0, 'audio_tokens': 0, 'reasoning_tokens': 0, 'rejected_prediction_tokens': 0}, 'prompt_tokens_details': {'audio_tokens': 0, 'cached_tokens': 2560}}, 'model_name': 'gpt-4o-mini-2024-07-18', 'system_fingerprint': 'fp_34a54ae93c', 'id': 'chatcmpl-BnJANakXqEPnZ6rpDZZf84yZSbjOd', 'service_tier': 'default', 'finish_reason': 'tool_calls', 'logprobs': None}, id='run--cda17f39-89e4-42db-9d0a-fea75e21560b-0', tool_calls=[{'name': 'human_assist', 'args': {'query': 'LangGraph의 메모리 기능 추가에 대한 전문가 지원 요청'}, 'id': 'call_SPogbVWvPh5Ti2tdESPCJgkN', 'type': 'tool_call'}], usage_metadata={'input_tokens': 2668, 'output_tokens': 28, 'total_tokens': 2696, 'input_token_details': {'audio': 0, 'cache_read': 2560}, 'output_token_details': {'audio': 0, 'reasoning': 0}}),\n",
      " ToolMessage(content='MemorySaver는 메모리 기반의 체크포인터로, 각 대화의 상태를 메모리에 임시로 저장하고 관리합니다. 이를 통해 챗봇은 이전 대화 내용을 기억하고 다음 번 상호작용 시에도 맥락을 유지한 상태로 대화를 진행할 수 있습니다. 실제 운영 환경에서는 더 영구적인 상태 관리를 위해 데이터베이스 기반 체크포인터(예: SqliteSaver 또는 PostgresSaver)를 사용하는 것이 권장됩니다.', name='human_assist', id='65d24d94-0ee3-4d5d-b59f-3a8020fac0a6', tool_call_id='call_SPogbVWvPh5Ti2tdESPCJgkN'),\n",
      " AIMessage(content='LangGraph의 메모리 기능 추가에 대한 지원을 요청하셨군요. 메모리 기능은 AI 에이전트가 이전 대화 내용을 기억하고 다음 상호작용 시에도 맥락을 유지할 수 있게 도와주는 중요한 요소입니다.\\n\\n1. **MemorySaver 사용**: LangGraph에서는 기본적으로 MemorySaver를 사용할 수 있습니다. 이 기능은 메모리 기반의 체크포인터로, 각 대화의 상태를 임시로 저장하고 관리하여 챗봇이 이전 대화 내용을 기억할 수 있도록 합니다.\\n\\n2. **영구적인 상태 관리**: 실제 운영 환경에서는 보다 영구적인 상태 관리를 위해 데이터베이스 기반의 체크포인터를 사용하는 것이 권장됩니다. 예를 들어, SqliteSaver 또는 PostgresSaver와 같은 옵션을 통해 데이터를 지속적으로 저장하고 관리할 수 있습니다.\\n\\n3. **상태 관리의 중요성**: 메모리 기능을 효과적으로 활용하면 에이전트의 성능을 크게 향상시킬 수 있습니다. 이전 대화의 맥락을 기억함으로써 사용자에게 더 맞춤형 응답을 제공하고, 사용자가 느끼는 연속성과 일관성을 증가시킬 수 있습니다.\\n\\n4. **테스트 및 검증**: 개발 과정에서 메모리 기능을 추가한 후에는 충분한 테스트를 통해 기능의 작동 여부와 안정성을 확인하는 것이 중요합니다. 대화의 맥락 유지가 올바르게 이루어지는지를 검증해야 합니다.\\n\\n이러한 정보를 바탕으로 LangGraph의 메모리 기능을 효과적으로 추가할 수 있을 것입니다. 추가적인 질문이나 특정 구현에 대한 궁금증이 있다면 언제든지 말씀해 주세요!', additional_kwargs={'refusal': None}, response_metadata={'token_usage': {'completion_tokens': 363, 'prompt_tokens': 2807, 'total_tokens': 3170, 'completion_tokens_details': {'accepted_prediction_tokens': 0, 'audio_tokens': 0, 'reasoning_tokens': 0, 'rejected_prediction_tokens': 0}, 'prompt_tokens_details': {'audio_tokens': 0, 'cached_tokens': 2560}}, 'model_name': 'gpt-4o-mini-2024-07-18', 'system_fingerprint': 'fp_34a54ae93c', 'id': 'chatcmpl-BnJAOrsgY1iNuykwnsljbVxxyb110', 'service_tier': 'default', 'finish_reason': 'stop', 'logprobs': None}, id='run--eeeafeca-dc88-4e0a-a330-a5602d7aa267-0', usage_metadata={'input_tokens': 2807, 'output_tokens': 363, 'total_tokens': 3170, 'input_token_details': {'audio': 0, 'cache_read': 2560}, 'output_token_details': {'audio': 0, 'reasoning': 0}})]\n",
      "()\n"
     ]
    }
   ],
   "source": [
    "snapshot = graph.get_state(config)\n",
    "pprint(snapshot.values['messages'])\n",
    "print(snapshot.next)"
   ]
  },
  {
   "cell_type": "code",
   "execution_count": 25,
   "id": "69be0839",
   "metadata": {},
   "outputs": [
    {
     "name": "stdout",
     "output_type": "stream",
     "text": [
      "AI 기술의 시장성은 다음과 같은 여러 데이터를 통해 확인할 수 있습니다:\n",
      "\n",
      "1. **AI 산업 성장**: 2024년에는 국내 AI 기업들의 총 매출이 약 6.3조 원에 이를 것으로 예상되며, 이는 2023년에 비해 12.5% 증가한 수치입니다. 특히 AI 응용 소프트웨어와 클라우드 컴퓨팅, AI 컨설팅 등 인프라 지원 서비스가 주요 성장 동력으로 작용하고 있습니다.\n",
      "\n",
      "2. **B2B 시장의 비중**: 고객 유형별 매출 구조를 살펴보면, B2B 매출이 72.9%로 압도적인 비중을 차지하고 있으며, 이는 기업 환경에서 AI 솔루션과 서비스의 도입이 활발히 이루어지고 있다는 것을 보여줍니다.\n",
      "\n",
      "3. **기술 및 장비 수요**: 머신러닝 플랫폼, 추론 엔진 등 핵심 기술 기반 소프트웨어의 수익이 상당하며, AI 특화 하드웨어 부문도 성장 중입니다. 이러한 경향은 AI 코드와 하드웨어의 통합 수요가 증가하고 있음을 의미합니다.\n",
      "\n",
      "4. **생성형 AI의 부상**: 2024년에는 생성형 AI가 급속하게 성장할 것으로 예상되며, 관련 스마트폰 출하량이 363.6% 증가할 것이란 전망도 있습니다. 이는 소비자 시장에서의 AI 기술에 대한 수요가 급증함을 나타냅니다.\n",
      "\n",
      "5. **해외 시장 진출**: AI 제품 및 서비스의 해외 수출도 증가 추세에 있으며, 이는 국내 기업들이 글로벌 시장에서도 기회를 모색해야 함을 시사합니다.\n",
      "\n",
      "종합적으로 봤을 때, LangGraph와 같은 AI 개발 툴을 사용하는 기술들은 이러한 시장 성장의 흐름에 잘 맞아떨어지며, 앞으로의 시장에서 중요한 역할을 할 것으로 기대됩니다. 이러한 기술들은 특히 B2B 환경에서 높은 수요를 가질 가능성이 많습니다.\n"
     ]
    }
   ],
   "source": [
    "user_input5 = \"추천한 기술 시장성은 어떤가요?\"\n",
    "state4 = {\"messages\": [HumanMessage(content=user_input5)]}\n",
    "response4 = graph.invoke(state4, config)\n",
    "print(response4[\"messages\"][-1].content)"
   ]
  },
  {
   "cell_type": "code",
   "execution_count": null,
   "id": "0e6b537a",
   "metadata": {},
   "outputs": [],
   "source": []
  }
 ],
 "metadata": {
  "kernelspec": {
   "display_name": "Python 3",
   "language": "python",
   "name": "python3"
  },
  "language_info": {
   "codemirror_mode": {
    "name": "ipython",
    "version": 3
   },
   "file_extension": ".py",
   "mimetype": "text/x-python",
   "name": "python",
   "nbconvert_exporter": "python",
   "pygments_lexer": "ipython3",
   "version": "3.11.13"
  }
 },
 "nbformat": 4,
 "nbformat_minor": 5
}
