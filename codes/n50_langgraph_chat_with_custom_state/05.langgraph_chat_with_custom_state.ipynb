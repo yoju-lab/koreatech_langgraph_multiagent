{
 "cells": [
  {
   "cell_type": "code",
   "execution_count": 33,
   "id": "c6ad1ab0",
   "metadata": {},
   "outputs": [],
   "source": [
    "from typing import List, Optional\n",
    "from typing_extensions import TypedDict\n",
    "\n",
    "# 장소 정보를 담는 TypedDict 정의\n",
    "class KakaoPlace(TypedDict):\n",
    "    name: str\n",
    "    address: str\n",
    "    url: str"
   ]
  },
  {
   "cell_type": "code",
   "execution_count": null,
   "id": "1de81ba8",
   "metadata": {},
   "outputs": [],
   "source": [
    "from langgraph.graph.message import add_messages\n",
    "from langchain_core.messages import BaseMessage\n",
    "from typing import Annotated\n",
    "\n",
    "# 대화 상태를 담는 TypedDict 정의\n",
    "class State(TypedDict):\n",
    "    '''search_answer 는 extract_keywords 함수에서 추출된 검색어를 담는 필드입니다.'''\n",
    "    messages: Annotated[List[BaseMessage], add_messages]\n",
    "    # search_query: Optional[str]\n",
    "    search_query: Optional[str] \n",
    "    search_answer: Optional[str]\n",
    "    search_results: Optional[List[KakaoPlace]]"
   ]
  },
  {
   "cell_type": "code",
   "execution_count": 35,
   "id": "a398b94b",
   "metadata": {},
   "outputs": [],
   "source": [
    "from langchain_openai import ChatOpenAI\n",
    "import os\n",
    "from dotenv import load_dotenv\n",
    "load_dotenv()\n",
    "llm = ChatOpenAI(model=\"gpt-4o-mini\")"
   ]
  },
  {
   "cell_type": "code",
   "execution_count": 36,
   "id": "d3f4ef9e",
   "metadata": {},
   "outputs": [],
   "source": [
    "from langchain_core.tools import tool\n",
    "from langchain_core.messages import HumanMessage\n",
    "\n",
    "# 키워드 추출 도구 함수 정의\n",
    "@tool\n",
    "def extract_keyword(user_request: str) -> str:\n",
    "    \"\"\"사용자 요청에서 장소 검색을 위한 짧고 명확한 키워드를 추출합니다.\"\"\"\n",
    "    prompt = (\n",
    "        \"다음 요청에서 장소 검색에 사용할 키워드를 한 문장으로 추출해줘.\\n\"\n",
    "        \"- 키워드는 띄어쓰기로 구분된 한 문장이어야 해.\\n\"\n",
    "        \"- 다른 설명은 하지 말고 키워드만 알려줘.\\n\\n\"\n",
    "        f\"요청: '{user_request}'\"\n",
    "    )\n",
    "    response = llm.invoke([HumanMessage(content=prompt)])\n",
    "    keyword = response.content.strip().strip('\"').strip(\"'\")\n",
    "    return keyword"
   ]
  },
  {
   "cell_type": "code",
   "execution_count": 37,
   "id": "95fcc6e7",
   "metadata": {},
   "outputs": [],
   "source": [
    "import requests\n",
    "@tool\n",
    "def kakao_place_search(query: str) -> list[KakaoPlace]:\n",
    "    \"\"\"카카오 장소 검색 API를 사용하여 장소를 검색합니다.\"\"\"\n",
    "    url = \"https://dapi.kakao.com/v2/local/search/keyword.json\"\n",
    "    headers = {\"Authorization\": f\"KakaoAK {os.getenv('KAKAO_API_KEY')}\"}\n",
    "    params = {\"query\": query, \"size\": 5}\n",
    "    response = requests.get(url, headers=headers, params=params)\n",
    "    data = response.json().get(\"documents\", [])\n",
    "    results: list[KakaoPlace] = []\n",
    "    for place in data:\n",
    "        results.append({\n",
    "            \"name\": place.get(\"place_name\", \"\"),\n",
    "            \"address\": place.get(\"address_name\", \"\"),\n",
    "            \"url\": place.get(\"place_url\", \"\")\n",
    "        })\n",
    "    return results"
   ]
  },
  {
   "cell_type": "code",
   "execution_count": 38,
   "id": "ba891d07",
   "metadata": {},
   "outputs": [],
   "source": [
    "from langgraph.graph import StateGraph, START, END\n",
    "from langgraph.prebuilt import ToolNode, tools_condition\n",
    "from langchain_core.messages import HumanMessage, AIMessage, ToolMessage\n",
    "\n",
    "def chatbot_node(state: State):\n",
    "    ai_response = llm_with_tools.invoke(state[\"messages\"])\n",
    "    return {\"messages\": [ai_response]}\n",
    "\n",
    "tools = [extract_keyword, kakao_place_search]\n",
    "llm_with_tools = llm.bind_tools(tools)\n",
    "tool_node = ToolNode(tools)\n",
    "graph_builder = StateGraph(State)\n",
    "graph_builder.add_node(\"chatbot\", chatbot_node)\n",
    "graph_builder.add_node(\"tools\", tool_node)\n",
    "graph_builder.add_conditional_edges(\"chatbot\", tools_condition)\n",
    "graph_builder.add_edge(\"tools\", \"chatbot\")\n",
    "graph_builder.set_entry_point(\"chatbot\")\n",
    "graph = graph_builder.compile()"
   ]
  },
  {
   "cell_type": "code",
   "execution_count": 39,
   "id": "63cd260a",
   "metadata": {},
   "outputs": [
    {
     "data": {
      "image/png": "[encoded data removed]",
      "text/plain": [
       "<IPython.core.display.Image object>"
      ]
     },
     "metadata": {},
     "output_type": "display_data"
    }
   ],
   "source": [
    "from IPython.display import Image, display\n",
    "display(Image(graph.get_graph().draw_mermaid_png()))"
   ]
  },
  {
   "cell_type": "code",
   "execution_count": 40,
   "id": "1e51c991",
   "metadata": {},
   "outputs": [],
   "source": [
    "from langchain_core.messages import HumanMessage\n",
    "# 초기 상태 설정: 사용자 질문 입력\n",
    "initial_state: State = {\n",
    "    \"messages\": [HumanMessage(content=\"대전을 대표하는 빵집은?\")],\n",
    "    \"search_query\": None,\n",
    "    \"search_results\": None\n",
    "}\n",
    "# 그래프 실행하여 결과 얻기\n",
    "final_state = graph.invoke(initial_state)"
   ]
  },
  {
   "cell_type": "code",
   "execution_count": 41,
   "id": "19d7aed5",
   "metadata": {},
   "outputs": [
    {
     "name": "stdout",
     "output_type": "stream",
     "text": [
      "👤 사용자: 대전을 대표하는 빵집은?\n",
      "🤖 챗봇: \n",
      "  ↪ (도구 요청: extract_keyword {'user_request': '대전을 대표하는 빵집은?'})\n",
      "🔧 도구[extract_keyword] 결과: 대전 빵집\n",
      "🤖 챗봇: \n",
      "  ↪ (도구 요청: kakao_place_search {'query': '대전 빵집'})\n",
      "🔧 도구[kakao_place_search] 결과: [{\"name\": \"성심당 본점\", \"address\": \"대전 중구 은행동 145-1\", \"url\": \"http://place.map.kakao.com/17733090\"}, {\"name\": \"성심당 대전역점\", \"address\": \"대전 동구 정동 1-1\", \"url\": \"http://place.map.kakao.com/21537026\"}, {\"name\": \"달달빵집\", \"address\": \"대전 중구 목동 111-12\", \"url\": \"http://place.map.kakao.com/1063471907\"}, {\"name\": \"성심당 롯데백화점 대전점\", \"address\": \"대전 서구 괴정동 423-1\", \"url\": \"http://place.map.kakao.com/1513470800\"}, {\"name\": \"내가만든미케익 대전점\", \"address\": \"대전 중구 은행동 52-10\", \"url\": \"http://place.map.kakao.com/10184597\"}]\n",
      "🤖 챗봇: 대전을 대표하는 빵집으로는 다음과 같은 곳들이 있습니다:\n",
      "\n",
      "1. **성심당 본점**\n",
      "   - 주소: 대전 중구 은행동 145-1\n",
      "   - [지도 보기](http://place.map.kakao.com/17733090)\n",
      "\n",
      "2. **성심당 대전역점**\n",
      "   - 주소: 대전 동구 정동 1-1\n",
      "   - [지도 보기](http://place.map.kakao.com/21537026)\n",
      "\n",
      "3. **달달빵집**\n",
      "   - 주소: 대전 중구 목동 111-12\n",
      "   - [지도 보기](http://place.map.kakao.com/1063471907)\n",
      "\n",
      "4. **성심당 롯데백화점 대전점**\n",
      "   - 주소: 대전 서구 괴정동 423-1\n",
      "   - [지도 보기](http://place.map.kakao.com/1513470800)\n",
      "\n",
      "5. **내가만든미케익 대전점**\n",
      "   - 주소: 대전 중구 은행동 52-10\n",
      "   - [지도 보기](http://place.map.kakao.com/10184597)\n",
      "\n",
      "이곳들 중에서 인기 있는 빵집을 방문해 보세요!\n"
     ]
    }
   ],
   "source": [
    "from langchain_core.messages import AIMessage, ToolMessage\n",
    "for msg in final_state[\"messages\"]:\n",
    "    if isinstance(msg, HumanMessage):\n",
    "        print(\"👤 사용자:\", msg.content)\n",
    "    elif isinstance(msg, AIMessage):\n",
    "        print(\"🤖 챗봇:\", msg.content)\n",
    "        if msg.tool_calls:\n",
    "            for call in msg.tool_calls:\n",
    "                print(f\"  ↪ (도구 요청: {call['name']} {call['args']})\")\n",
    "    elif isinstance(msg, ToolMessage):\n",
    "        print(f\"🔧 도구[{msg.name}] 결과:\", msg.content)"
   ]
  },
  {
   "cell_type": "code",
   "execution_count": 42,
   "id": "ab34e9a5",
   "metadata": {},
   "outputs": [
    {
     "name": "stdout",
     "output_type": "stream",
     "text": [
      "👤 사용자: 서울에서 애견동반 가능한 카페 알려줘\n",
      "🤖 챗봇: \n",
      "  ↪ (도구 요청: extract_keyword {'user_request': '서울에서 애견동반 가능한 카페 알려줘'})\n",
      "🔧 도구[extract_keyword] 결과: 서울 애견동반 카페\n",
      "🤖 챗봇: \n",
      "  ↪ (도구 요청: kakao_place_search {'query': '서울 애견동반 카페'})\n",
      "🔧 도구[kakao_place_search] 결과: [{\"name\": \"프리츠 도화점\", \"address\": \"서울 마포구 도화동 179-9\", \"url\": \"http://place.map.kakao.com/24529429\"}, {\"name\": \"꽁티드툴레아 도산점\", \"address\": \"서울 강남구 신사동 646-21\", \"url\": \"http://place.map.kakao.com/179244712\"}, {\"name\": \"마일스톤커피\", \"address\": \"서울 강남구 신사동 554-4\", \"url\": \"http://place.map.kakao.com/22549791\"}, {\"name\": \"앤트러사이트 한남점\", \"address\": \"서울 용산구 한남동 683-142\", \"url\": \"http://place.map.kakao.com/27344582\"}, {\"name\": \"카페1953위드오드리\", \"address\": \"서울 영등포구 문래동2가 34-10\", \"url\": \"http://place.map.kakao.com/339122660\"}]\n",
      "🤖 챗봇: 서울에서 애견동반 가능한 카페 몇 곳을 소개합니다:\n",
      "\n",
      "1. [프리츠 도화점](http://place.map.kakao.com/24529429)\n",
      "   - 주소: 서울 마포구 도화동 179-9\n",
      "\n",
      "2. [꽁티드툴레아 도산점](http://place.map.kakao.com/179244712)\n",
      "   - 주소: 서울 강남구 신사동 646-21\n",
      "\n",
      "3. [마일스톤커피](http://place.map.kakao.com/22549791)\n",
      "   - 주소: 서울 강남구 신사동 554-4\n",
      "\n",
      "4. [앤트러사이트 한남점](http://place.map.kakao.com/27344582)\n",
      "   - 주소: 서울 용산구 한남동 683-142\n",
      "\n",
      "5. [카페1953위드오드리](http://place.map.kakao.com/339122660)\n",
      "   - 주소: 서울 영등포구 문래동2가 34-10\n",
      "\n",
      "즐거운 시간 되세요!\n"
     ]
    }
   ],
   "source": [
    "# 추가 테스트 예시\n",
    "initial_state[\"messages\"] = [HumanMessage(content=\"서울에서 애견동반 가능한 카페 알려줘\")]\n",
    "final_state = graph.invoke(initial_state)\n",
    "for msg in final_state[\"messages\"]:\n",
    "    if isinstance(msg, HumanMessage):\n",
    "        print(\"👤 사용자:\", msg.content)\n",
    "    elif isinstance(msg, AIMessage):\n",
    "        print(\"🤖 챗봇:\", msg.content)\n",
    "        if msg.tool_calls:\n",
    "            for call in msg.tool_calls:\n",
    "                print(f\"  ↪ (도구 요청: {call['name']} {call['args']})\")\n",
    "    elif isinstance(msg, ToolMessage):\n",
    "        print(f\"🔧 도구[{msg.name}] 결과:\", msg.content)"
   ]
  }
 ],
 "metadata": {
  "kernelspec": {
   "display_name": "Python 3",
   "language": "python",
   "name": "python3"
  },
  "language_info": {
   "codemirror_mode": {
    "name": "ipython",
    "version": 3
   },
   "file_extension": ".py",
   "mimetype": "text/x-python",
   "name": "python",
   "nbconvert_exporter": "python",
   "pygments_lexer": "ipython3",
   "version": "3.11.13"
  }
 },
 "nbformat": 4,
 "nbformat_minor": 5
}
