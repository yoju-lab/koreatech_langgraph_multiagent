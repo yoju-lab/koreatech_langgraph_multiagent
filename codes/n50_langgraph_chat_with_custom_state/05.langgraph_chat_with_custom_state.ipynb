{
 "cells": [
  {
   "cell_type": "code",
   "execution_count": null,
   "id": "c6ad1ab0",
   "metadata": {},
   "outputs": [],
   "source": [
    "from typing import List, Optional\n",
    "from typing_extensions import TypedDict\n",
    "\n",
    "# 장소 정보를 담는 TypedDict 정의\n",
    "class KakaoPlace(TypedDict):\n",
    "    name: str\n",
    "    address: str\n",
    "    url: str\n",
    "\n",
    "# 대화 상태를 담는 TypedDict 정의\n",
    "class State(TypedDict):\n",
    "    messages: List  # 실제 타입은 아래에서 Annotated를 통해 정의 예정\n",
    "    search_query: Optional[str]\n",
    "    search_results: Optional[List[KakaoPlace]]"
   ]
  },
  {
   "cell_type": "code",
   "execution_count": null,
   "id": "1de81ba8",
   "metadata": {},
   "outputs": [],
   "source": [
    "from langgraph.graph.message import add_messages\n",
    "from langchain_core.messages import BaseMessage\n",
    "from typing import Annotated\n",
    "class State(TypedDict):\n",
    "    messages: Annotated[List[BaseMessage], add_messages]\n",
    "    search_query: Optional[str]\n",
    "    search_results: Optional[List[KakaoPlace]]"
   ]
  },
  {
   "cell_type": "code",
   "execution_count": null,
   "id": "a398b94b",
   "metadata": {},
   "outputs": [],
   "source": [
    "from langchain_openai import ChatOpenAI\n",
    "import os\n",
    "from dotenv import load_dotenv\n",
    "load_dotenv()\n",
    "llm = ChatOpenAI(model=\"gpt-4o-mini\")"
   ]
  },
  {
   "cell_type": "code",
   "execution_count": null,
   "id": "d3f4ef9e",
   "metadata": {},
   "outputs": [],
   "source": [
    "from langchain_core.tools import tool\n",
    "from langchain_core.messages import HumanMessage\n",
    "\n",
    "# 키워드 추출 도구 함수 정의\n",
    "@tool\n",
    "def extract_keyword(user_request: str) -> str:\n",
    "    \"\"\"사용자 요청에서 장소 검색을 위한 짧고 명확한 키워드를 추출합니다.\"\"\"\n",
    "    prompt = (\n",
    "        \"다음 요청에서 장소 검색에 사용할 키워드를 한 문장으로 추출해줘.\\n\"\n",
    "        \"- 키워드는 띄어쓰기로 구분된 한 문장이어야 해.\\n\"\n",
    "        \"- 다른 설명은 하지 말고 키워드만 알려줘.\\n\\n\"\n",
    "        f\"요청: '{user_request}'\"\n",
    "    )\n",
    "    response = llm.invoke([HumanMessage(content=prompt)])\n",
    "    keyword = response.content.strip().strip('\"').strip(\"'\")\n",
    "    return keyword"
   ]
  },
  {
   "cell_type": "code",
   "execution_count": null,
   "id": "95fcc6e7",
   "metadata": {},
   "outputs": [],
   "source": [
    "import requests\n",
    "@tool\n",
    "def kakao_place_search(query: str) -> list[KakaoPlace]:\n",
    "    \"\"\"카카오 장소 검색 API를 사용하여 장소를 검색합니다.\"\"\"\n",
    "    url = \"https://dapi.kakao.com/v2/local/search/keyword.json\"\n",
    "    headers = {\"Authorization\": f\"KakaoAK {os.getenv('KAKAO_API_KEY')}\"}\n",
    "    params = {\"query\": query, \"size\": 5}\n",
    "    response = requests.get(url, headers=headers, params=params)\n",
    "    data = response.json().get(\"documents\", [])\n",
    "    results: list[KakaoPlace] = []\n",
    "    for place in data:\n",
    "        results.append({\n",
    "            \"name\": place.get(\"place_name\", \"\"),\n",
    "            \"address\": place.get(\"address_name\", \"\"),\n",
    "            \"url\": place.get(\"place_url\", \"\")\n",
    "        })\n",
    "    return results"
   ]
  },
  {
   "cell_type": "code",
   "execution_count": null,
   "id": "ba891d07",
   "metadata": {},
   "outputs": [],
   "source": [
    "from langgraph.graph import StateGraph, START, END\n",
    "from langgraph.prebuilt import ToolNode, tools_condition\n",
    "from langchain_core.messages import HumanMessage, AIMessage, ToolMessage\n",
    "\n",
    "def chatbot_node(state: State):\n",
    "    ai_response = llm_with_tools.invoke(state[\"messages\"])\n",
    "    return {\"messages\": [ai_response]}\n",
    "\n",
    "tools = [extract_keyword, kakao_place_search]\n",
    "llm_with_tools = llm.bind_tools(tools)\n",
    "tool_node = ToolNode(tools)\n",
    "graph_builder = StateGraph(State)\n",
    "graph_builder.add_node(\"chatbot\", chatbot_node)\n",
    "graph_builder.add_node(\"tools\", tool_node)\n",
    "graph_builder.add_conditional_edges(\"chatbot\", tools_condition)\n",
    "graph_builder.add_edge(\"tools\", \"chatbot\")\n",
    "graph_builder.set_entry_point(\"chatbot\")\n",
    "graph = graph_builder.compile()"
   ]
  },
  {
   "cell_type": "code",
   "execution_count": null,
   "id": "1e51c991",
   "metadata": {},
   "outputs": [],
   "source": [
    "from langchain_core.messages import HumanMessage\n",
    "# 초기 상태 설정: 사용자 질문 입력\n",
    "initial_state: State = {\n",
    "    \"messages\": [HumanMessage(content=\"대전을 대표하는 빵집은?\")],\n",
    "    \"search_query\": None,\n",
    "    \"search_results\": None\n",
    "}\n",
    "# 그래프 실행하여 결과 얻기\n",
    "final_state = graph.invoke(initial_state)"
   ]
  },
  {
   "cell_type": "code",
   "execution_count": null,
   "id": "19d7aed5",
   "metadata": {},
   "outputs": [],
   "source": [
    "from langchain_core.messages import AIMessage, ToolMessage\n",
    "for msg in final_state[\"messages\"]:\n",
    "    if isinstance(msg, HumanMessage):\n",
    "        print(\"👤 사용자:\", msg.content)\n",
    "    elif isinstance(msg, AIMessage):\n",
    "        print(\"🤖 챗봇:\", msg.content)\n",
    "        if msg.tool_calls:\n",
    "            for call in msg.tool_calls:\n",
    "                print(f\"  ↪ (도구 요청: {call['name']} {call['args']})\")\n",
    "    elif isinstance(msg, ToolMessage):\n",
    "        print(f\"🔧 도구[{msg.name}] 결과:\", msg.content)"
   ]
  },
  {
   "cell_type": "code",
   "execution_count": null,
   "id": "ab34e9a5",
   "metadata": {},
   "outputs": [],
   "source": [
    "# 추가 테스트 예시\n",
    "initial_state[\"messages\"] = [HumanMessage(content=\"서울에서 애견동반 가능한 카페 알려줘\")]\n",
    "final_state = graph.invoke(initial_state)\n",
    "for msg in final_state[\"messages\"]:\n",
    "    if isinstance(msg, HumanMessage):\n",
    "        print(\"👤 사용자:\", msg.content)\n",
    "    elif isinstance(msg, AIMessage):\n",
    "        print(\"🤖 챗봇:\", msg.content)\n",
    "        if msg.tool_calls:\n",
    "            for call in msg.tool_calls:\n",
    "                print(f\"  ↪ (도구 요청: {call['name']} {call['args']})\")\n",
    "    elif isinstance(msg, ToolMessage):\n",
    "        print(f\"🔧 도구[{msg.name}] 결과:\", msg.content)"
   ]
  }
 ],
 "metadata": {
  "language_info": {
   "name": "python"
  }
 },
 "nbformat": 4,
 "nbformat_minor": 5
}
