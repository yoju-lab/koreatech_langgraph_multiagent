{
 "cells": [
  {
   "cell_type": "code",
   "execution_count": 17,
   "id": "942ace46",
   "metadata": {},
   "outputs": [],
   "source": [
    "from langchain_openai import ChatOpenAI\n",
    "from langchain_core.messages import HumanMessage\n",
    "from langgraph.graph import StateGraph, START, END\n",
    "from langgraph.graph.message import add_messages\n",
    "from typing_extensions import TypedDict\n",
    "from typing import Annotated, List\n",
    "from dotenv import load_dotenv\n",
    "import os"
   ]
  },
  {
   "cell_type": "code",
   "execution_count": 18,
   "id": "45b1eb67",
   "metadata": {},
   "outputs": [],
   "source": [
    "load_dotenv()\n",
    "openai_model = os.getenv(\"OPENAI_MODEL\", \"gpt-4o-mini\")"
   ]
  },
  {
   "cell_type": "code",
   "execution_count": 19,
   "id": "f15e0451",
   "metadata": {},
   "outputs": [
    {
     "data": {
      "text/plain": [
       "[{'title': 'LangGraph란? - Dev studying blog - 티스토리',\n",
       "  'url': 'https://dev-studyingblog.tistory.com/112',\n",
       "  'content': 'LangGraph는 LangChain을 기반으로 만든 멀티에이전트 및 워크플로우 자동화 프레임워크이다. 쉽게 말해 AI 모델 간의 협업을 가능하게 하는 시스템',\n",
       "  'score': 0.87981987},\n",
       " {'title': 'langgraph 소개 및 기본개념 : 네이버 블로그',\n",
       "  'url': 'https://blog.naver.com/pjt3591oo/223861729229?fromRss=true&trackingCode=rss',\n",
       "  'content': 'LangGraph는 LangChain 상태계의 일부로 LLM 애플리케이션의 흐름을 그래프로 정의하고 실행하는 라이브러리입니다. 여기서 그래프는 CS(Computer Science)',\n",
       "  'score': 0.87807417}]"
      ]
     },
     "execution_count": 19,
     "metadata": {},
     "output_type": "execute_result"
    }
   ],
   "source": [
    "from langchain_community.tools.tavily_search import TavilySearchResults\n",
    "tool = TavilySearchResults(max_results=2)\n",
    "tool.invoke(\"LangGraph가 무엇인가요?\")"
   ]
  },
  {
   "cell_type": "code",
   "execution_count": 20,
   "id": "c6d08f8b",
   "metadata": {},
   "outputs": [],
   "source": [
    "class State(TypedDict):\n",
    "    messages: Annotated[list, add_messages]"
   ]
  },
  {
   "cell_type": "code",
   "execution_count": 21,
   "id": "98505728",
   "metadata": {},
   "outputs": [],
   "source": [
    "llm = ChatOpenAI(model=openai_model)\n",
    "tools = [tool]\n",
    "llm_with_tools = llm.bind_tools(tools)"
   ]
  },
  {
   "cell_type": "code",
   "execution_count": 22,
   "id": "74a72331",
   "metadata": {},
   "outputs": [],
   "source": [
    "def chatbot(state: State):\n",
    "    response = llm_with_tools.invoke(state[\"messages\"])\n",
    "    return {\"messages\": [response]}"
   ]
  },
  {
   "cell_type": "code",
   "execution_count": 23,
   "id": "04aff27a",
   "metadata": {},
   "outputs": [],
   "source": [
    "from langgraph.checkpoint.memory import MemorySaver\n",
    "memory = MemorySaver()"
   ]
  },
  {
   "cell_type": "code",
   "execution_count": 24,
   "id": "ae6320fa",
   "metadata": {},
   "outputs": [],
   "source": [
    "from langgraph.prebuilt import ToolNode, tools_condition\n",
    "tool_node = ToolNode(tools)\n",
    "workflow = StateGraph(State)\n",
    "workflow.add_node(\"chatbot\", chatbot)\n",
    "workflow.add_node(\"tools\", tool_node)\n",
    "workflow.add_conditional_edges(\"chatbot\", tools_condition)\n",
    "workflow.add_edge(\"tools\", \"chatbot\")\n",
    "workflow.set_entry_point(\"chatbot\")\n",
    "graph = workflow.compile(checkpointer=memory)"
   ]
  },
  {
   "cell_type": "code",
   "execution_count": 25,
   "id": "e1c68f2c",
   "metadata": {},
   "outputs": [
    {
     "data": {
      "image/png": "[encoded data removed]",
      "text/plain": [
       "<IPython.core.display.Image object>"
      ]
     },
     "metadata": {},
     "output_type": "display_data"
    }
   ],
   "source": [
    "from IPython.display import Image, display\n",
    "display(Image(graph.get_graph().draw_mermaid_png()))"
   ]
  },
  {
   "cell_type": "code",
   "execution_count": 26,
   "id": "ab3ca0da",
   "metadata": {},
   "outputs": [],
   "source": [
    "config = {\"configurable\": {\"thread_id\": \"user123\"}}"
   ]
  },
  {
   "cell_type": "code",
   "execution_count": 27,
   "id": "7ef274e7",
   "metadata": {},
   "outputs": [
    {
     "name": "stdout",
     "output_type": "stream",
     "text": [
      "LangGraph는 복잡한 생성적 AI 에이전트 워크플로우를 구축, 배포 및 관리하기 위한 오픈 소스 AI 에이전트 프레임워크입니다. 이 프레임워크는 다양한 AI 에이전트 구성 요소 간의 관계를 모델링하고 관리하기 위해 그래프 기반 아키텍처를 사용합니다. LangGraph를 이용하면 사용자는 대형 언어 모델(LLM)을 효율적이고 확장 가능하게 생성, 실행 및 최적화할 수 있습니다.\n",
      "\n",
      "### 주요 기능\n",
      "1. **에이전트 시스템 구축**: LangGraph는 로봇 공학, 자율 차량, 비디오 게임 등 다양한 애플리케이션에서 사용될 수 있는 에이전트 기반 시스템 구축을 지원합니다.\n",
      "2. **LLM 애플리케이션**: LangGraph의 기능을 활용하여 개발자는 시간이 지남에 따라 학습하고 개선되는 보다 정교한 AI 모델을 구축할 수 있습니다.\n",
      "3. **상태 기계 모델**: Python 라이브러리로서 LangGraph는 챗봇이나 AI 에이전트를 단계별로 논리를 조직하여 애플리케이션의 동작을 정의하는 데 도움을 줍니다. 각 단계에서 입력을 분류하거나 응답을 생성하는 등의 작업을 수행하며, 애플리케이션은 정보를 공유 상태에 저장함으로써 진행 상황을 기억합니다.\n",
      "\n",
      "자세한 내용은 [IBM의 설명](https://www.ibm.com/think/topics/langgraph)과 [GeeksforGeeks의 설명](https://www.geeksforgeeks.org/machine-learning/what-is-langgraph/)에서 확인할 수 있습니다.\n"
     ]
    }
   ],
   "source": [
    "# 첫 번째 대화: 새로운 대화 맥락 생성\n",
    "user_input1 = \"LangGraph가 무엇인가요?\"\n",
    "state1 = {\"messages\": [HumanMessage(content=user_input1)]}\n",
    "response1 = graph.invoke(state1, config)\n",
    "# 챗봇의 첫 번째 응답 출력\n",
    "print(response1[\"messages\"][-1].content)"
   ]
  },
  {
   "cell_type": "code",
   "execution_count": 28,
   "id": "1c3246de",
   "metadata": {},
   "outputs": [
    {
     "name": "stdout",
     "output_type": "stream",
     "text": [
      "LangGraph는 **LangChain**이라는 회사에 의해 개발되었습니다. LangChain은 주로 자연어 처리 및 AI 모델 생성을 위한 도구와 프레임워크를 제공하는 회사입니다. LangGraph는 이 회사가 제공하는 솔루션 중 하나로, 복잡한 AI 에이전트 워크플로우를 효율적으로 관리하고 구축하는 데 중점을 두고 있습니다.\n"
     ]
    }
   ],
   "source": [
    "# 두 번째 대화: 이전 대화 맥락 유지\n",
    "user_input2 = \"그것을 만든 회사는 어딘가요?\"\n",
    "state2 = {\"messages\": [HumanMessage(content=user_input2)]}\n",
    "response2 = graph.invoke(state2, config)\n",
    "# 챗봇의 두 번째 응답 출력 (이전 대화의 맥락이 유지된 상태)\n",
    "print(response2[\"messages\"][-1].content)"
   ]
  },
  {
   "cell_type": "code",
   "execution_count": 29,
   "id": "ddfb7147",
   "metadata": {},
   "outputs": [
    {
     "name": "stdout",
     "output_type": "stream",
     "text": [
      "더 많은 정보가 필요합니다. \"그것\"이 어떤 것을 의미하는지 구체적으로 말씀해 주실 수 있나요?\n"
     ]
    }
   ],
   "source": [
    "# 세 번째 대화: 새로운 thread_id 사용하여 독립된 새로운 대화 맥락 생성\n",
    "user_input3 = \"그것을 만든 회사는 어딘가요?\"\n",
    "state3 = {\"messages\": [HumanMessage(content=user_input3)]}\n",
    "response3 = graph.invoke(state3, {\"configurable\": {\"thread_id\": \"user456\"}})\n",
    "# 새로운 대화 맥락에서의 챗봇 응답 출력 (기존 thread_id와 독립된 상태)\n",
    "print(response3[\"messages\"][-1].content)"
   ]
  },
  {
   "cell_type": "code",
   "execution_count": 30,
   "id": "0db99cb8",
   "metadata": {},
   "outputs": [
    {
     "data": {
      "text/plain": [
       "[HumanMessage(content='LangGraph가 무엇인가요?', additional_kwargs={}, response_metadata={}, id='cd2cf056-10cd-4862-bda9-43476999a4b2'),\n",
       " AIMessage(content='', additional_kwargs={'tool_calls': [{'id': 'call_9a4ZKd6WEdNHt5DX3QmpcmXw', 'function': {'arguments': '{\"query\":\"LangGraph\"}', 'name': 'tavily_search_results_json'}, 'type': 'function'}], 'refusal': None}, response_metadata={'token_usage': {'completion_tokens': 19, 'prompt_tokens': 86, 'total_tokens': 105, 'completion_tokens_details': {'accepted_prediction_tokens': 0, 'audio_tokens': 0, 'reasoning_tokens': 0, 'rejected_prediction_tokens': 0}, 'prompt_tokens_details': {'audio_tokens': 0, 'cached_tokens': 0}}, 'model_name': 'gpt-4o-mini-2024-07-18', 'system_fingerprint': 'fp_34a54ae93c', 'id': 'chatcmpl-BnIkjNMY0Jgwa8aqUoxMZiF5lvr9S', 'service_tier': 'default', 'finish_reason': 'tool_calls', 'logprobs': None}, id='run--ca799ffc-d291-4625-94ee-63b5e262211f-0', tool_calls=[{'name': 'tavily_search_results_json', 'args': {'query': 'LangGraph'}, 'id': 'call_9a4ZKd6WEdNHt5DX3QmpcmXw', 'type': 'tool_call'}], usage_metadata={'input_tokens': 86, 'output_tokens': 19, 'total_tokens': 105, 'input_token_details': {'audio': 0, 'cache_read': 0}, 'output_token_details': {'audio': 0, 'reasoning': 0}}),\n",
       " ToolMessage(content='[{\"title\": \"What is LangGraph? - IBM\", \"url\": \"https://www.ibm.com/think/topics/langgraph\", \"content\": \"LangGraph, created by LangChain, is an open source AI agent framework designed to build, deploy and manage complex generative AI agent workflows. It provides a set of tools and libraries that enable users to create, run and optimize large language models (LLMs) in a scalable and efficient manner. At its core, LangGraph uses the power of graph-based architectures to model and manage the intricate relationships between various components of an AI agent workflow. [...] Agent systems: LangGraph provides a framework for building agent-based systems, which can be used in applications such as robotics, autonomous vehicles or video games.\\\\n\\\\nLLM applications: By using LangGraph’s capabilities, developers can build more sophisticated AI models that learn and improve over time. Norwegian Cruise Line uses LangGraph to compile, construct and refine guest-facing AI solutions. This capability allows for improved and personalized guest experiences. [...] By using a graph-based architecture, LangGraph enables users to scale artificial intelligence workflows without slowing down or sacrificing efficiency. LangGraph uses enhanced decision-making by modeling complex relationships between nodes, which means it uses AI agents to analyze their past actions and feedback. In the world of LLMs, this process is referred to as reflection.\", \"score\": 0.9353998}, {\"title\": \"What is LangGraph? - GeeksforGeeks\", \"url\": \"https://www.geeksforgeeks.org/machine-learning/what-is-langgraph/\", \"content\": \"LangGraph is a Python library that helps you build applications like chatbots or AI agents by organizing their logic step-by-step using state machine model. This means you can define how the application should behave at each step such as classifying input, generating a response or calling a tool and the application remembers its progress by storing information in a shared state.\", \"score\": 0.9301101}]', name='tavily_search_results_json', id='7b7ebab2-57ed-4cce-8781-8260ce1a8f5a', tool_call_id='call_9a4ZKd6WEdNHt5DX3QmpcmXw', artifact={'query': 'LangGraph', 'follow_up_questions': None, 'answer': None, 'images': [], 'results': [{'url': 'https://www.ibm.com/think/topics/langgraph', 'title': 'What is LangGraph? - IBM', 'content': 'LangGraph, created by LangChain, is an open source AI agent framework designed to build, deploy and manage complex generative AI agent workflows. It provides a set of tools and libraries that enable users to create, run and optimize large language models (LLMs) in a scalable and efficient manner. At its core, LangGraph uses the power of graph-based architectures to model and manage the intricate relationships between various components of an AI agent workflow. [...] Agent systems: LangGraph provides a framework for building agent-based systems, which can be used in applications such as robotics, autonomous vehicles or video games.\\n\\nLLM applications: By using LangGraph’s capabilities, developers can build more sophisticated AI models that learn and improve over time. Norwegian Cruise Line uses LangGraph to compile, construct and refine guest-facing AI solutions. This capability allows for improved and personalized guest experiences. [...] By using a graph-based architecture, LangGraph enables users to scale artificial intelligence workflows without slowing down or sacrificing efficiency. LangGraph uses enhanced decision-making by modeling complex relationships between nodes, which means it uses AI agents to analyze their past actions and feedback. In the world of LLMs, this process is referred to as reflection.', 'score': 0.9353998, 'raw_content': None}, {'title': 'What is LangGraph? - GeeksforGeeks', 'url': 'https://www.geeksforgeeks.org/machine-learning/what-is-langgraph/', 'content': 'LangGraph is a Python library that helps you build applications like chatbots or AI agents by organizing their logic step-by-step using state machine model. This means you can define how the application should behave at each step such as classifying input, generating a response or calling a tool and the application remembers its progress by storing information in a shared state.', 'score': 0.9301101, 'raw_content': None}], 'response_time': 1.03}),\n",
       " AIMessage(content='LangGraph는 복잡한 생성적 AI 에이전트 워크플로우를 구축, 배포 및 관리하기 위한 오픈 소스 AI 에이전트 프레임워크입니다. 이 프레임워크는 다양한 AI 에이전트 구성 요소 간의 관계를 모델링하고 관리하기 위해 그래프 기반 아키텍처를 사용합니다. LangGraph를 이용하면 사용자는 대형 언어 모델(LLM)을 효율적이고 확장 가능하게 생성, 실행 및 최적화할 수 있습니다.\\n\\n### 주요 기능\\n1. **에이전트 시스템 구축**: LangGraph는 로봇 공학, 자율 차량, 비디오 게임 등 다양한 애플리케이션에서 사용될 수 있는 에이전트 기반 시스템 구축을 지원합니다.\\n2. **LLM 애플리케이션**: LangGraph의 기능을 활용하여 개발자는 시간이 지남에 따라 학습하고 개선되는 보다 정교한 AI 모델을 구축할 수 있습니다.\\n3. **상태 기계 모델**: Python 라이브러리로서 LangGraph는 챗봇이나 AI 에이전트를 단계별로 논리를 조직하여 애플리케이션의 동작을 정의하는 데 도움을 줍니다. 각 단계에서 입력을 분류하거나 응답을 생성하는 등의 작업을 수행하며, 애플리케이션은 정보를 공유 상태에 저장함으로써 진행 상황을 기억합니다.\\n\\n자세한 내용은 [IBM의 설명](https://www.ibm.com/think/topics/langgraph)과 [GeeksforGeeks의 설명](https://www.geeksforgeeks.org/machine-learning/what-is-langgraph/)에서 확인할 수 있습니다.', additional_kwargs={'refusal': None}, response_metadata={'token_usage': {'completion_tokens': 358, 'prompt_tokens': 520, 'total_tokens': 878, 'completion_tokens_details': {'accepted_prediction_tokens': 0, 'audio_tokens': 0, 'reasoning_tokens': 0, 'rejected_prediction_tokens': 0}, 'prompt_tokens_details': {'audio_tokens': 0, 'cached_tokens': 0}}, 'model_name': 'gpt-4o-mini-2024-07-18', 'system_fingerprint': 'fp_34a54ae93c', 'id': 'chatcmpl-BnIkm9DGMjxTMIuwjGlfKKO8GvwKN', 'service_tier': 'default', 'finish_reason': 'stop', 'logprobs': None}, id='run--a4043211-53d9-4c5c-bf8d-a4c373dc0aad-0', usage_metadata={'input_tokens': 520, 'output_tokens': 358, 'total_tokens': 878, 'input_token_details': {'audio': 0, 'cache_read': 0}, 'output_token_details': {'audio': 0, 'reasoning': 0}}),\n",
       " HumanMessage(content='그것을 만든 회사는 어딘가요?', additional_kwargs={}, response_metadata={}, id='ec0331ef-8fb5-48c4-8c6d-3121bca24638'),\n",
       " AIMessage(content='LangGraph는 **LangChain**이라는 회사에 의해 개발되었습니다. LangChain은 주로 자연어 처리 및 AI 모델 생성을 위한 도구와 프레임워크를 제공하는 회사입니다. LangGraph는 이 회사가 제공하는 솔루션 중 하나로, 복잡한 AI 에이전트 워크플로우를 효율적으로 관리하고 구축하는 데 중점을 두고 있습니다.', additional_kwargs={'refusal': None}, response_metadata={'token_usage': {'completion_tokens': 85, 'prompt_tokens': 897, 'total_tokens': 982, 'completion_tokens_details': {'accepted_prediction_tokens': 0, 'audio_tokens': 0, 'reasoning_tokens': 0, 'rejected_prediction_tokens': 0}, 'prompt_tokens_details': {'audio_tokens': 0, 'cached_tokens': 0}}, 'model_name': 'gpt-4o-mini-2024-07-18', 'system_fingerprint': 'fp_34a54ae93c', 'id': 'chatcmpl-BnIkqDrDtODGEKvk3qCixERcrUkzE', 'service_tier': 'default', 'finish_reason': 'stop', 'logprobs': None}, id='run--d2a550fa-4b8a-4331-8ba7-bc65319d52d6-0', usage_metadata={'input_tokens': 897, 'output_tokens': 85, 'total_tokens': 982, 'input_token_details': {'audio': 0, 'cache_read': 0}, 'output_token_details': {'audio': 0, 'reasoning': 0}})]"
      ]
     },
     "execution_count": 30,
     "metadata": {},
     "output_type": "execute_result"
    }
   ],
   "source": [
    "# 기존 thread_id의 대화 상태 확인\n",
    "snapshot = graph.get_state(config)\n",
    "snapshot.values['messages']"
   ]
  },
  {
   "cell_type": "code",
   "execution_count": 31,
   "id": "9141fd0a",
   "metadata": {},
   "outputs": [
    {
     "data": {
      "text/plain": [
       "[HumanMessage(content='그것을 만든 회사는 어딘가요?', additional_kwargs={}, response_metadata={}, id='74f8c202-5f9d-4663-959c-a556d91780a5'),\n",
       " AIMessage(content='더 많은 정보가 필요합니다. \"그것\"이 어떤 것을 의미하는지 구체적으로 말씀해 주실 수 있나요?', additional_kwargs={'refusal': None}, response_metadata={'token_usage': {'completion_tokens': 29, 'prompt_tokens': 91, 'total_tokens': 120, 'completion_tokens_details': {'accepted_prediction_tokens': 0, 'audio_tokens': 0, 'reasoning_tokens': 0, 'rejected_prediction_tokens': 0}, 'prompt_tokens_details': {'audio_tokens': 0, 'cached_tokens': 0}}, 'model_name': 'gpt-4o-mini-2024-07-18', 'system_fingerprint': 'fp_34a54ae93c', 'id': 'chatcmpl-BnIksxsu7EKmibkunpXi1PLdYIHoB', 'service_tier': 'default', 'finish_reason': 'stop', 'logprobs': None}, id='run--4e9ce209-4389-458c-a8d6-ea0dad3e2bc8-0', usage_metadata={'input_tokens': 91, 'output_tokens': 29, 'total_tokens': 120, 'input_token_details': {'audio': 0, 'cache_read': 0}, 'output_token_details': {'audio': 0, 'reasoning': 0}})]"
      ]
     },
     "execution_count": 31,
     "metadata": {},
     "output_type": "execute_result"
    }
   ],
   "source": [
    "# 새 thread_id의 대화 상태 확인\n",
    "graph.get_state({\"configurable\": {\"thread_id\": \"user456\"}}).values['messages']"
   ]
  },
  {
   "cell_type": "code",
   "execution_count": 32,
   "id": "c5858185",
   "metadata": {},
   "outputs": [
    {
     "name": "stdout",
     "output_type": "stream",
     "text": [
      "user123\n",
      "[HumanMessage(content='LangGraph가 무엇인가요?', additional_kwargs={}, response_metadata={}, id='cd2cf056-10cd-4862-bda9-43476999a4b2'),\n",
      " AIMessage(content='', additional_kwargs={'tool_calls': [{'id': 'call_9a4ZKd6WEdNHt5DX3QmpcmXw', 'function': {'arguments': '{\"query\":\"LangGraph\"}', 'name': 'tavily_search_results_json'}, 'type': 'function'}], 'refusal': None}, response_metadata={'token_usage': {'completion_tokens': 19, 'prompt_tokens': 86, 'total_tokens': 105, 'completion_tokens_details': {'accepted_prediction_tokens': 0, 'audio_tokens': 0, 'reasoning_tokens': 0, 'rejected_prediction_tokens': 0}, 'prompt_tokens_details': {'audio_tokens': 0, 'cached_tokens': 0}}, 'model_name': 'gpt-4o-mini-2024-07-18', 'system_fingerprint': 'fp_34a54ae93c', 'id': 'chatcmpl-BnIkjNMY0Jgwa8aqUoxMZiF5lvr9S', 'service_tier': 'default', 'finish_reason': 'tool_calls', 'logprobs': None}, id='run--ca799ffc-d291-4625-94ee-63b5e262211f-0', tool_calls=[{'name': 'tavily_search_results_json', 'args': {'query': 'LangGraph'}, 'id': 'call_9a4ZKd6WEdNHt5DX3QmpcmXw', 'type': 'tool_call'}], usage_metadata={'input_tokens': 86, 'output_tokens': 19, 'total_tokens': 105, 'input_token_details': {'audio': 0, 'cache_read': 0}, 'output_token_details': {'audio': 0, 'reasoning': 0}}),\n",
      " ToolMessage(content='[{\"title\": \"What is LangGraph? - IBM\", \"url\": \"https://www.ibm.com/think/topics/langgraph\", \"content\": \"LangGraph, created by LangChain, is an open source AI agent framework designed to build, deploy and manage complex generative AI agent workflows. It provides a set of tools and libraries that enable users to create, run and optimize large language models (LLMs) in a scalable and efficient manner. At its core, LangGraph uses the power of graph-based architectures to model and manage the intricate relationships between various components of an AI agent workflow. [...] Agent systems: LangGraph provides a framework for building agent-based systems, which can be used in applications such as robotics, autonomous vehicles or video games.\\\\n\\\\nLLM applications: By using LangGraph’s capabilities, developers can build more sophisticated AI models that learn and improve over time. Norwegian Cruise Line uses LangGraph to compile, construct and refine guest-facing AI solutions. This capability allows for improved and personalized guest experiences. [...] By using a graph-based architecture, LangGraph enables users to scale artificial intelligence workflows without slowing down or sacrificing efficiency. LangGraph uses enhanced decision-making by modeling complex relationships between nodes, which means it uses AI agents to analyze their past actions and feedback. In the world of LLMs, this process is referred to as reflection.\", \"score\": 0.9353998}, {\"title\": \"What is LangGraph? - GeeksforGeeks\", \"url\": \"https://www.geeksforgeeks.org/machine-learning/what-is-langgraph/\", \"content\": \"LangGraph is a Python library that helps you build applications like chatbots or AI agents by organizing their logic step-by-step using state machine model. This means you can define how the application should behave at each step such as classifying input, generating a response or calling a tool and the application remembers its progress by storing information in a shared state.\", \"score\": 0.9301101}]', name='tavily_search_results_json', id='7b7ebab2-57ed-4cce-8781-8260ce1a8f5a', tool_call_id='call_9a4ZKd6WEdNHt5DX3QmpcmXw', artifact={'query': 'LangGraph', 'follow_up_questions': None, 'answer': None, 'images': [], 'results': [{'url': 'https://www.ibm.com/think/topics/langgraph', 'title': 'What is LangGraph? - IBM', 'content': 'LangGraph, created by LangChain, is an open source AI agent framework designed to build, deploy and manage complex generative AI agent workflows. It provides a set of tools and libraries that enable users to create, run and optimize large language models (LLMs) in a scalable and efficient manner. At its core, LangGraph uses the power of graph-based architectures to model and manage the intricate relationships between various components of an AI agent workflow. [...] Agent systems: LangGraph provides a framework for building agent-based systems, which can be used in applications such as robotics, autonomous vehicles or video games.\\n\\nLLM applications: By using LangGraph’s capabilities, developers can build more sophisticated AI models that learn and improve over time. Norwegian Cruise Line uses LangGraph to compile, construct and refine guest-facing AI solutions. This capability allows for improved and personalized guest experiences. [...] By using a graph-based architecture, LangGraph enables users to scale artificial intelligence workflows without slowing down or sacrificing efficiency. LangGraph uses enhanced decision-making by modeling complex relationships between nodes, which means it uses AI agents to analyze their past actions and feedback. In the world of LLMs, this process is referred to as reflection.', 'score': 0.9353998, 'raw_content': None}, {'title': 'What is LangGraph? - GeeksforGeeks', 'url': 'https://www.geeksforgeeks.org/machine-learning/what-is-langgraph/', 'content': 'LangGraph is a Python library that helps you build applications like chatbots or AI agents by organizing their logic step-by-step using state machine model. This means you can define how the application should behave at each step such as classifying input, generating a response or calling a tool and the application remembers its progress by storing information in a shared state.', 'score': 0.9301101, 'raw_content': None}], 'response_time': 1.03}),\n",
      " AIMessage(content='LangGraph는 복잡한 생성적 AI 에이전트 워크플로우를 구축, 배포 및 관리하기 위한 오픈 소스 AI 에이전트 프레임워크입니다. 이 프레임워크는 다양한 AI 에이전트 구성 요소 간의 관계를 모델링하고 관리하기 위해 그래프 기반 아키텍처를 사용합니다. LangGraph를 이용하면 사용자는 대형 언어 모델(LLM)을 효율적이고 확장 가능하게 생성, 실행 및 최적화할 수 있습니다.\\n\\n### 주요 기능\\n1. **에이전트 시스템 구축**: LangGraph는 로봇 공학, 자율 차량, 비디오 게임 등 다양한 애플리케이션에서 사용될 수 있는 에이전트 기반 시스템 구축을 지원합니다.\\n2. **LLM 애플리케이션**: LangGraph의 기능을 활용하여 개발자는 시간이 지남에 따라 학습하고 개선되는 보다 정교한 AI 모델을 구축할 수 있습니다.\\n3. **상태 기계 모델**: Python 라이브러리로서 LangGraph는 챗봇이나 AI 에이전트를 단계별로 논리를 조직하여 애플리케이션의 동작을 정의하는 데 도움을 줍니다. 각 단계에서 입력을 분류하거나 응답을 생성하는 등의 작업을 수행하며, 애플리케이션은 정보를 공유 상태에 저장함으로써 진행 상황을 기억합니다.\\n\\n자세한 내용은 [IBM의 설명](https://www.ibm.com/think/topics/langgraph)과 [GeeksforGeeks의 설명](https://www.geeksforgeeks.org/machine-learning/what-is-langgraph/)에서 확인할 수 있습니다.', additional_kwargs={'refusal': None}, response_metadata={'token_usage': {'completion_tokens': 358, 'prompt_tokens': 520, 'total_tokens': 878, 'completion_tokens_details': {'accepted_prediction_tokens': 0, 'audio_tokens': 0, 'reasoning_tokens': 0, 'rejected_prediction_tokens': 0}, 'prompt_tokens_details': {'audio_tokens': 0, 'cached_tokens': 0}}, 'model_name': 'gpt-4o-mini-2024-07-18', 'system_fingerprint': 'fp_34a54ae93c', 'id': 'chatcmpl-BnIkm9DGMjxTMIuwjGlfKKO8GvwKN', 'service_tier': 'default', 'finish_reason': 'stop', 'logprobs': None}, id='run--a4043211-53d9-4c5c-bf8d-a4c373dc0aad-0', usage_metadata={'input_tokens': 520, 'output_tokens': 358, 'total_tokens': 878, 'input_token_details': {'audio': 0, 'cache_read': 0}, 'output_token_details': {'audio': 0, 'reasoning': 0}}),\n",
      " HumanMessage(content='그것을 만든 회사는 어딘가요?', additional_kwargs={}, response_metadata={}, id='ec0331ef-8fb5-48c4-8c6d-3121bca24638'),\n",
      " AIMessage(content='LangGraph는 **LangChain**이라는 회사에 의해 개발되었습니다. LangChain은 주로 자연어 처리 및 AI 모델 생성을 위한 도구와 프레임워크를 제공하는 회사입니다. LangGraph는 이 회사가 제공하는 솔루션 중 하나로, 복잡한 AI 에이전트 워크플로우를 효율적으로 관리하고 구축하는 데 중점을 두고 있습니다.', additional_kwargs={'refusal': None}, response_metadata={'token_usage': {'completion_tokens': 85, 'prompt_tokens': 897, 'total_tokens': 982, 'completion_tokens_details': {'accepted_prediction_tokens': 0, 'audio_tokens': 0, 'reasoning_tokens': 0, 'rejected_prediction_tokens': 0}, 'prompt_tokens_details': {'audio_tokens': 0, 'cached_tokens': 0}}, 'model_name': 'gpt-4o-mini-2024-07-18', 'system_fingerprint': 'fp_34a54ae93c', 'id': 'chatcmpl-BnIkqDrDtODGEKvk3qCixERcrUkzE', 'service_tier': 'default', 'finish_reason': 'stop', 'logprobs': None}, id='run--d2a550fa-4b8a-4331-8ba7-bc65319d52d6-0', usage_metadata={'input_tokens': 897, 'output_tokens': 85, 'total_tokens': 982, 'input_token_details': {'audio': 0, 'cache_read': 0}, 'output_token_details': {'audio': 0, 'reasoning': 0}})]\n",
      "user123\n",
      "[HumanMessage(content='LangGraph가 무엇인가요?', additional_kwargs={}, response_metadata={}, id='cd2cf056-10cd-4862-bda9-43476999a4b2'),\n",
      " AIMessage(content='', additional_kwargs={'tool_calls': [{'id': 'call_9a4ZKd6WEdNHt5DX3QmpcmXw', 'function': {'arguments': '{\"query\":\"LangGraph\"}', 'name': 'tavily_search_results_json'}, 'type': 'function'}], 'refusal': None}, response_metadata={'token_usage': {'completion_tokens': 19, 'prompt_tokens': 86, 'total_tokens': 105, 'completion_tokens_details': {'accepted_prediction_tokens': 0, 'audio_tokens': 0, 'reasoning_tokens': 0, 'rejected_prediction_tokens': 0}, 'prompt_tokens_details': {'audio_tokens': 0, 'cached_tokens': 0}}, 'model_name': 'gpt-4o-mini-2024-07-18', 'system_fingerprint': 'fp_34a54ae93c', 'id': 'chatcmpl-BnIkjNMY0Jgwa8aqUoxMZiF5lvr9S', 'service_tier': 'default', 'finish_reason': 'tool_calls', 'logprobs': None}, id='run--ca799ffc-d291-4625-94ee-63b5e262211f-0', tool_calls=[{'name': 'tavily_search_results_json', 'args': {'query': 'LangGraph'}, 'id': 'call_9a4ZKd6WEdNHt5DX3QmpcmXw', 'type': 'tool_call'}], usage_metadata={'input_tokens': 86, 'output_tokens': 19, 'total_tokens': 105, 'input_token_details': {'audio': 0, 'cache_read': 0}, 'output_token_details': {'audio': 0, 'reasoning': 0}}),\n",
      " ToolMessage(content='[{\"title\": \"What is LangGraph? - IBM\", \"url\": \"https://www.ibm.com/think/topics/langgraph\", \"content\": \"LangGraph, created by LangChain, is an open source AI agent framework designed to build, deploy and manage complex generative AI agent workflows. It provides a set of tools and libraries that enable users to create, run and optimize large language models (LLMs) in a scalable and efficient manner. At its core, LangGraph uses the power of graph-based architectures to model and manage the intricate relationships between various components of an AI agent workflow. [...] Agent systems: LangGraph provides a framework for building agent-based systems, which can be used in applications such as robotics, autonomous vehicles or video games.\\\\n\\\\nLLM applications: By using LangGraph’s capabilities, developers can build more sophisticated AI models that learn and improve over time. Norwegian Cruise Line uses LangGraph to compile, construct and refine guest-facing AI solutions. This capability allows for improved and personalized guest experiences. [...] By using a graph-based architecture, LangGraph enables users to scale artificial intelligence workflows without slowing down or sacrificing efficiency. LangGraph uses enhanced decision-making by modeling complex relationships between nodes, which means it uses AI agents to analyze their past actions and feedback. In the world of LLMs, this process is referred to as reflection.\", \"score\": 0.9353998}, {\"title\": \"What is LangGraph? - GeeksforGeeks\", \"url\": \"https://www.geeksforgeeks.org/machine-learning/what-is-langgraph/\", \"content\": \"LangGraph is a Python library that helps you build applications like chatbots or AI agents by organizing their logic step-by-step using state machine model. This means you can define how the application should behave at each step such as classifying input, generating a response or calling a tool and the application remembers its progress by storing information in a shared state.\", \"score\": 0.9301101}]', name='tavily_search_results_json', id='7b7ebab2-57ed-4cce-8781-8260ce1a8f5a', tool_call_id='call_9a4ZKd6WEdNHt5DX3QmpcmXw', artifact={'query': 'LangGraph', 'follow_up_questions': None, 'answer': None, 'images': [], 'results': [{'url': 'https://www.ibm.com/think/topics/langgraph', 'title': 'What is LangGraph? - IBM', 'content': 'LangGraph, created by LangChain, is an open source AI agent framework designed to build, deploy and manage complex generative AI agent workflows. It provides a set of tools and libraries that enable users to create, run and optimize large language models (LLMs) in a scalable and efficient manner. At its core, LangGraph uses the power of graph-based architectures to model and manage the intricate relationships between various components of an AI agent workflow. [...] Agent systems: LangGraph provides a framework for building agent-based systems, which can be used in applications such as robotics, autonomous vehicles or video games.\\n\\nLLM applications: By using LangGraph’s capabilities, developers can build more sophisticated AI models that learn and improve over time. Norwegian Cruise Line uses LangGraph to compile, construct and refine guest-facing AI solutions. This capability allows for improved and personalized guest experiences. [...] By using a graph-based architecture, LangGraph enables users to scale artificial intelligence workflows without slowing down or sacrificing efficiency. LangGraph uses enhanced decision-making by modeling complex relationships between nodes, which means it uses AI agents to analyze their past actions and feedback. In the world of LLMs, this process is referred to as reflection.', 'score': 0.9353998, 'raw_content': None}, {'title': 'What is LangGraph? - GeeksforGeeks', 'url': 'https://www.geeksforgeeks.org/machine-learning/what-is-langgraph/', 'content': 'LangGraph is a Python library that helps you build applications like chatbots or AI agents by organizing their logic step-by-step using state machine model. This means you can define how the application should behave at each step such as classifying input, generating a response or calling a tool and the application remembers its progress by storing information in a shared state.', 'score': 0.9301101, 'raw_content': None}], 'response_time': 1.03}),\n",
      " AIMessage(content='LangGraph는 복잡한 생성적 AI 에이전트 워크플로우를 구축, 배포 및 관리하기 위한 오픈 소스 AI 에이전트 프레임워크입니다. 이 프레임워크는 다양한 AI 에이전트 구성 요소 간의 관계를 모델링하고 관리하기 위해 그래프 기반 아키텍처를 사용합니다. LangGraph를 이용하면 사용자는 대형 언어 모델(LLM)을 효율적이고 확장 가능하게 생성, 실행 및 최적화할 수 있습니다.\\n\\n### 주요 기능\\n1. **에이전트 시스템 구축**: LangGraph는 로봇 공학, 자율 차량, 비디오 게임 등 다양한 애플리케이션에서 사용될 수 있는 에이전트 기반 시스템 구축을 지원합니다.\\n2. **LLM 애플리케이션**: LangGraph의 기능을 활용하여 개발자는 시간이 지남에 따라 학습하고 개선되는 보다 정교한 AI 모델을 구축할 수 있습니다.\\n3. **상태 기계 모델**: Python 라이브러리로서 LangGraph는 챗봇이나 AI 에이전트를 단계별로 논리를 조직하여 애플리케이션의 동작을 정의하는 데 도움을 줍니다. 각 단계에서 입력을 분류하거나 응답을 생성하는 등의 작업을 수행하며, 애플리케이션은 정보를 공유 상태에 저장함으로써 진행 상황을 기억합니다.\\n\\n자세한 내용은 [IBM의 설명](https://www.ibm.com/think/topics/langgraph)과 [GeeksforGeeks의 설명](https://www.geeksforgeeks.org/machine-learning/what-is-langgraph/)에서 확인할 수 있습니다.', additional_kwargs={'refusal': None}, response_metadata={'token_usage': {'completion_tokens': 358, 'prompt_tokens': 520, 'total_tokens': 878, 'completion_tokens_details': {'accepted_prediction_tokens': 0, 'audio_tokens': 0, 'reasoning_tokens': 0, 'rejected_prediction_tokens': 0}, 'prompt_tokens_details': {'audio_tokens': 0, 'cached_tokens': 0}}, 'model_name': 'gpt-4o-mini-2024-07-18', 'system_fingerprint': 'fp_34a54ae93c', 'id': 'chatcmpl-BnIkm9DGMjxTMIuwjGlfKKO8GvwKN', 'service_tier': 'default', 'finish_reason': 'stop', 'logprobs': None}, id='run--a4043211-53d9-4c5c-bf8d-a4c373dc0aad-0', usage_metadata={'input_tokens': 520, 'output_tokens': 358, 'total_tokens': 878, 'input_token_details': {'audio': 0, 'cache_read': 0}, 'output_token_details': {'audio': 0, 'reasoning': 0}}),\n",
      " HumanMessage(content='그것을 만든 회사는 어딘가요?', additional_kwargs={}, response_metadata={}, id='ec0331ef-8fb5-48c4-8c6d-3121bca24638')]\n",
      "user123\n",
      "[HumanMessage(content='LangGraph가 무엇인가요?', additional_kwargs={}, response_metadata={}, id='cd2cf056-10cd-4862-bda9-43476999a4b2'),\n",
      " AIMessage(content='', additional_kwargs={'tool_calls': [{'id': 'call_9a4ZKd6WEdNHt5DX3QmpcmXw', 'function': {'arguments': '{\"query\":\"LangGraph\"}', 'name': 'tavily_search_results_json'}, 'type': 'function'}], 'refusal': None}, response_metadata={'token_usage': {'completion_tokens': 19, 'prompt_tokens': 86, 'total_tokens': 105, 'completion_tokens_details': {'accepted_prediction_tokens': 0, 'audio_tokens': 0, 'reasoning_tokens': 0, 'rejected_prediction_tokens': 0}, 'prompt_tokens_details': {'audio_tokens': 0, 'cached_tokens': 0}}, 'model_name': 'gpt-4o-mini-2024-07-18', 'system_fingerprint': 'fp_34a54ae93c', 'id': 'chatcmpl-BnIkjNMY0Jgwa8aqUoxMZiF5lvr9S', 'service_tier': 'default', 'finish_reason': 'tool_calls', 'logprobs': None}, id='run--ca799ffc-d291-4625-94ee-63b5e262211f-0', tool_calls=[{'name': 'tavily_search_results_json', 'args': {'query': 'LangGraph'}, 'id': 'call_9a4ZKd6WEdNHt5DX3QmpcmXw', 'type': 'tool_call'}], usage_metadata={'input_tokens': 86, 'output_tokens': 19, 'total_tokens': 105, 'input_token_details': {'audio': 0, 'cache_read': 0}, 'output_token_details': {'audio': 0, 'reasoning': 0}}),\n",
      " ToolMessage(content='[{\"title\": \"What is LangGraph? - IBM\", \"url\": \"https://www.ibm.com/think/topics/langgraph\", \"content\": \"LangGraph, created by LangChain, is an open source AI agent framework designed to build, deploy and manage complex generative AI agent workflows. It provides a set of tools and libraries that enable users to create, run and optimize large language models (LLMs) in a scalable and efficient manner. At its core, LangGraph uses the power of graph-based architectures to model and manage the intricate relationships between various components of an AI agent workflow. [...] Agent systems: LangGraph provides a framework for building agent-based systems, which can be used in applications such as robotics, autonomous vehicles or video games.\\\\n\\\\nLLM applications: By using LangGraph’s capabilities, developers can build more sophisticated AI models that learn and improve over time. Norwegian Cruise Line uses LangGraph to compile, construct and refine guest-facing AI solutions. This capability allows for improved and personalized guest experiences. [...] By using a graph-based architecture, LangGraph enables users to scale artificial intelligence workflows without slowing down or sacrificing efficiency. LangGraph uses enhanced decision-making by modeling complex relationships between nodes, which means it uses AI agents to analyze their past actions and feedback. In the world of LLMs, this process is referred to as reflection.\", \"score\": 0.9353998}, {\"title\": \"What is LangGraph? - GeeksforGeeks\", \"url\": \"https://www.geeksforgeeks.org/machine-learning/what-is-langgraph/\", \"content\": \"LangGraph is a Python library that helps you build applications like chatbots or AI agents by organizing their logic step-by-step using state machine model. This means you can define how the application should behave at each step such as classifying input, generating a response or calling a tool and the application remembers its progress by storing information in a shared state.\", \"score\": 0.9301101}]', name='tavily_search_results_json', id='7b7ebab2-57ed-4cce-8781-8260ce1a8f5a', tool_call_id='call_9a4ZKd6WEdNHt5DX3QmpcmXw', artifact={'query': 'LangGraph', 'follow_up_questions': None, 'answer': None, 'images': [], 'results': [{'url': 'https://www.ibm.com/think/topics/langgraph', 'title': 'What is LangGraph? - IBM', 'content': 'LangGraph, created by LangChain, is an open source AI agent framework designed to build, deploy and manage complex generative AI agent workflows. It provides a set of tools and libraries that enable users to create, run and optimize large language models (LLMs) in a scalable and efficient manner. At its core, LangGraph uses the power of graph-based architectures to model and manage the intricate relationships between various components of an AI agent workflow. [...] Agent systems: LangGraph provides a framework for building agent-based systems, which can be used in applications such as robotics, autonomous vehicles or video games.\\n\\nLLM applications: By using LangGraph’s capabilities, developers can build more sophisticated AI models that learn and improve over time. Norwegian Cruise Line uses LangGraph to compile, construct and refine guest-facing AI solutions. This capability allows for improved and personalized guest experiences. [...] By using a graph-based architecture, LangGraph enables users to scale artificial intelligence workflows without slowing down or sacrificing efficiency. LangGraph uses enhanced decision-making by modeling complex relationships between nodes, which means it uses AI agents to analyze their past actions and feedback. In the world of LLMs, this process is referred to as reflection.', 'score': 0.9353998, 'raw_content': None}, {'title': 'What is LangGraph? - GeeksforGeeks', 'url': 'https://www.geeksforgeeks.org/machine-learning/what-is-langgraph/', 'content': 'LangGraph is a Python library that helps you build applications like chatbots or AI agents by organizing their logic step-by-step using state machine model. This means you can define how the application should behave at each step such as classifying input, generating a response or calling a tool and the application remembers its progress by storing information in a shared state.', 'score': 0.9301101, 'raw_content': None}], 'response_time': 1.03}),\n",
      " AIMessage(content='LangGraph는 복잡한 생성적 AI 에이전트 워크플로우를 구축, 배포 및 관리하기 위한 오픈 소스 AI 에이전트 프레임워크입니다. 이 프레임워크는 다양한 AI 에이전트 구성 요소 간의 관계를 모델링하고 관리하기 위해 그래프 기반 아키텍처를 사용합니다. LangGraph를 이용하면 사용자는 대형 언어 모델(LLM)을 효율적이고 확장 가능하게 생성, 실행 및 최적화할 수 있습니다.\\n\\n### 주요 기능\\n1. **에이전트 시스템 구축**: LangGraph는 로봇 공학, 자율 차량, 비디오 게임 등 다양한 애플리케이션에서 사용될 수 있는 에이전트 기반 시스템 구축을 지원합니다.\\n2. **LLM 애플리케이션**: LangGraph의 기능을 활용하여 개발자는 시간이 지남에 따라 학습하고 개선되는 보다 정교한 AI 모델을 구축할 수 있습니다.\\n3. **상태 기계 모델**: Python 라이브러리로서 LangGraph는 챗봇이나 AI 에이전트를 단계별로 논리를 조직하여 애플리케이션의 동작을 정의하는 데 도움을 줍니다. 각 단계에서 입력을 분류하거나 응답을 생성하는 등의 작업을 수행하며, 애플리케이션은 정보를 공유 상태에 저장함으로써 진행 상황을 기억합니다.\\n\\n자세한 내용은 [IBM의 설명](https://www.ibm.com/think/topics/langgraph)과 [GeeksforGeeks의 설명](https://www.geeksforgeeks.org/machine-learning/what-is-langgraph/)에서 확인할 수 있습니다.', additional_kwargs={'refusal': None}, response_metadata={'token_usage': {'completion_tokens': 358, 'prompt_tokens': 520, 'total_tokens': 878, 'completion_tokens_details': {'accepted_prediction_tokens': 0, 'audio_tokens': 0, 'reasoning_tokens': 0, 'rejected_prediction_tokens': 0}, 'prompt_tokens_details': {'audio_tokens': 0, 'cached_tokens': 0}}, 'model_name': 'gpt-4o-mini-2024-07-18', 'system_fingerprint': 'fp_34a54ae93c', 'id': 'chatcmpl-BnIkm9DGMjxTMIuwjGlfKKO8GvwKN', 'service_tier': 'default', 'finish_reason': 'stop', 'logprobs': None}, id='run--a4043211-53d9-4c5c-bf8d-a4c373dc0aad-0', usage_metadata={'input_tokens': 520, 'output_tokens': 358, 'total_tokens': 878, 'input_token_details': {'audio': 0, 'cache_read': 0}, 'output_token_details': {'audio': 0, 'reasoning': 0}})]\n",
      "user123\n",
      "[HumanMessage(content='LangGraph가 무엇인가요?', additional_kwargs={}, response_metadata={}, id='cd2cf056-10cd-4862-bda9-43476999a4b2'),\n",
      " AIMessage(content='', additional_kwargs={'tool_calls': [{'id': 'call_9a4ZKd6WEdNHt5DX3QmpcmXw', 'function': {'arguments': '{\"query\":\"LangGraph\"}', 'name': 'tavily_search_results_json'}, 'type': 'function'}], 'refusal': None}, response_metadata={'token_usage': {'completion_tokens': 19, 'prompt_tokens': 86, 'total_tokens': 105, 'completion_tokens_details': {'accepted_prediction_tokens': 0, 'audio_tokens': 0, 'reasoning_tokens': 0, 'rejected_prediction_tokens': 0}, 'prompt_tokens_details': {'audio_tokens': 0, 'cached_tokens': 0}}, 'model_name': 'gpt-4o-mini-2024-07-18', 'system_fingerprint': 'fp_34a54ae93c', 'id': 'chatcmpl-BnIkjNMY0Jgwa8aqUoxMZiF5lvr9S', 'service_tier': 'default', 'finish_reason': 'tool_calls', 'logprobs': None}, id='run--ca799ffc-d291-4625-94ee-63b5e262211f-0', tool_calls=[{'name': 'tavily_search_results_json', 'args': {'query': 'LangGraph'}, 'id': 'call_9a4ZKd6WEdNHt5DX3QmpcmXw', 'type': 'tool_call'}], usage_metadata={'input_tokens': 86, 'output_tokens': 19, 'total_tokens': 105, 'input_token_details': {'audio': 0, 'cache_read': 0}, 'output_token_details': {'audio': 0, 'reasoning': 0}}),\n",
      " ToolMessage(content='[{\"title\": \"What is LangGraph? - IBM\", \"url\": \"https://www.ibm.com/think/topics/langgraph\", \"content\": \"LangGraph, created by LangChain, is an open source AI agent framework designed to build, deploy and manage complex generative AI agent workflows. It provides a set of tools and libraries that enable users to create, run and optimize large language models (LLMs) in a scalable and efficient manner. At its core, LangGraph uses the power of graph-based architectures to model and manage the intricate relationships between various components of an AI agent workflow. [...] Agent systems: LangGraph provides a framework for building agent-based systems, which can be used in applications such as robotics, autonomous vehicles or video games.\\\\n\\\\nLLM applications: By using LangGraph’s capabilities, developers can build more sophisticated AI models that learn and improve over time. Norwegian Cruise Line uses LangGraph to compile, construct and refine guest-facing AI solutions. This capability allows for improved and personalized guest experiences. [...] By using a graph-based architecture, LangGraph enables users to scale artificial intelligence workflows without slowing down or sacrificing efficiency. LangGraph uses enhanced decision-making by modeling complex relationships between nodes, which means it uses AI agents to analyze their past actions and feedback. In the world of LLMs, this process is referred to as reflection.\", \"score\": 0.9353998}, {\"title\": \"What is LangGraph? - GeeksforGeeks\", \"url\": \"https://www.geeksforgeeks.org/machine-learning/what-is-langgraph/\", \"content\": \"LangGraph is a Python library that helps you build applications like chatbots or AI agents by organizing their logic step-by-step using state machine model. This means you can define how the application should behave at each step such as classifying input, generating a response or calling a tool and the application remembers its progress by storing information in a shared state.\", \"score\": 0.9301101}]', name='tavily_search_results_json', id='7b7ebab2-57ed-4cce-8781-8260ce1a8f5a', tool_call_id='call_9a4ZKd6WEdNHt5DX3QmpcmXw', artifact={'query': 'LangGraph', 'follow_up_questions': None, 'answer': None, 'images': [], 'results': [{'url': 'https://www.ibm.com/think/topics/langgraph', 'title': 'What is LangGraph? - IBM', 'content': 'LangGraph, created by LangChain, is an open source AI agent framework designed to build, deploy and manage complex generative AI agent workflows. It provides a set of tools and libraries that enable users to create, run and optimize large language models (LLMs) in a scalable and efficient manner. At its core, LangGraph uses the power of graph-based architectures to model and manage the intricate relationships between various components of an AI agent workflow. [...] Agent systems: LangGraph provides a framework for building agent-based systems, which can be used in applications such as robotics, autonomous vehicles or video games.\\n\\nLLM applications: By using LangGraph’s capabilities, developers can build more sophisticated AI models that learn and improve over time. Norwegian Cruise Line uses LangGraph to compile, construct and refine guest-facing AI solutions. This capability allows for improved and personalized guest experiences. [...] By using a graph-based architecture, LangGraph enables users to scale artificial intelligence workflows without slowing down or sacrificing efficiency. LangGraph uses enhanced decision-making by modeling complex relationships between nodes, which means it uses AI agents to analyze their past actions and feedback. In the world of LLMs, this process is referred to as reflection.', 'score': 0.9353998, 'raw_content': None}, {'title': 'What is LangGraph? - GeeksforGeeks', 'url': 'https://www.geeksforgeeks.org/machine-learning/what-is-langgraph/', 'content': 'LangGraph is a Python library that helps you build applications like chatbots or AI agents by organizing their logic step-by-step using state machine model. This means you can define how the application should behave at each step such as classifying input, generating a response or calling a tool and the application remembers its progress by storing information in a shared state.', 'score': 0.9301101, 'raw_content': None}], 'response_time': 1.03}),\n",
      " AIMessage(content='LangGraph는 복잡한 생성적 AI 에이전트 워크플로우를 구축, 배포 및 관리하기 위한 오픈 소스 AI 에이전트 프레임워크입니다. 이 프레임워크는 다양한 AI 에이전트 구성 요소 간의 관계를 모델링하고 관리하기 위해 그래프 기반 아키텍처를 사용합니다. LangGraph를 이용하면 사용자는 대형 언어 모델(LLM)을 효율적이고 확장 가능하게 생성, 실행 및 최적화할 수 있습니다.\\n\\n### 주요 기능\\n1. **에이전트 시스템 구축**: LangGraph는 로봇 공학, 자율 차량, 비디오 게임 등 다양한 애플리케이션에서 사용될 수 있는 에이전트 기반 시스템 구축을 지원합니다.\\n2. **LLM 애플리케이션**: LangGraph의 기능을 활용하여 개발자는 시간이 지남에 따라 학습하고 개선되는 보다 정교한 AI 모델을 구축할 수 있습니다.\\n3. **상태 기계 모델**: Python 라이브러리로서 LangGraph는 챗봇이나 AI 에이전트를 단계별로 논리를 조직하여 애플리케이션의 동작을 정의하는 데 도움을 줍니다. 각 단계에서 입력을 분류하거나 응답을 생성하는 등의 작업을 수행하며, 애플리케이션은 정보를 공유 상태에 저장함으로써 진행 상황을 기억합니다.\\n\\n자세한 내용은 [IBM의 설명](https://www.ibm.com/think/topics/langgraph)과 [GeeksforGeeks의 설명](https://www.geeksforgeeks.org/machine-learning/what-is-langgraph/)에서 확인할 수 있습니다.', additional_kwargs={'refusal': None}, response_metadata={'token_usage': {'completion_tokens': 358, 'prompt_tokens': 520, 'total_tokens': 878, 'completion_tokens_details': {'accepted_prediction_tokens': 0, 'audio_tokens': 0, 'reasoning_tokens': 0, 'rejected_prediction_tokens': 0}, 'prompt_tokens_details': {'audio_tokens': 0, 'cached_tokens': 0}}, 'model_name': 'gpt-4o-mini-2024-07-18', 'system_fingerprint': 'fp_34a54ae93c', 'id': 'chatcmpl-BnIkm9DGMjxTMIuwjGlfKKO8GvwKN', 'service_tier': 'default', 'finish_reason': 'stop', 'logprobs': None}, id='run--a4043211-53d9-4c5c-bf8d-a4c373dc0aad-0', usage_metadata={'input_tokens': 520, 'output_tokens': 358, 'total_tokens': 878, 'input_token_details': {'audio': 0, 'cache_read': 0}, 'output_token_details': {'audio': 0, 'reasoning': 0}})]\n",
      "user123\n",
      "[HumanMessage(content='LangGraph가 무엇인가요?', additional_kwargs={}, response_metadata={}, id='cd2cf056-10cd-4862-bda9-43476999a4b2'),\n",
      " AIMessage(content='', additional_kwargs={'tool_calls': [{'id': 'call_9a4ZKd6WEdNHt5DX3QmpcmXw', 'function': {'arguments': '{\"query\":\"LangGraph\"}', 'name': 'tavily_search_results_json'}, 'type': 'function'}], 'refusal': None}, response_metadata={'token_usage': {'completion_tokens': 19, 'prompt_tokens': 86, 'total_tokens': 105, 'completion_tokens_details': {'accepted_prediction_tokens': 0, 'audio_tokens': 0, 'reasoning_tokens': 0, 'rejected_prediction_tokens': 0}, 'prompt_tokens_details': {'audio_tokens': 0, 'cached_tokens': 0}}, 'model_name': 'gpt-4o-mini-2024-07-18', 'system_fingerprint': 'fp_34a54ae93c', 'id': 'chatcmpl-BnIkjNMY0Jgwa8aqUoxMZiF5lvr9S', 'service_tier': 'default', 'finish_reason': 'tool_calls', 'logprobs': None}, id='run--ca799ffc-d291-4625-94ee-63b5e262211f-0', tool_calls=[{'name': 'tavily_search_results_json', 'args': {'query': 'LangGraph'}, 'id': 'call_9a4ZKd6WEdNHt5DX3QmpcmXw', 'type': 'tool_call'}], usage_metadata={'input_tokens': 86, 'output_tokens': 19, 'total_tokens': 105, 'input_token_details': {'audio': 0, 'cache_read': 0}, 'output_token_details': {'audio': 0, 'reasoning': 0}}),\n",
      " ToolMessage(content='[{\"title\": \"What is LangGraph? - IBM\", \"url\": \"https://www.ibm.com/think/topics/langgraph\", \"content\": \"LangGraph, created by LangChain, is an open source AI agent framework designed to build, deploy and manage complex generative AI agent workflows. It provides a set of tools and libraries that enable users to create, run and optimize large language models (LLMs) in a scalable and efficient manner. At its core, LangGraph uses the power of graph-based architectures to model and manage the intricate relationships between various components of an AI agent workflow. [...] Agent systems: LangGraph provides a framework for building agent-based systems, which can be used in applications such as robotics, autonomous vehicles or video games.\\\\n\\\\nLLM applications: By using LangGraph’s capabilities, developers can build more sophisticated AI models that learn and improve over time. Norwegian Cruise Line uses LangGraph to compile, construct and refine guest-facing AI solutions. This capability allows for improved and personalized guest experiences. [...] By using a graph-based architecture, LangGraph enables users to scale artificial intelligence workflows without slowing down or sacrificing efficiency. LangGraph uses enhanced decision-making by modeling complex relationships between nodes, which means it uses AI agents to analyze their past actions and feedback. In the world of LLMs, this process is referred to as reflection.\", \"score\": 0.9353998}, {\"title\": \"What is LangGraph? - GeeksforGeeks\", \"url\": \"https://www.geeksforgeeks.org/machine-learning/what-is-langgraph/\", \"content\": \"LangGraph is a Python library that helps you build applications like chatbots or AI agents by organizing their logic step-by-step using state machine model. This means you can define how the application should behave at each step such as classifying input, generating a response or calling a tool and the application remembers its progress by storing information in a shared state.\", \"score\": 0.9301101}]', name='tavily_search_results_json', id='7b7ebab2-57ed-4cce-8781-8260ce1a8f5a', tool_call_id='call_9a4ZKd6WEdNHt5DX3QmpcmXw', artifact={'query': 'LangGraph', 'follow_up_questions': None, 'answer': None, 'images': [], 'results': [{'url': 'https://www.ibm.com/think/topics/langgraph', 'title': 'What is LangGraph? - IBM', 'content': 'LangGraph, created by LangChain, is an open source AI agent framework designed to build, deploy and manage complex generative AI agent workflows. It provides a set of tools and libraries that enable users to create, run and optimize large language models (LLMs) in a scalable and efficient manner. At its core, LangGraph uses the power of graph-based architectures to model and manage the intricate relationships between various components of an AI agent workflow. [...] Agent systems: LangGraph provides a framework for building agent-based systems, which can be used in applications such as robotics, autonomous vehicles or video games.\\n\\nLLM applications: By using LangGraph’s capabilities, developers can build more sophisticated AI models that learn and improve over time. Norwegian Cruise Line uses LangGraph to compile, construct and refine guest-facing AI solutions. This capability allows for improved and personalized guest experiences. [...] By using a graph-based architecture, LangGraph enables users to scale artificial intelligence workflows without slowing down or sacrificing efficiency. LangGraph uses enhanced decision-making by modeling complex relationships between nodes, which means it uses AI agents to analyze their past actions and feedback. In the world of LLMs, this process is referred to as reflection.', 'score': 0.9353998, 'raw_content': None}, {'title': 'What is LangGraph? - GeeksforGeeks', 'url': 'https://www.geeksforgeeks.org/machine-learning/what-is-langgraph/', 'content': 'LangGraph is a Python library that helps you build applications like chatbots or AI agents by organizing their logic step-by-step using state machine model. This means you can define how the application should behave at each step such as classifying input, generating a response or calling a tool and the application remembers its progress by storing information in a shared state.', 'score': 0.9301101, 'raw_content': None}], 'response_time': 1.03})]\n",
      "user123\n",
      "[HumanMessage(content='LangGraph가 무엇인가요?', additional_kwargs={}, response_metadata={}, id='cd2cf056-10cd-4862-bda9-43476999a4b2'),\n",
      " AIMessage(content='', additional_kwargs={'tool_calls': [{'id': 'call_9a4ZKd6WEdNHt5DX3QmpcmXw', 'function': {'arguments': '{\"query\":\"LangGraph\"}', 'name': 'tavily_search_results_json'}, 'type': 'function'}], 'refusal': None}, response_metadata={'token_usage': {'completion_tokens': 19, 'prompt_tokens': 86, 'total_tokens': 105, 'completion_tokens_details': {'accepted_prediction_tokens': 0, 'audio_tokens': 0, 'reasoning_tokens': 0, 'rejected_prediction_tokens': 0}, 'prompt_tokens_details': {'audio_tokens': 0, 'cached_tokens': 0}}, 'model_name': 'gpt-4o-mini-2024-07-18', 'system_fingerprint': 'fp_34a54ae93c', 'id': 'chatcmpl-BnIkjNMY0Jgwa8aqUoxMZiF5lvr9S', 'service_tier': 'default', 'finish_reason': 'tool_calls', 'logprobs': None}, id='run--ca799ffc-d291-4625-94ee-63b5e262211f-0', tool_calls=[{'name': 'tavily_search_results_json', 'args': {'query': 'LangGraph'}, 'id': 'call_9a4ZKd6WEdNHt5DX3QmpcmXw', 'type': 'tool_call'}], usage_metadata={'input_tokens': 86, 'output_tokens': 19, 'total_tokens': 105, 'input_token_details': {'audio': 0, 'cache_read': 0}, 'output_token_details': {'audio': 0, 'reasoning': 0}})]\n",
      "user123\n",
      "[HumanMessage(content='LangGraph가 무엇인가요?', additional_kwargs={}, response_metadata={}, id='cd2cf056-10cd-4862-bda9-43476999a4b2')]\n",
      "user123\n",
      "No messages found in this snapshot.\n",
      "user456\n",
      "[HumanMessage(content='그것을 만든 회사는 어딘가요?', additional_kwargs={}, response_metadata={}, id='74f8c202-5f9d-4663-959c-a556d91780a5'),\n",
      " AIMessage(content='더 많은 정보가 필요합니다. \"그것\"이 어떤 것을 의미하는지 구체적으로 말씀해 주실 수 있나요?', additional_kwargs={'refusal': None}, response_metadata={'token_usage': {'completion_tokens': 29, 'prompt_tokens': 91, 'total_tokens': 120, 'completion_tokens_details': {'accepted_prediction_tokens': 0, 'audio_tokens': 0, 'reasoning_tokens': 0, 'rejected_prediction_tokens': 0}, 'prompt_tokens_details': {'audio_tokens': 0, 'cached_tokens': 0}}, 'model_name': 'gpt-4o-mini-2024-07-18', 'system_fingerprint': 'fp_34a54ae93c', 'id': 'chatcmpl-BnIksxsu7EKmibkunpXi1PLdYIHoB', 'service_tier': 'default', 'finish_reason': 'stop', 'logprobs': None}, id='run--4e9ce209-4389-458c-a8d6-ea0dad3e2bc8-0', usage_metadata={'input_tokens': 91, 'output_tokens': 29, 'total_tokens': 120, 'input_token_details': {'audio': 0, 'cache_read': 0}, 'output_token_details': {'audio': 0, 'reasoning': 0}})]\n",
      "user456\n",
      "[HumanMessage(content='그것을 만든 회사는 어딘가요?', additional_kwargs={}, response_metadata={}, id='74f8c202-5f9d-4663-959c-a556d91780a5')]\n",
      "user456\n",
      "No messages found in this snapshot.\n"
     ]
    }
   ],
   "source": [
    "from pprint import pprint\n",
    "# 체크포인터가 MemorySaver일 경우 예시\n",
    "all_snapshots = memory.list({})  # 모든 thread_id 상태 조회\n",
    "for snapshot in all_snapshots:\n",
    "    print(snapshot.config['configurable']['thread_id'])\n",
    "    if 'messages' in snapshot.checkpoint['channel_values']:\n",
    "        pprint(snapshot.checkpoint['channel_values']['messages'])\n",
    "    else:\n",
    "        print(\"No messages found in this snapshot.\")"
   ]
  }
 ],
 "metadata": {
  "kernelspec": {
   "display_name": "Python 3",
   "language": "python",
   "name": "python3"
  },
  "language_info": {
   "codemirror_mode": {
    "name": "ipython",
    "version": 3
   },
   "file_extension": ".py",
   "mimetype": "text/x-python",
   "name": "python",
   "nbconvert_exporter": "python",
   "pygments_lexer": "ipython3",
   "version": "3.11.13"
  }
 },
 "nbformat": 4,
 "nbformat_minor": 5
}
