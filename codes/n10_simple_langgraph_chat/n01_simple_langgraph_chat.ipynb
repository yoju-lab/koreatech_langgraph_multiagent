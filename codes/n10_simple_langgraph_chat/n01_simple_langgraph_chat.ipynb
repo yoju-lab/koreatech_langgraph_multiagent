{
 "cells": [
  {
   "cell_type": "code",
   "execution_count": 4,
   "id": "6b31c479",
   "metadata": {},
   "outputs": [],
   "source": [
    "from langchain_openai import ChatOpenAI\n",
    "from langgraph.graph import StateGraph, START, END\n",
    "from langgraph.graph.message import add_messages\n",
    "from typing_extensions import TypedDict\n",
    "from typing import Annotated, List\n",
    "from dotenv import load_dotenv\n",
    "import os"
   ]
  },
  {
   "cell_type": "code",
   "execution_count": 5,
   "id": "2db03d81",
   "metadata": {},
   "outputs": [],
   "source": [
    "load_dotenv()\n",
    "\n",
    "openai_model = os.getenv(\"OPENAI_MODEL\", \"gpt-4o-mini\")\n"
   ]
  },
  {
   "cell_type": "code",
   "execution_count": 6,
   "id": "34026396",
   "metadata": {},
   "outputs": [],
   "source": [
    "class State(TypedDict):\n",
    "    # messages: Annotated[List, add_messages]\n",
    "    messages: []\n",
    "\n",
    "llm = ChatOpenAI(model=openai_model)\n",
    "\n",
    "def chatbot(state: State):\n",
    "    response = llm.invoke(state[\"messages\"])\n",
    "    return {\"messages\": [response]}"
   ]
  },
  {
   "cell_type": "code",
   "execution_count": 10,
   "id": "a57f6113",
   "metadata": {},
   "outputs": [],
   "source": [
    "\n",
    "workflow = StateGraph(State)\n",
    "workflow.add_edge(START, \"chatbot\")\n",
    "workflow.add_node(\"chatbot\", chatbot)\n",
    "workflow.add_edge(\"chatbot\", END)\n",
    "graph = workflow.compile()"
   ]
  },
  {
   "cell_type": "code",
   "execution_count": 11,
   "id": "035a62b5",
   "metadata": {},
   "outputs": [
    {
     "name": "stderr",
     "output_type": "stream",
     "text": [
      "/usr/local/lib/python3.11/site-packages/pydantic/_internal/_generate_schema.py:628: UserWarning: [] is not a Python type (it may be an instance of an object), Pydantic will allow any object with no validation since we cannot even enforce that the input is an instance of the given type. To get rid of this error wrap the type with `pydantic.SkipValidation`.\n",
      "  warn(\n"
     ]
    },
    {
     "data": {
      "image/png": "[encoded data removed]",
      "text/plain": [
       "<IPython.core.display.Image object>"
      ]
     },
     "metadata": {},
     "output_type": "display_data"
    }
   ],
   "source": [
    "from IPython.display import Image, display\n",
    "\n",
    "display(Image(graph.get_graph().draw_mermaid_png()))"
   ]
  },
  {
   "cell_type": "code",
   "execution_count": 9,
   "id": "5c8350fc",
   "metadata": {},
   "outputs": [
    {
     "name": "stdout",
     "output_type": "stream",
     "text": [
      "LangGraph는 언어 모델과 그래프 이론을 결합하여 자연어 처리(NLP)와 관련된 다양한 작업을 수행하는 시스템이나 기술을 의미할 수 있습니다. 일반적으로 \"Lang\"는 언어(Language)를 의미하고, \"Graph\"는 그래프 구조나 네트워크를 나타냅니다. \n",
      "\n",
      "이러한 접근 방식은 언어의 의미론적 관계를 그래프로 표현하여, 단어와 그들 사이의 관계를 시각화하고 분석하는 데 도움을 줄 수 있습니다. 예를 들어, LangGraph는 다음과 같은 작업에 사용할 수 있습니다:\n",
      "\n",
      "1. **지식 표현**: 개념 간의 관계를 그래프 형태로 표현하여 언어 모델이 더 깊이 있는 이해를 할 수 있게 도와줍니다.\n",
      "2. **정보 검색**: 특정 개념이나 질문에 대한 관련 정보를 그래프에서 쉽게 추출할 수 있습니다.\n",
      "3. **다양한 NLP 작업**: 기계 번역, 질의 응답 시스템, 텍스트 요약 등 다양한 NLP 작업을 지원할 수 있습니다.\n",
      "\n",
      "LangGraph의 구체적인 구현이나 기능은 개발자나 연구자에 따라 다를 수 있으며, 관련 최신 연구나 문헌을 참고하는 것이 좋습니다. 특정 LangGraph라는 이름의 라이브러리나 프로젝트도 존재할 수 있으므로, 구체적인 맥락에 따라 다르게 해석될 수도 있습니다.\n"
     ]
    }
   ],
   "source": [
    "from langchain_core.messages import HumanMessage\n",
    "\n",
    "user_input = \"LangGraph가 무엇인가요?\"\n",
    "state = {\"messages\": [HumanMessage(content=user_input)]}\n",
    "response = graph.invoke(state)\n",
    "\n",
    "print(response[\"messages\"][-1].content)\n"
   ]
  },
  {
   "cell_type": "code",
   "execution_count": null,
   "id": "a70e828f",
   "metadata": {},
   "outputs": [],
   "source": []
  }
 ],
 "metadata": {
  "kernelspec": {
   "display_name": "Python 3",
   "language": "python",
   "name": "python3"
  },
  "language_info": {
   "codemirror_mode": {
    "name": "ipython",
    "version": 3
   },
   "file_extension": ".py",
   "mimetype": "text/x-python",
   "name": "python",
   "nbconvert_exporter": "python",
   "pygments_lexer": "ipython3",
   "version": "3.11.13"
  }
 },
 "nbformat": 4,
 "nbformat_minor": 5
}
